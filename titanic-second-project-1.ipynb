{
 "cells": [
  {
   "cell_type": "code",
   "execution_count": 1,
   "id": "cf2afd3f",
   "metadata": {
    "_cell_guid": "b1076dfc-b9ad-4769-8c92-a6c4dae69d19",
    "_uuid": "8f2839f25d086af736a60e9eeb907d3b93b6e0e5",
    "execution": {
     "iopub.execute_input": "2022-03-03T14:56:31.798206Z",
     "iopub.status.busy": "2022-03-03T14:56:31.797009Z",
     "iopub.status.idle": "2022-03-03T14:56:32.577328Z",
     "shell.execute_reply": "2022-03-03T14:56:32.576524Z",
     "shell.execute_reply.started": "2022-03-03T13:48:48.629760Z"
    },
    "papermill": {
     "duration": 0.819825,
     "end_time": "2022-03-03T14:56:32.577464",
     "exception": false,
     "start_time": "2022-03-03T14:56:31.757639",
     "status": "completed"
    },
    "tags": []
   },
   "outputs": [],
   "source": [
    "import numpy as np\n",
    "import matplotlib.pyplot as plt\n",
    "import pandas as pd\n",
    "import seaborn as sns\n",
    "plt.style.use('fivethirtyeight')\n",
    "import warnings\n",
    "warnings.filterwarnings('ignore')\n",
    "%matplotlib inline"
   ]
  },
  {
   "cell_type": "code",
   "execution_count": 2,
   "id": "801c0409",
   "metadata": {
    "execution": {
     "iopub.execute_input": "2022-03-03T14:56:32.627272Z",
     "iopub.status.busy": "2022-03-03T14:56:32.626767Z",
     "iopub.status.idle": "2022-03-03T14:56:32.640446Z",
     "shell.execute_reply": "2022-03-03T14:56:32.640833Z",
     "shell.execute_reply.started": "2022-03-03T13:49:33.174540Z"
    },
    "papermill": {
     "duration": 0.040187,
     "end_time": "2022-03-03T14:56:32.640994",
     "exception": false,
     "start_time": "2022-03-03T14:56:32.600807",
     "status": "completed"
    },
    "tags": []
   },
   "outputs": [],
   "source": [
    "data = pd.read_csv('../input/titanic/train.csv')"
   ]
  },
  {
   "cell_type": "code",
   "execution_count": 3,
   "id": "b6ffb04d",
   "metadata": {
    "execution": {
     "iopub.execute_input": "2022-03-03T14:56:32.694545Z",
     "iopub.status.busy": "2022-03-03T14:56:32.694070Z",
     "iopub.status.idle": "2022-03-03T14:56:32.711604Z",
     "shell.execute_reply": "2022-03-03T14:56:32.712094Z",
     "shell.execute_reply.started": "2022-03-03T13:49:46.643374Z"
    },
    "papermill": {
     "duration": 0.048484,
     "end_time": "2022-03-03T14:56:32.712234",
     "exception": false,
     "start_time": "2022-03-03T14:56:32.663750",
     "status": "completed"
    },
    "tags": []
   },
   "outputs": [
    {
     "data": {
      "text/html": [
       "<div>\n",
       "<style scoped>\n",
       "    .dataframe tbody tr th:only-of-type {\n",
       "        vertical-align: middle;\n",
       "    }\n",
       "\n",
       "    .dataframe tbody tr th {\n",
       "        vertical-align: top;\n",
       "    }\n",
       "\n",
       "    .dataframe thead th {\n",
       "        text-align: right;\n",
       "    }\n",
       "</style>\n",
       "<table border=\"1\" class=\"dataframe\">\n",
       "  <thead>\n",
       "    <tr style=\"text-align: right;\">\n",
       "      <th></th>\n",
       "      <th>PassengerId</th>\n",
       "      <th>Survived</th>\n",
       "      <th>Pclass</th>\n",
       "      <th>Name</th>\n",
       "      <th>Sex</th>\n",
       "      <th>Age</th>\n",
       "      <th>SibSp</th>\n",
       "      <th>Parch</th>\n",
       "      <th>Ticket</th>\n",
       "      <th>Fare</th>\n",
       "      <th>Cabin</th>\n",
       "      <th>Embarked</th>\n",
       "    </tr>\n",
       "  </thead>\n",
       "  <tbody>\n",
       "    <tr>\n",
       "      <th>0</th>\n",
       "      <td>1</td>\n",
       "      <td>0</td>\n",
       "      <td>3</td>\n",
       "      <td>Braund, Mr. Owen Harris</td>\n",
       "      <td>male</td>\n",
       "      <td>22.0</td>\n",
       "      <td>1</td>\n",
       "      <td>0</td>\n",
       "      <td>A/5 21171</td>\n",
       "      <td>7.2500</td>\n",
       "      <td>NaN</td>\n",
       "      <td>S</td>\n",
       "    </tr>\n",
       "    <tr>\n",
       "      <th>1</th>\n",
       "      <td>2</td>\n",
       "      <td>1</td>\n",
       "      <td>1</td>\n",
       "      <td>Cumings, Mrs. John Bradley (Florence Briggs Th...</td>\n",
       "      <td>female</td>\n",
       "      <td>38.0</td>\n",
       "      <td>1</td>\n",
       "      <td>0</td>\n",
       "      <td>PC 17599</td>\n",
       "      <td>71.2833</td>\n",
       "      <td>C85</td>\n",
       "      <td>C</td>\n",
       "    </tr>\n",
       "    <tr>\n",
       "      <th>2</th>\n",
       "      <td>3</td>\n",
       "      <td>1</td>\n",
       "      <td>3</td>\n",
       "      <td>Heikkinen, Miss. Laina</td>\n",
       "      <td>female</td>\n",
       "      <td>26.0</td>\n",
       "      <td>0</td>\n",
       "      <td>0</td>\n",
       "      <td>STON/O2. 3101282</td>\n",
       "      <td>7.9250</td>\n",
       "      <td>NaN</td>\n",
       "      <td>S</td>\n",
       "    </tr>\n",
       "    <tr>\n",
       "      <th>3</th>\n",
       "      <td>4</td>\n",
       "      <td>1</td>\n",
       "      <td>1</td>\n",
       "      <td>Futrelle, Mrs. Jacques Heath (Lily May Peel)</td>\n",
       "      <td>female</td>\n",
       "      <td>35.0</td>\n",
       "      <td>1</td>\n",
       "      <td>0</td>\n",
       "      <td>113803</td>\n",
       "      <td>53.1000</td>\n",
       "      <td>C123</td>\n",
       "      <td>S</td>\n",
       "    </tr>\n",
       "    <tr>\n",
       "      <th>4</th>\n",
       "      <td>5</td>\n",
       "      <td>0</td>\n",
       "      <td>3</td>\n",
       "      <td>Allen, Mr. William Henry</td>\n",
       "      <td>male</td>\n",
       "      <td>35.0</td>\n",
       "      <td>0</td>\n",
       "      <td>0</td>\n",
       "      <td>373450</td>\n",
       "      <td>8.0500</td>\n",
       "      <td>NaN</td>\n",
       "      <td>S</td>\n",
       "    </tr>\n",
       "  </tbody>\n",
       "</table>\n",
       "</div>"
      ],
      "text/plain": [
       "   PassengerId  Survived  Pclass  \\\n",
       "0            1         0       3   \n",
       "1            2         1       1   \n",
       "2            3         1       3   \n",
       "3            4         1       1   \n",
       "4            5         0       3   \n",
       "\n",
       "                                                Name     Sex   Age  SibSp  \\\n",
       "0                            Braund, Mr. Owen Harris    male  22.0      1   \n",
       "1  Cumings, Mrs. John Bradley (Florence Briggs Th...  female  38.0      1   \n",
       "2                             Heikkinen, Miss. Laina  female  26.0      0   \n",
       "3       Futrelle, Mrs. Jacques Heath (Lily May Peel)  female  35.0      1   \n",
       "4                           Allen, Mr. William Henry    male  35.0      0   \n",
       "\n",
       "   Parch            Ticket     Fare Cabin Embarked  \n",
       "0      0         A/5 21171   7.2500   NaN        S  \n",
       "1      0          PC 17599  71.2833   C85        C  \n",
       "2      0  STON/O2. 3101282   7.9250   NaN        S  \n",
       "3      0            113803  53.1000  C123        S  \n",
       "4      0            373450   8.0500   NaN        S  "
      ]
     },
     "execution_count": 3,
     "metadata": {},
     "output_type": "execute_result"
    }
   ],
   "source": [
    "data.head()"
   ]
  },
  {
   "cell_type": "code",
   "execution_count": 4,
   "id": "01f1dc51",
   "metadata": {
    "execution": {
     "iopub.execute_input": "2022-03-03T14:56:32.771131Z",
     "iopub.status.busy": "2022-03-03T14:56:32.770456Z",
     "iopub.status.idle": "2022-03-03T14:56:32.776411Z",
     "shell.execute_reply": "2022-03-03T14:56:32.775972Z",
     "shell.execute_reply.started": "2022-03-03T13:50:25.572097Z"
    },
    "papermill": {
     "duration": 0.036808,
     "end_time": "2022-03-03T14:56:32.776525",
     "exception": false,
     "start_time": "2022-03-03T14:56:32.739717",
     "status": "completed"
    },
    "tags": []
   },
   "outputs": [
    {
     "data": {
      "text/plain": [
       "PassengerId      0\n",
       "Survived         0\n",
       "Pclass           0\n",
       "Name             0\n",
       "Sex              0\n",
       "Age            177\n",
       "SibSp            0\n",
       "Parch            0\n",
       "Ticket           0\n",
       "Fare             0\n",
       "Cabin          687\n",
       "Embarked         2\n",
       "dtype: int64"
      ]
     },
     "execution_count": 4,
     "metadata": {},
     "output_type": "execute_result"
    }
   ],
   "source": [
    "data.isnull().sum() # 모든 null data를 확인"
   ]
  },
  {
   "cell_type": "markdown",
   "id": "165d65ed",
   "metadata": {
    "papermill": {
     "duration": 0.023581,
     "end_time": "2022-03-03T14:56:32.823852",
     "exception": false,
     "start_time": "2022-03-03T14:56:32.800271",
     "status": "completed"
    },
    "tags": []
   },
   "source": [
    "- Age, Cabin, Embarked가 null data이므로 채워주기"
   ]
  },
  {
   "cell_type": "code",
   "execution_count": 5,
   "id": "91bb49e3",
   "metadata": {
    "execution": {
     "iopub.execute_input": "2022-03-03T14:56:32.874545Z",
     "iopub.status.busy": "2022-03-03T14:56:32.873931Z",
     "iopub.status.idle": "2022-03-03T14:56:33.172070Z",
     "shell.execute_reply": "2022-03-03T14:56:33.171628Z",
     "shell.execute_reply.started": "2022-03-03T13:55:24.615111Z"
    },
    "papermill": {
     "duration": 0.324216,
     "end_time": "2022-03-03T14:56:33.172196",
     "exception": false,
     "start_time": "2022-03-03T14:56:32.847980",
     "status": "completed"
    },
    "tags": []
   },
   "outputs": [
    {
     "data": {
      "image/png": "[encoded data removed]",
      "text/plain": [
       "<Figure size 1296x576 with 2 Axes>"
      ]
     },
     "metadata": {
      "needs_background": "light"
     },
     "output_type": "display_data"
    }
   ],
   "source": [
    "f, ax = plt.subplots(1,2,figsize = (18,8))\n",
    "data['Survived'].value_counts().plot.pie(explode = [0,0.1], autopct = '%1.1f%%', ax = ax[0], shadow = True)\n",
    "ax[0].set_title('Survived')\n",
    "ax[0].set_ylabel(' ')\n",
    "sns.countplot('Survived', data = data, ax= ax[1])\n",
    "ax[1].set_title('Survived')\n",
    "plt.show()"
   ]
  },
  {
   "cell_type": "markdown",
   "id": "851da0f4",
   "metadata": {
    "papermill": {
     "duration": 0.023835,
     "end_time": "2022-03-03T14:56:33.220451",
     "exception": false,
     "start_time": "2022-03-03T14:56:33.196616",
     "status": "completed"
    },
    "tags": []
   },
   "source": [
    "- 891명중 38.4%만 생존, 각 class별로 생존과 어떤 상관관계가 있는지 파악해야 한다.\n",
    "- 그러기 위해서 먼저 특성들의 type를 알아야 한다."
   ]
  },
  {
   "cell_type": "markdown",
   "id": "760411ae",
   "metadata": {
    "papermill": {
     "duration": 0.025006,
     "end_time": "2022-03-03T14:56:33.269894",
     "exception": false,
     "start_time": "2022-03-03T14:56:33.244888",
     "status": "completed"
    },
    "tags": []
   },
   "source": [
    "## type of Features\n",
    "- categorical Feature\n",
    "    - 범주형 자료 : 두 개 이상의 범주가 있는 변수이다. \n",
    "    - Sex (male, female), Embarked(S, C, Q) 등이 여기에 속한다. \n",
    "- ordinal Feature(순서형 특성)\n",
    "    - 범주형 자료와 비슷하지만 각각의 값 간의 상대적 순서 지정 또는 정렬이 가능 (ex : 높음, 중간, 짧음)\n",
    "    - Pclass (1,2,3)등이 여기에 속함\n",
    "- continous Feature\n",
    "    - 연속적으로 나오는 데이터, 항상 최소, 최대값의 사이값들을 구할 수 있다 .\n",
    "    - age가 여기 속한다."
   ]
  },
  {
   "cell_type": "markdown",
   "id": "e13e2fe7",
   "metadata": {
    "execution": {
     "iopub.execute_input": "2022-03-03T14:04:40.717597Z",
     "iopub.status.busy": "2022-03-03T14:04:40.716618Z",
     "iopub.status.idle": "2022-03-03T14:04:40.727301Z",
     "shell.execute_reply": "2022-03-03T14:04:40.726362Z",
     "shell.execute_reply.started": "2022-03-03T14:04:40.717557Z"
    },
    "papermill": {
     "duration": 0.024085,
     "end_time": "2022-03-03T14:56:33.318197",
     "exception": false,
     "start_time": "2022-03-03T14:56:33.294112",
     "status": "completed"
    },
    "tags": []
   },
   "source": [
    "### Sex -> categorical Feature"
   ]
  },
  {
   "cell_type": "code",
   "execution_count": 6,
   "id": "fb0b39a9",
   "metadata": {
    "execution": {
     "iopub.execute_input": "2022-03-03T14:56:33.372340Z",
     "iopub.status.busy": "2022-03-03T14:56:33.371836Z",
     "iopub.status.idle": "2022-03-03T14:56:33.378221Z",
     "shell.execute_reply": "2022-03-03T14:56:33.377682Z",
     "shell.execute_reply.started": "2022-03-03T14:09:49.895745Z"
    },
    "papermill": {
     "duration": 0.03566,
     "end_time": "2022-03-03T14:56:33.378350",
     "exception": false,
     "start_time": "2022-03-03T14:56:33.342690",
     "status": "completed"
    },
    "tags": []
   },
   "outputs": [
    {
     "data": {
      "text/plain": [
       "Sex     Survived\n",
       "female  0            81\n",
       "        1           233\n",
       "male    0           468\n",
       "        1           109\n",
       "Name: Survived, dtype: int64"
      ]
     },
     "execution_count": 6,
     "metadata": {},
     "output_type": "execute_result"
    }
   ],
   "source": [
    "data.groupby(['Sex', 'Survived'])['Survived'].count()"
   ]
  },
  {
   "cell_type": "code",
   "execution_count": 7,
   "id": "58eec687",
   "metadata": {
    "execution": {
     "iopub.execute_input": "2022-03-03T14:56:33.458210Z",
     "iopub.status.busy": "2022-03-03T14:56:33.457554Z",
     "iopub.status.idle": "2022-03-03T14:56:33.704396Z",
     "shell.execute_reply": "2022-03-03T14:56:33.703806Z",
     "shell.execute_reply.started": "2022-03-03T14:12:24.575116Z"
    },
    "papermill": {
     "duration": 0.288058,
     "end_time": "2022-03-03T14:56:33.704533",
     "exception": false,
     "start_time": "2022-03-03T14:56:33.416475",
     "status": "completed"
    },
    "tags": []
   },
   "outputs": [
    {
     "data": {
      "image/png": "[encoded data removed]",
      "text/plain": [
       "<Figure size 1296x576 with 2 Axes>"
      ]
     },
     "metadata": {
      "needs_background": "light"
     },
     "output_type": "display_data"
    }
   ],
   "source": [
    "f, ax = plt.subplots(1,2,figsize = (18,8))\n",
    "data[['Sex', 'Survived']].groupby(['Sex']).mean().plot.bar(ax = ax[0])\n",
    "sns.countplot('Sex', hue = 'Survived', data = data, ax = ax[1])\n",
    "plt.show()"
   ]
  },
  {
   "cell_type": "markdown",
   "id": "132cf9df",
   "metadata": {
    "papermill": {
     "duration": 0.038874,
     "end_time": "2022-03-03T14:56:33.782682",
     "exception": false,
     "start_time": "2022-03-03T14:56:33.743808",
     "status": "completed"
    },
    "tags": []
   },
   "source": [
    "- 남자보다 여자의 생존율이 더 높다.\n",
    "- 중요한 특성중 하나로 보인다. \n",
    "### Pclass -> Ordinal Feature"
   ]
  },
  {
   "cell_type": "code",
   "execution_count": 8,
   "id": "8ec2a894",
   "metadata": {
    "execution": {
     "iopub.execute_input": "2022-03-03T14:56:33.865228Z",
     "iopub.status.busy": "2022-03-03T14:56:33.864568Z",
     "iopub.status.idle": "2022-03-03T14:56:33.949286Z",
     "shell.execute_reply": "2022-03-03T14:56:33.949813Z",
     "shell.execute_reply.started": "2022-03-03T14:15:26.034634Z"
    },
    "papermill": {
     "duration": 0.128486,
     "end_time": "2022-03-03T14:56:33.949994",
     "exception": false,
     "start_time": "2022-03-03T14:56:33.821508",
     "status": "completed"
    },
    "tags": []
   },
   "outputs": [
    {
     "data": {
      "text/html": [
       "<style type=\"text/css\">\n",
       "#T_498f0_row0_col0, #T_498f0_row1_col1, #T_498f0_row1_col2 {\n",
       "  background-color: #00ffff;\n",
       "  color: #000000;\n",
       "}\n",
       "#T_498f0_row0_col1 {\n",
       "  background-color: #31ceff;\n",
       "  color: #000000;\n",
       "}\n",
       "#T_498f0_row0_col2 {\n",
       "  background-color: #0bf4ff;\n",
       "  color: #000000;\n",
       "}\n",
       "#T_498f0_row1_col0 {\n",
       "  background-color: #09f6ff;\n",
       "  color: #000000;\n",
       "}\n",
       "#T_498f0_row2_col0 {\n",
       "  background-color: #9f60ff;\n",
       "  color: #f1f1f1;\n",
       "}\n",
       "#T_498f0_row2_col1 {\n",
       "  background-color: #20dfff;\n",
       "  color: #000000;\n",
       "}\n",
       "#T_498f0_row2_col2 {\n",
       "  background-color: #6f90ff;\n",
       "  color: #f1f1f1;\n",
       "}\n",
       "#T_498f0_row3_col0, #T_498f0_row3_col1, #T_498f0_row3_col2 {\n",
       "  background-color: #ff00ff;\n",
       "  color: #f1f1f1;\n",
       "}\n",
       "</style>\n",
       "<table id=\"T_498f0_\">\n",
       "  <thead>\n",
       "    <tr>\n",
       "      <th class=\"index_name level0\" >Survived</th>\n",
       "      <th class=\"col_heading level0 col0\" >0</th>\n",
       "      <th class=\"col_heading level0 col1\" >1</th>\n",
       "      <th class=\"col_heading level0 col2\" >All</th>\n",
       "    </tr>\n",
       "    <tr>\n",
       "      <th class=\"index_name level0\" >Pclass</th>\n",
       "      <th class=\"blank col0\" >&nbsp;</th>\n",
       "      <th class=\"blank col1\" >&nbsp;</th>\n",
       "      <th class=\"blank col2\" >&nbsp;</th>\n",
       "    </tr>\n",
       "  </thead>\n",
       "  <tbody>\n",
       "    <tr>\n",
       "      <th id=\"T_498f0_level0_row0\" class=\"row_heading level0 row0\" >1</th>\n",
       "      <td id=\"T_498f0_row0_col0\" class=\"data row0 col0\" >80</td>\n",
       "      <td id=\"T_498f0_row0_col1\" class=\"data row0 col1\" >136</td>\n",
       "      <td id=\"T_498f0_row0_col2\" class=\"data row0 col2\" >216</td>\n",
       "    </tr>\n",
       "    <tr>\n",
       "      <th id=\"T_498f0_level0_row1\" class=\"row_heading level0 row1\" >2</th>\n",
       "      <td id=\"T_498f0_row1_col0\" class=\"data row1 col0\" >97</td>\n",
       "      <td id=\"T_498f0_row1_col1\" class=\"data row1 col1\" >87</td>\n",
       "      <td id=\"T_498f0_row1_col2\" class=\"data row1 col2\" >184</td>\n",
       "    </tr>\n",
       "    <tr>\n",
       "      <th id=\"T_498f0_level0_row2\" class=\"row_heading level0 row2\" >3</th>\n",
       "      <td id=\"T_498f0_row2_col0\" class=\"data row2 col0\" >372</td>\n",
       "      <td id=\"T_498f0_row2_col1\" class=\"data row2 col1\" >119</td>\n",
       "      <td id=\"T_498f0_row2_col2\" class=\"data row2 col2\" >491</td>\n",
       "    </tr>\n",
       "    <tr>\n",
       "      <th id=\"T_498f0_level0_row3\" class=\"row_heading level0 row3\" >All</th>\n",
       "      <td id=\"T_498f0_row3_col0\" class=\"data row3 col0\" >549</td>\n",
       "      <td id=\"T_498f0_row3_col1\" class=\"data row3 col1\" >342</td>\n",
       "      <td id=\"T_498f0_row3_col2\" class=\"data row3 col2\" >891</td>\n",
       "    </tr>\n",
       "  </tbody>\n",
       "</table>\n"
      ],
      "text/plain": [
       "<pandas.io.formats.style.Styler at 0x7ff53871ef50>"
      ]
     },
     "execution_count": 8,
     "metadata": {},
     "output_type": "execute_result"
    }
   ],
   "source": [
    "pd.crosstab(data.Pclass, data.Survived, margins =True).style.background_gradient(cmap = 'cool')"
   ]
  },
  {
   "cell_type": "code",
   "execution_count": 9,
   "id": "263758a7",
   "metadata": {
    "execution": {
     "iopub.execute_input": "2022-03-03T14:56:34.032044Z",
     "iopub.status.busy": "2022-03-03T14:56:34.031534Z",
     "iopub.status.idle": "2022-03-03T14:56:34.298557Z",
     "shell.execute_reply": "2022-03-03T14:56:34.299173Z",
     "shell.execute_reply.started": "2022-03-03T14:18:36.560274Z"
    },
    "papermill": {
     "duration": 0.309604,
     "end_time": "2022-03-03T14:56:34.299362",
     "exception": false,
     "start_time": "2022-03-03T14:56:33.989758",
     "status": "completed"
    },
    "tags": []
   },
   "outputs": [
    {
     "data": {
      "text/plain": [
       "<AxesSubplot:xlabel='Pclass', ylabel='count'>"
      ]
     },
     "execution_count": 9,
     "metadata": {},
     "output_type": "execute_result"
    },
    {
     "data": {
      "image/png": "[encoded data removed]",
      "text/plain": [
       "<Figure size 1296x576 with 2 Axes>"
      ]
     },
     "metadata": {
      "needs_background": "light"
     },
     "output_type": "display_data"
    }
   ],
   "source": [
    "f, ax = plt.subplots(1,2,figsize = (18, 8))\n",
    "data['Pclass'].value_counts().plot.bar(color = ['#CD7F32','#FFDF00','#D3D3D3'], ax = ax[0])\n",
    "sns.countplot('Pclass', hue = 'Survived', data = data)"
   ]
  },
  {
   "cell_type": "markdown",
   "id": "0e4dd4a0",
   "metadata": {
    "papermill": {
     "duration": 0.040994,
     "end_time": "2022-03-03T14:56:34.382227",
     "exception": false,
     "start_time": "2022-03-03T14:56:34.341233",
     "status": "completed"
    },
    "tags": []
   },
   "source": [
    "- Pclass가 1인 사람, 즉 부자들이 더 많이 살았다. \n",
    "- sex와 Pclass를 같이 비교"
   ]
  },
  {
   "cell_type": "code",
   "execution_count": 10,
   "id": "aeadc297",
   "metadata": {
    "execution": {
     "iopub.execute_input": "2022-03-03T14:56:34.471237Z",
     "iopub.status.busy": "2022-03-03T14:56:34.470434Z",
     "iopub.status.idle": "2022-03-03T14:56:34.517321Z",
     "shell.execute_reply": "2022-03-03T14:56:34.517858Z",
     "shell.execute_reply.started": "2022-03-03T14:23:18.590955Z"
    },
    "papermill": {
     "duration": 0.094622,
     "end_time": "2022-03-03T14:56:34.518050",
     "exception": false,
     "start_time": "2022-03-03T14:56:34.423428",
     "status": "completed"
    },
    "tags": []
   },
   "outputs": [
    {
     "data": {
      "text/html": [
       "<style type=\"text/css\">\n",
       "#T_e75e4_row0_col0, #T_e75e4_row0_col1, #T_e75e4_row0_col3, #T_e75e4_row3_col2 {\n",
       "  background-color: #00ffff;\n",
       "  color: #000000;\n",
       "}\n",
       "#T_e75e4_row0_col2, #T_e75e4_row1_col2 {\n",
       "  background-color: #0ef1ff;\n",
       "  color: #000000;\n",
       "}\n",
       "#T_e75e4_row1_col0 {\n",
       "  background-color: #6996ff;\n",
       "  color: #f1f1f1;\n",
       "}\n",
       "#T_e75e4_row1_col1 {\n",
       "  background-color: #5ca3ff;\n",
       "  color: #f1f1f1;\n",
       "}\n",
       "#T_e75e4_row1_col3 {\n",
       "  background-color: #30cfff;\n",
       "  color: #000000;\n",
       "}\n",
       "#T_e75e4_row2_col0 {\n",
       "  background-color: #58a7ff;\n",
       "  color: #f1f1f1;\n",
       "}\n",
       "#T_e75e4_row2_col1, #T_e75e4_row2_col3 {\n",
       "  background-color: #7a85ff;\n",
       "  color: #f1f1f1;\n",
       "}\n",
       "#T_e75e4_row2_col2 {\n",
       "  background-color: #916eff;\n",
       "  color: #f1f1f1;\n",
       "}\n",
       "#T_e75e4_row3_col0 {\n",
       "  background-color: #32cdff;\n",
       "  color: #000000;\n",
       "}\n",
       "#T_e75e4_row3_col1 {\n",
       "  background-color: #0ff0ff;\n",
       "  color: #000000;\n",
       "}\n",
       "#T_e75e4_row3_col3 {\n",
       "  background-color: #08f7ff;\n",
       "  color: #000000;\n",
       "}\n",
       "#T_e75e4_row4_col0, #T_e75e4_row4_col1, #T_e75e4_row4_col2, #T_e75e4_row4_col3 {\n",
       "  background-color: #ff00ff;\n",
       "  color: #f1f1f1;\n",
       "}\n",
       "</style>\n",
       "<table id=\"T_e75e4_\">\n",
       "  <thead>\n",
       "    <tr>\n",
       "      <th class=\"blank\" >&nbsp;</th>\n",
       "      <th class=\"index_name level0\" >Pclass</th>\n",
       "      <th class=\"col_heading level0 col0\" >1</th>\n",
       "      <th class=\"col_heading level0 col1\" >2</th>\n",
       "      <th class=\"col_heading level0 col2\" >3</th>\n",
       "      <th class=\"col_heading level0 col3\" >All</th>\n",
       "    </tr>\n",
       "    <tr>\n",
       "      <th class=\"index_name level0\" >Sex</th>\n",
       "      <th class=\"index_name level1\" >Survived</th>\n",
       "      <th class=\"blank col0\" >&nbsp;</th>\n",
       "      <th class=\"blank col1\" >&nbsp;</th>\n",
       "      <th class=\"blank col2\" >&nbsp;</th>\n",
       "      <th class=\"blank col3\" >&nbsp;</th>\n",
       "    </tr>\n",
       "  </thead>\n",
       "  <tbody>\n",
       "    <tr>\n",
       "      <th id=\"T_e75e4_level0_row0\" class=\"row_heading level0 row0\" rowspan=\"2\">female</th>\n",
       "      <th id=\"T_e75e4_level1_row0\" class=\"row_heading level1 row0\" >0</th>\n",
       "      <td id=\"T_e75e4_row0_col0\" class=\"data row0 col0\" >3</td>\n",
       "      <td id=\"T_e75e4_row0_col1\" class=\"data row0 col1\" >6</td>\n",
       "      <td id=\"T_e75e4_row0_col2\" class=\"data row0 col2\" >72</td>\n",
       "      <td id=\"T_e75e4_row0_col3\" class=\"data row0 col3\" >81</td>\n",
       "    </tr>\n",
       "    <tr>\n",
       "      <th id=\"T_e75e4_level1_row1\" class=\"row_heading level1 row1\" >1</th>\n",
       "      <td id=\"T_e75e4_row1_col0\" class=\"data row1 col0\" >91</td>\n",
       "      <td id=\"T_e75e4_row1_col1\" class=\"data row1 col1\" >70</td>\n",
       "      <td id=\"T_e75e4_row1_col2\" class=\"data row1 col2\" >72</td>\n",
       "      <td id=\"T_e75e4_row1_col3\" class=\"data row1 col3\" >233</td>\n",
       "    </tr>\n",
       "    <tr>\n",
       "      <th id=\"T_e75e4_level0_row2\" class=\"row_heading level0 row2\" rowspan=\"2\">male</th>\n",
       "      <th id=\"T_e75e4_level1_row2\" class=\"row_heading level1 row2\" >0</th>\n",
       "      <td id=\"T_e75e4_row2_col0\" class=\"data row2 col0\" >77</td>\n",
       "      <td id=\"T_e75e4_row2_col1\" class=\"data row2 col1\" >91</td>\n",
       "      <td id=\"T_e75e4_row2_col2\" class=\"data row2 col2\" >300</td>\n",
       "      <td id=\"T_e75e4_row2_col3\" class=\"data row2 col3\" >468</td>\n",
       "    </tr>\n",
       "    <tr>\n",
       "      <th id=\"T_e75e4_level1_row3\" class=\"row_heading level1 row3\" >1</th>\n",
       "      <td id=\"T_e75e4_row3_col0\" class=\"data row3 col0\" >45</td>\n",
       "      <td id=\"T_e75e4_row3_col1\" class=\"data row3 col1\" >17</td>\n",
       "      <td id=\"T_e75e4_row3_col2\" class=\"data row3 col2\" >47</td>\n",
       "      <td id=\"T_e75e4_row3_col3\" class=\"data row3 col3\" >109</td>\n",
       "    </tr>\n",
       "    <tr>\n",
       "      <th id=\"T_e75e4_level0_row4\" class=\"row_heading level0 row4\" >All</th>\n",
       "      <th id=\"T_e75e4_level1_row4\" class=\"row_heading level1 row4\" ></th>\n",
       "      <td id=\"T_e75e4_row4_col0\" class=\"data row4 col0\" >216</td>\n",
       "      <td id=\"T_e75e4_row4_col1\" class=\"data row4 col1\" >184</td>\n",
       "      <td id=\"T_e75e4_row4_col2\" class=\"data row4 col2\" >491</td>\n",
       "      <td id=\"T_e75e4_row4_col3\" class=\"data row4 col3\" >891</td>\n",
       "    </tr>\n",
       "  </tbody>\n",
       "</table>\n"
      ],
      "text/plain": [
       "<pandas.io.formats.style.Styler at 0x7ff53862d3d0>"
      ]
     },
     "execution_count": 10,
     "metadata": {},
     "output_type": "execute_result"
    }
   ],
   "source": [
    "pd.crosstab([data.Sex, data.Survived], data.Pclass, margins = True).style.background_gradient(cmap='cool')"
   ]
  },
  {
   "cell_type": "code",
   "execution_count": 11,
   "id": "0c23f6cb",
   "metadata": {
    "execution": {
     "iopub.execute_input": "2022-03-03T14:56:34.579960Z",
     "iopub.status.busy": "2022-03-03T14:56:34.579484Z",
     "iopub.status.idle": "2022-03-03T14:56:34.983305Z",
     "shell.execute_reply": "2022-03-03T14:56:34.982888Z",
     "shell.execute_reply.started": "2022-03-03T14:23:54.868403Z"
    },
    "papermill": {
     "duration": 0.433244,
     "end_time": "2022-03-03T14:56:34.983426",
     "exception": false,
     "start_time": "2022-03-03T14:56:34.550182",
     "status": "completed"
    },
    "tags": []
   },
   "outputs": [
    {
     "data": {
      "image/png": "[encoded data removed]",
      "text/plain": [
       "<Figure size 430.5x360 with 1 Axes>"
      ]
     },
     "metadata": {
      "needs_background": "light"
     },
     "output_type": "display_data"
    }
   ],
   "source": [
    "sns.factorplot('Pclass', 'Survived', hue = 'Sex', data = data)\n",
    "plt.show()"
   ]
  },
  {
   "cell_type": "markdown",
   "id": "e9eeeefd",
   "metadata": {
    "papermill": {
     "duration": 0.027856,
     "end_time": "2022-03-03T14:56:35.039660",
     "exception": false,
     "start_time": "2022-03-03T14:56:35.011804",
     "status": "completed"
    },
    "tags": []
   },
   "source": [
    "- 범주형 데이터를 쉽게 분리가능하기 때문에 factorplot를 사용\n",
    "- 1등석인데도 남자는 생존률이 낮은걸 확인\n",
    "### age -> Continous Feature"
   ]
  },
  {
   "cell_type": "code",
   "execution_count": 12,
   "id": "ca14eb0f",
   "metadata": {
    "execution": {
     "iopub.execute_input": "2022-03-03T14:56:35.123418Z",
     "iopub.status.busy": "2022-03-03T14:56:35.108704Z",
     "iopub.status.idle": "2022-03-03T14:56:35.464464Z",
     "shell.execute_reply": "2022-03-03T14:56:35.464070Z",
     "shell.execute_reply.started": "2022-03-03T14:36:01.334286Z"
    },
    "papermill": {
     "duration": 0.396468,
     "end_time": "2022-03-03T14:56:35.464575",
     "exception": false,
     "start_time": "2022-03-03T14:56:35.068107",
     "status": "completed"
    },
    "tags": []
   },
   "outputs": [
    {
     "data": {
      "image/png": "[encoded data removed]",
      "text/plain": [
       "<Figure size 1296x576 with 2 Axes>"
      ]
     },
     "metadata": {
      "needs_background": "light"
     },
     "output_type": "display_data"
    }
   ],
   "source": [
    "f, ax = plt.subplots(1,2,figsize = (18, 8))\n",
    "sns.violinplot('Pclass','Age', hue = 'Survived', data= data, split = True, ax = ax[0])\n",
    "ax[0].set_yticks(range(0, 110, 10))\n",
    "sns.violinplot('Sex', 'Age', hue = 'Survived', data= data, split = True, ax = ax[1])\n",
    "plt.show()"
   ]
  },
  {
   "cell_type": "markdown",
   "id": "9d74c4c5",
   "metadata": {
    "papermill": {
     "duration": 0.029641,
     "end_time": "2022-03-03T14:56:35.524212",
     "exception": false,
     "start_time": "2022-03-03T14:56:35.494571",
     "status": "completed"
    },
    "tags": []
   },
   "source": [
    "- age에는 177개의 null데이터가 존재함, 이 값들을 채우기 위해선 평균값을 사용할 수도 있지만 차이가 너무 난다. 4살을 29살로 지정할 수도 있다.\n",
    "- 해결방법으로 이름을 보고 나이의 평균값을 각각의 그룹으로 지정할 수 있다. \n",
    "- !! 중요 !! 미국은 Mr,Mrs, Dr, Major 등 나이를 특정할 수 있는 부분이 있다. "
   ]
  },
  {
   "cell_type": "code",
   "execution_count": 13,
   "id": "e63501ac",
   "metadata": {
    "execution": {
     "iopub.execute_input": "2022-03-03T14:56:35.642311Z",
     "iopub.status.busy": "2022-03-03T14:56:35.627965Z",
     "iopub.status.idle": "2022-03-03T14:56:35.644065Z",
     "shell.execute_reply": "2022-03-03T14:56:35.644432Z",
     "shell.execute_reply.started": "2022-03-03T14:46:45.153057Z"
    },
    "papermill": {
     "duration": 0.090491,
     "end_time": "2022-03-03T14:56:35.644560",
     "exception": false,
     "start_time": "2022-03-03T14:56:35.554069",
     "status": "completed"
    },
    "tags": []
   },
   "outputs": [],
   "source": [
    "data['Initial'] = 0\n",
    "for i in data:\n",
    "    data['Initial'] = data.Name.str.extract('([A-Za-z]+)\\.') # 정규식 사용, dot(.)뒤에 문자열 찾기"
   ]
  },
  {
   "cell_type": "code",
   "execution_count": 14,
   "id": "d6fc1daf",
   "metadata": {
    "execution": {
     "iopub.execute_input": "2022-03-03T14:56:35.711488Z",
     "iopub.status.busy": "2022-03-03T14:56:35.710342Z",
     "iopub.status.idle": "2022-03-03T14:56:35.743074Z",
     "shell.execute_reply": "2022-03-03T14:56:35.743446Z",
     "shell.execute_reply.started": "2022-03-03T14:49:05.860879Z"
    },
    "papermill": {
     "duration": 0.068819,
     "end_time": "2022-03-03T14:56:35.743574",
     "exception": false,
     "start_time": "2022-03-03T14:56:35.674755",
     "status": "completed"
    },
    "tags": []
   },
   "outputs": [
    {
     "data": {
      "text/html": [
       "<style type=\"text/css\">\n",
       "#T_838b6_row0_col0, #T_838b6_row0_col1, #T_838b6_row0_col3, #T_838b6_row0_col4, #T_838b6_row0_col5, #T_838b6_row0_col7, #T_838b6_row0_col8, #T_838b6_row0_col12, #T_838b6_row0_col15, #T_838b6_row0_col16, #T_838b6_row1_col2, #T_838b6_row1_col6, #T_838b6_row1_col9, #T_838b6_row1_col10, #T_838b6_row1_col11, #T_838b6_row1_col13, #T_838b6_row1_col14 {\n",
       "  background-color: #00ffff;\n",
       "  color: #000000;\n",
       "}\n",
       "#T_838b6_row0_col2, #T_838b6_row0_col6, #T_838b6_row0_col9, #T_838b6_row0_col10, #T_838b6_row0_col11, #T_838b6_row0_col13, #T_838b6_row0_col14, #T_838b6_row1_col0, #T_838b6_row1_col1, #T_838b6_row1_col3, #T_838b6_row1_col4, #T_838b6_row1_col5, #T_838b6_row1_col7, #T_838b6_row1_col8, #T_838b6_row1_col12, #T_838b6_row1_col15, #T_838b6_row1_col16 {\n",
       "  background-color: #ff00ff;\n",
       "  color: #f1f1f1;\n",
       "}\n",
       "</style>\n",
       "<table id=\"T_838b6_\">\n",
       "  <thead>\n",
       "    <tr>\n",
       "      <th class=\"index_name level0\" >Initial</th>\n",
       "      <th class=\"col_heading level0 col0\" >Capt</th>\n",
       "      <th class=\"col_heading level0 col1\" >Col</th>\n",
       "      <th class=\"col_heading level0 col2\" >Countess</th>\n",
       "      <th class=\"col_heading level0 col3\" >Don</th>\n",
       "      <th class=\"col_heading level0 col4\" >Dr</th>\n",
       "      <th class=\"col_heading level0 col5\" >Jonkheer</th>\n",
       "      <th class=\"col_heading level0 col6\" >Lady</th>\n",
       "      <th class=\"col_heading level0 col7\" >Major</th>\n",
       "      <th class=\"col_heading level0 col8\" >Master</th>\n",
       "      <th class=\"col_heading level0 col9\" >Miss</th>\n",
       "      <th class=\"col_heading level0 col10\" >Mlle</th>\n",
       "      <th class=\"col_heading level0 col11\" >Mme</th>\n",
       "      <th class=\"col_heading level0 col12\" >Mr</th>\n",
       "      <th class=\"col_heading level0 col13\" >Mrs</th>\n",
       "      <th class=\"col_heading level0 col14\" >Ms</th>\n",
       "      <th class=\"col_heading level0 col15\" >Rev</th>\n",
       "      <th class=\"col_heading level0 col16\" >Sir</th>\n",
       "    </tr>\n",
       "    <tr>\n",
       "      <th class=\"index_name level0\" >Sex</th>\n",
       "      <th class=\"blank col0\" >&nbsp;</th>\n",
       "      <th class=\"blank col1\" >&nbsp;</th>\n",
       "      <th class=\"blank col2\" >&nbsp;</th>\n",
       "      <th class=\"blank col3\" >&nbsp;</th>\n",
       "      <th class=\"blank col4\" >&nbsp;</th>\n",
       "      <th class=\"blank col5\" >&nbsp;</th>\n",
       "      <th class=\"blank col6\" >&nbsp;</th>\n",
       "      <th class=\"blank col7\" >&nbsp;</th>\n",
       "      <th class=\"blank col8\" >&nbsp;</th>\n",
       "      <th class=\"blank col9\" >&nbsp;</th>\n",
       "      <th class=\"blank col10\" >&nbsp;</th>\n",
       "      <th class=\"blank col11\" >&nbsp;</th>\n",
       "      <th class=\"blank col12\" >&nbsp;</th>\n",
       "      <th class=\"blank col13\" >&nbsp;</th>\n",
       "      <th class=\"blank col14\" >&nbsp;</th>\n",
       "      <th class=\"blank col15\" >&nbsp;</th>\n",
       "      <th class=\"blank col16\" >&nbsp;</th>\n",
       "    </tr>\n",
       "  </thead>\n",
       "  <tbody>\n",
       "    <tr>\n",
       "      <th id=\"T_838b6_level0_row0\" class=\"row_heading level0 row0\" >female</th>\n",
       "      <td id=\"T_838b6_row0_col0\" class=\"data row0 col0\" >0</td>\n",
       "      <td id=\"T_838b6_row0_col1\" class=\"data row0 col1\" >0</td>\n",
       "      <td id=\"T_838b6_row0_col2\" class=\"data row0 col2\" >1</td>\n",
       "      <td id=\"T_838b6_row0_col3\" class=\"data row0 col3\" >0</td>\n",
       "      <td id=\"T_838b6_row0_col4\" class=\"data row0 col4\" >1</td>\n",
       "      <td id=\"T_838b6_row0_col5\" class=\"data row0 col5\" >0</td>\n",
       "      <td id=\"T_838b6_row0_col6\" class=\"data row0 col6\" >1</td>\n",
       "      <td id=\"T_838b6_row0_col7\" class=\"data row0 col7\" >0</td>\n",
       "      <td id=\"T_838b6_row0_col8\" class=\"data row0 col8\" >0</td>\n",
       "      <td id=\"T_838b6_row0_col9\" class=\"data row0 col9\" >182</td>\n",
       "      <td id=\"T_838b6_row0_col10\" class=\"data row0 col10\" >2</td>\n",
       "      <td id=\"T_838b6_row0_col11\" class=\"data row0 col11\" >1</td>\n",
       "      <td id=\"T_838b6_row0_col12\" class=\"data row0 col12\" >0</td>\n",
       "      <td id=\"T_838b6_row0_col13\" class=\"data row0 col13\" >125</td>\n",
       "      <td id=\"T_838b6_row0_col14\" class=\"data row0 col14\" >1</td>\n",
       "      <td id=\"T_838b6_row0_col15\" class=\"data row0 col15\" >0</td>\n",
       "      <td id=\"T_838b6_row0_col16\" class=\"data row0 col16\" >0</td>\n",
       "    </tr>\n",
       "    <tr>\n",
       "      <th id=\"T_838b6_level0_row1\" class=\"row_heading level0 row1\" >male</th>\n",
       "      <td id=\"T_838b6_row1_col0\" class=\"data row1 col0\" >1</td>\n",
       "      <td id=\"T_838b6_row1_col1\" class=\"data row1 col1\" >2</td>\n",
       "      <td id=\"T_838b6_row1_col2\" class=\"data row1 col2\" >0</td>\n",
       "      <td id=\"T_838b6_row1_col3\" class=\"data row1 col3\" >1</td>\n",
       "      <td id=\"T_838b6_row1_col4\" class=\"data row1 col4\" >6</td>\n",
       "      <td id=\"T_838b6_row1_col5\" class=\"data row1 col5\" >1</td>\n",
       "      <td id=\"T_838b6_row1_col6\" class=\"data row1 col6\" >0</td>\n",
       "      <td id=\"T_838b6_row1_col7\" class=\"data row1 col7\" >2</td>\n",
       "      <td id=\"T_838b6_row1_col8\" class=\"data row1 col8\" >40</td>\n",
       "      <td id=\"T_838b6_row1_col9\" class=\"data row1 col9\" >0</td>\n",
       "      <td id=\"T_838b6_row1_col10\" class=\"data row1 col10\" >0</td>\n",
       "      <td id=\"T_838b6_row1_col11\" class=\"data row1 col11\" >0</td>\n",
       "      <td id=\"T_838b6_row1_col12\" class=\"data row1 col12\" >517</td>\n",
       "      <td id=\"T_838b6_row1_col13\" class=\"data row1 col13\" >0</td>\n",
       "      <td id=\"T_838b6_row1_col14\" class=\"data row1 col14\" >0</td>\n",
       "      <td id=\"T_838b6_row1_col15\" class=\"data row1 col15\" >6</td>\n",
       "      <td id=\"T_838b6_row1_col16\" class=\"data row1 col16\" >1</td>\n",
       "    </tr>\n",
       "  </tbody>\n",
       "</table>\n"
      ],
      "text/plain": [
       "<pandas.io.formats.style.Styler at 0x7ff530258350>"
      ]
     },
     "execution_count": 14,
     "metadata": {},
     "output_type": "execute_result"
    }
   ],
   "source": [
    "pd.crosstab(data.Initial, data.Sex).T.style.background_gradient(cmap = 'cool')"
   ]
  },
  {
   "cell_type": "markdown",
   "id": "77d0cfeb",
   "metadata": {
    "papermill": {
     "duration": 0.031271,
     "end_time": "2022-03-03T14:56:35.805676",
     "exception": false,
     "start_time": "2022-03-03T14:56:35.774405",
     "status": "completed"
    },
    "tags": []
   },
   "source": [
    "- 철자가 틀린 Mile, Mme들이 있어 범주화 시킨다."
   ]
  },
  {
   "cell_type": "code",
   "execution_count": 15,
   "id": "cb8ee040",
   "metadata": {
    "execution": {
     "iopub.execute_input": "2022-03-03T14:56:35.869732Z",
     "iopub.status.busy": "2022-03-03T14:56:35.869256Z",
     "iopub.status.idle": "2022-03-03T14:56:35.875631Z",
     "shell.execute_reply": "2022-03-03T14:56:35.876077Z",
     "shell.execute_reply.started": "2022-03-03T14:52:01.627552Z"
    },
    "papermill": {
     "duration": 0.039923,
     "end_time": "2022-03-03T14:56:35.876195",
     "exception": false,
     "start_time": "2022-03-03T14:56:35.836272",
     "status": "completed"
    },
    "tags": []
   },
   "outputs": [],
   "source": [
    "data['Initial'].replace(['Mlle','Mme','Ms','Dr','Major','Lady','Countess','Jonkheer','Col','Rev','Capt','Sir','Don'],['Miss','Miss','Miss','Mr','Mr','Mrs','Mrs','Other','Other','Other','Mr','Mr','Mr'],inplace=True)"
   ]
  },
  {
   "cell_type": "code",
   "execution_count": 16,
   "id": "85b92785",
   "metadata": {
    "execution": {
     "iopub.execute_input": "2022-03-03T14:56:35.941716Z",
     "iopub.status.busy": "2022-03-03T14:56:35.941101Z",
     "iopub.status.idle": "2022-03-03T14:56:35.946004Z",
     "shell.execute_reply": "2022-03-03T14:56:35.946408Z",
     "shell.execute_reply.started": "2022-03-03T14:55:27.269928Z"
    },
    "papermill": {
     "duration": 0.040529,
     "end_time": "2022-03-03T14:56:35.946545",
     "exception": false,
     "start_time": "2022-03-03T14:56:35.906016",
     "status": "completed"
    },
    "tags": []
   },
   "outputs": [
    {
     "data": {
      "text/plain": [
       "Initial\n",
       "Master     4.574167\n",
       "Miss      21.860000\n",
       "Mr        32.739609\n",
       "Mrs       35.981818\n",
       "Other     45.888889\n",
       "Name: Age, dtype: float64"
      ]
     },
     "execution_count": 16,
     "metadata": {},
     "output_type": "execute_result"
    }
   ],
   "source": [
    "data.groupby('Initial')['Age'].mean()"
   ]
  },
  {
   "cell_type": "markdown",
   "id": "fcf381c1",
   "metadata": {
    "papermill": {
     "duration": 0.030883,
     "end_time": "2022-03-03T14:56:36.008518",
     "exception": false,
     "start_time": "2022-03-03T14:56:35.977635",
     "status": "completed"
    },
    "tags": []
   },
   "source": [
    "- 이제 null data를 채우면 된다. "
   ]
  },
  {
   "cell_type": "code",
   "execution_count": 17,
   "id": "ac2a341c",
   "metadata": {
    "execution": {
     "iopub.execute_input": "2022-03-03T14:56:36.074095Z",
     "iopub.status.busy": "2022-03-03T14:56:36.073585Z",
     "iopub.status.idle": "2022-03-03T14:56:36.085690Z",
     "shell.execute_reply": "2022-03-03T14:56:36.086088Z",
     "shell.execute_reply.started": "2022-03-03T14:55:30.223350Z"
    },
    "papermill": {
     "duration": 0.046251,
     "end_time": "2022-03-03T14:56:36.086236",
     "exception": false,
     "start_time": "2022-03-03T14:56:36.039985",
     "status": "completed"
    },
    "tags": []
   },
   "outputs": [],
   "source": [
    "data.loc[(data.Age.isnull()&data.Initial == 'Mr'), 'Age']=33\n",
    "data.loc[(data.Age.isnull() &data.Initial == 'Mrs'), 'Age'] = 36\n",
    "data.loc[(data.Age.isnull())&(data.Initial=='Master'),'Age']=5\n",
    "data.loc[(data.Age.isnull())&(data.Initial=='Miss'),'Age']=22\n",
    "data.loc[(data.Age.isnull())&(data.Initial=='Other'),'Age']=46"
   ]
  },
  {
   "cell_type": "code",
   "execution_count": 18,
   "id": "3d2c9f41",
   "metadata": {
    "execution": {
     "iopub.execute_input": "2022-03-03T14:56:36.150553Z",
     "iopub.status.busy": "2022-03-03T14:56:36.150067Z",
     "iopub.status.idle": "2022-03-03T14:56:36.155878Z",
     "shell.execute_reply": "2022-03-03T14:56:36.155414Z",
     "shell.execute_reply.started": "2022-03-03T14:55:34.034677Z"
    },
    "papermill": {
     "duration": 0.038765,
     "end_time": "2022-03-03T14:56:36.155999",
     "exception": false,
     "start_time": "2022-03-03T14:56:36.117234",
     "status": "completed"
    },
    "tags": []
   },
   "outputs": [
    {
     "data": {
      "text/plain": [
       "True"
      ]
     },
     "execution_count": 18,
     "metadata": {},
     "output_type": "execute_result"
    }
   ],
   "source": [
    "data.Age.isnull().any() # d이게 왜 True가 나오지"
   ]
  },
  {
   "cell_type": "code",
   "execution_count": 19,
   "id": "7ed8f198",
   "metadata": {
    "execution": {
     "iopub.execute_input": "2022-03-03T14:56:36.223020Z",
     "iopub.status.busy": "2022-03-03T14:56:36.222527Z",
     "iopub.status.idle": "2022-03-03T14:56:36.228014Z",
     "shell.execute_reply": "2022-03-03T14:56:36.228422Z",
     "shell.execute_reply.started": "2022-03-03T14:55:35.392196Z"
    },
    "papermill": {
     "duration": 0.040586,
     "end_time": "2022-03-03T14:56:36.228543",
     "exception": false,
     "start_time": "2022-03-03T14:56:36.187957",
     "status": "completed"
    },
    "tags": []
   },
   "outputs": [
    {
     "data": {
      "text/plain": [
       "PassengerId      0\n",
       "Survived         0\n",
       "Pclass           0\n",
       "Name             0\n",
       "Sex              0\n",
       "Age            137\n",
       "SibSp            0\n",
       "Parch            0\n",
       "Ticket           0\n",
       "Fare             0\n",
       "Cabin          687\n",
       "Embarked         2\n",
       "Initial          0\n",
       "dtype: int64"
      ]
     },
     "execution_count": 19,
     "metadata": {},
     "output_type": "execute_result"
    }
   ],
   "source": [
    "data.isnull().sum()"
   ]
  },
  {
   "cell_type": "code",
   "execution_count": null,
   "id": "73bbf6dd",
   "metadata": {
    "papermill": {
     "duration": 0.031442,
     "end_time": "2022-03-03T14:56:36.291764",
     "exception": false,
     "start_time": "2022-03-03T14:56:36.260322",
     "status": "completed"
    },
    "tags": []
   },
   "outputs": [],
   "source": []
  },
  {
   "cell_type": "code",
   "execution_count": null,
   "id": "fec3a876",
   "metadata": {
    "papermill": {
     "duration": 0.031368,
     "end_time": "2022-03-03T14:56:36.354831",
     "exception": false,
     "start_time": "2022-03-03T14:56:36.323463",
     "status": "completed"
    },
    "tags": []
   },
   "outputs": [],
   "source": []
  }
 ],
 "metadata": {
  "kernelspec": {
   "display_name": "Python 3",
   "language": "python",
   "name": "python3"
  },
  "language_info": {
   "codemirror_mode": {
    "name": "ipython",
    "version": 3
   },
   "file_extension": ".py",
   "mimetype": "text/x-python",
   "name": "python",
   "nbconvert_exporter": "python",
   "pygments_lexer": "ipython3",
   "version": "3.7.12"
  },
  "papermill": {
   "default_parameters": {},
   "duration": 12.459561,
   "end_time": "2022-03-03T14:56:36.994455",
   "environment_variables": {},
   "exception": null,
   "input_path": "__notebook__.ipynb",
   "output_path": "__notebook__.ipynb",
   "parameters": {},
   "start_time": "2022-03-03T14:56:24.534894",
   "version": "2.3.3"
  }
 },
 "nbformat": 4,
 "nbformat_minor": 5
}
