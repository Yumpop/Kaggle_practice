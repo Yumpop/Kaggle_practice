{
 "cells": [
  {
   "cell_type": "code",
   "execution_count": 1,
   "id": "324bc9d6",
   "metadata": {
    "_cell_guid": "b1076dfc-b9ad-4769-8c92-a6c4dae69d19",
    "_uuid": "8f2839f25d086af736a60e9eeb907d3b93b6e0e5",
    "execution": {
     "iopub.execute_input": "2022-03-04T11:58:05.364445Z",
     "iopub.status.busy": "2022-03-04T11:58:05.361932Z",
     "iopub.status.idle": "2022-03-04T11:58:06.479664Z",
     "shell.execute_reply": "2022-03-04T11:58:06.478963Z",
     "shell.execute_reply.started": "2022-03-04T10:48:00.870564Z"
    },
    "papermill": {
     "duration": 1.176119,
     "end_time": "2022-03-04T11:58:06.479830",
     "exception": false,
     "start_time": "2022-03-04T11:58:05.303711",
     "status": "completed"
    },
    "tags": []
   },
   "outputs": [],
   "source": [
    "import numpy as np\n",
    "import matplotlib.pyplot as plt\n",
    "import pandas as pd\n",
    "import seaborn as sns\n",
    "plt.style.use('fivethirtyeight')\n",
    "import warnings\n",
    "warnings.filterwarnings('ignore')\n",
    "%matplotlib inline"
   ]
  },
  {
   "cell_type": "code",
   "execution_count": 2,
   "id": "761cc378",
   "metadata": {
    "execution": {
     "iopub.execute_input": "2022-03-04T11:58:06.584301Z",
     "iopub.status.busy": "2022-03-04T11:58:06.583598Z",
     "iopub.status.idle": "2022-03-04T11:58:06.598980Z",
     "shell.execute_reply": "2022-03-04T11:58:06.599552Z",
     "shell.execute_reply.started": "2022-03-04T10:48:01.947969Z"
    },
    "papermill": {
     "duration": 0.07102,
     "end_time": "2022-03-04T11:58:06.599734",
     "exception": false,
     "start_time": "2022-03-04T11:58:06.528714",
     "status": "completed"
    },
    "tags": []
   },
   "outputs": [],
   "source": [
    "data = pd.read_csv('../input/titanic/train.csv')"
   ]
  },
  {
   "cell_type": "code",
   "execution_count": 3,
   "id": "8f3c68f2",
   "metadata": {
    "execution": {
     "iopub.execute_input": "2022-03-04T11:58:06.707402Z",
     "iopub.status.busy": "2022-03-04T11:58:06.706711Z",
     "iopub.status.idle": "2022-03-04T11:58:06.725625Z",
     "shell.execute_reply": "2022-03-04T11:58:06.726166Z",
     "shell.execute_reply.started": "2022-03-04T10:48:01.973557Z"
    },
    "papermill": {
     "duration": 0.077265,
     "end_time": "2022-03-04T11:58:06.726346",
     "exception": false,
     "start_time": "2022-03-04T11:58:06.649081",
     "status": "completed"
    },
    "tags": []
   },
   "outputs": [
    {
     "data": {
      "text/html": [
       "<div>\n",
       "<style scoped>\n",
       "    .dataframe tbody tr th:only-of-type {\n",
       "        vertical-align: middle;\n",
       "    }\n",
       "\n",
       "    .dataframe tbody tr th {\n",
       "        vertical-align: top;\n",
       "    }\n",
       "\n",
       "    .dataframe thead th {\n",
       "        text-align: right;\n",
       "    }\n",
       "</style>\n",
       "<table border=\"1\" class=\"dataframe\">\n",
       "  <thead>\n",
       "    <tr style=\"text-align: right;\">\n",
       "      <th></th>\n",
       "      <th>PassengerId</th>\n",
       "      <th>Survived</th>\n",
       "      <th>Pclass</th>\n",
       "      <th>Name</th>\n",
       "      <th>Sex</th>\n",
       "      <th>Age</th>\n",
       "      <th>SibSp</th>\n",
       "      <th>Parch</th>\n",
       "      <th>Ticket</th>\n",
       "      <th>Fare</th>\n",
       "      <th>Cabin</th>\n",
       "      <th>Embarked</th>\n",
       "    </tr>\n",
       "  </thead>\n",
       "  <tbody>\n",
       "    <tr>\n",
       "      <th>0</th>\n",
       "      <td>1</td>\n",
       "      <td>0</td>\n",
       "      <td>3</td>\n",
       "      <td>Braund, Mr. Owen Harris</td>\n",
       "      <td>male</td>\n",
       "      <td>22.0</td>\n",
       "      <td>1</td>\n",
       "      <td>0</td>\n",
       "      <td>A/5 21171</td>\n",
       "      <td>7.2500</td>\n",
       "      <td>NaN</td>\n",
       "      <td>S</td>\n",
       "    </tr>\n",
       "    <tr>\n",
       "      <th>1</th>\n",
       "      <td>2</td>\n",
       "      <td>1</td>\n",
       "      <td>1</td>\n",
       "      <td>Cumings, Mrs. John Bradley (Florence Briggs Th...</td>\n",
       "      <td>female</td>\n",
       "      <td>38.0</td>\n",
       "      <td>1</td>\n",
       "      <td>0</td>\n",
       "      <td>PC 17599</td>\n",
       "      <td>71.2833</td>\n",
       "      <td>C85</td>\n",
       "      <td>C</td>\n",
       "    </tr>\n",
       "    <tr>\n",
       "      <th>2</th>\n",
       "      <td>3</td>\n",
       "      <td>1</td>\n",
       "      <td>3</td>\n",
       "      <td>Heikkinen, Miss. Laina</td>\n",
       "      <td>female</td>\n",
       "      <td>26.0</td>\n",
       "      <td>0</td>\n",
       "      <td>0</td>\n",
       "      <td>STON/O2. 3101282</td>\n",
       "      <td>7.9250</td>\n",
       "      <td>NaN</td>\n",
       "      <td>S</td>\n",
       "    </tr>\n",
       "    <tr>\n",
       "      <th>3</th>\n",
       "      <td>4</td>\n",
       "      <td>1</td>\n",
       "      <td>1</td>\n",
       "      <td>Futrelle, Mrs. Jacques Heath (Lily May Peel)</td>\n",
       "      <td>female</td>\n",
       "      <td>35.0</td>\n",
       "      <td>1</td>\n",
       "      <td>0</td>\n",
       "      <td>113803</td>\n",
       "      <td>53.1000</td>\n",
       "      <td>C123</td>\n",
       "      <td>S</td>\n",
       "    </tr>\n",
       "    <tr>\n",
       "      <th>4</th>\n",
       "      <td>5</td>\n",
       "      <td>0</td>\n",
       "      <td>3</td>\n",
       "      <td>Allen, Mr. William Henry</td>\n",
       "      <td>male</td>\n",
       "      <td>35.0</td>\n",
       "      <td>0</td>\n",
       "      <td>0</td>\n",
       "      <td>373450</td>\n",
       "      <td>8.0500</td>\n",
       "      <td>NaN</td>\n",
       "      <td>S</td>\n",
       "    </tr>\n",
       "  </tbody>\n",
       "</table>\n",
       "</div>"
      ],
      "text/plain": [
       "   PassengerId  Survived  Pclass  \\\n",
       "0            1         0       3   \n",
       "1            2         1       1   \n",
       "2            3         1       3   \n",
       "3            4         1       1   \n",
       "4            5         0       3   \n",
       "\n",
       "                                                Name     Sex   Age  SibSp  \\\n",
       "0                            Braund, Mr. Owen Harris    male  22.0      1   \n",
       "1  Cumings, Mrs. John Bradley (Florence Briggs Th...  female  38.0      1   \n",
       "2                             Heikkinen, Miss. Laina  female  26.0      0   \n",
       "3       Futrelle, Mrs. Jacques Heath (Lily May Peel)  female  35.0      1   \n",
       "4                           Allen, Mr. William Henry    male  35.0      0   \n",
       "\n",
       "   Parch            Ticket     Fare Cabin Embarked  \n",
       "0      0         A/5 21171   7.2500   NaN        S  \n",
       "1      0          PC 17599  71.2833   C85        C  \n",
       "2      0  STON/O2. 3101282   7.9250   NaN        S  \n",
       "3      0            113803  53.1000  C123        S  \n",
       "4      0            373450   8.0500   NaN        S  "
      ]
     },
     "execution_count": 3,
     "metadata": {},
     "output_type": "execute_result"
    }
   ],
   "source": [
    "data.head()"
   ]
  },
  {
   "cell_type": "code",
   "execution_count": 4,
   "id": "c666d457",
   "metadata": {
    "execution": {
     "iopub.execute_input": "2022-03-04T11:58:06.831243Z",
     "iopub.status.busy": "2022-03-04T11:58:06.830483Z",
     "iopub.status.idle": "2022-03-04T11:58:06.836412Z",
     "shell.execute_reply": "2022-03-04T11:58:06.836905Z",
     "shell.execute_reply.started": "2022-03-04T10:48:02.007013Z"
    },
    "papermill": {
     "duration": 0.06145,
     "end_time": "2022-03-04T11:58:06.837090",
     "exception": false,
     "start_time": "2022-03-04T11:58:06.775640",
     "status": "completed"
    },
    "tags": []
   },
   "outputs": [
    {
     "data": {
      "text/plain": [
       "PassengerId      0\n",
       "Survived         0\n",
       "Pclass           0\n",
       "Name             0\n",
       "Sex              0\n",
       "Age            177\n",
       "SibSp            0\n",
       "Parch            0\n",
       "Ticket           0\n",
       "Fare             0\n",
       "Cabin          687\n",
       "Embarked         2\n",
       "dtype: int64"
      ]
     },
     "execution_count": 4,
     "metadata": {},
     "output_type": "execute_result"
    }
   ],
   "source": [
    "data.isnull().sum() # 모든 null data를 확인"
   ]
  },
  {
   "cell_type": "markdown",
   "id": "6d7b4b52",
   "metadata": {
    "papermill": {
     "duration": 0.051155,
     "end_time": "2022-03-04T11:58:06.937867",
     "exception": false,
     "start_time": "2022-03-04T11:58:06.886712",
     "status": "completed"
    },
    "tags": []
   },
   "source": [
    "- Age, Cabin, Embarked가 null data이므로 채워주기"
   ]
  },
  {
   "cell_type": "code",
   "execution_count": 5,
   "id": "d66eb0f7",
   "metadata": {
    "execution": {
     "iopub.execute_input": "2022-03-04T11:58:07.042016Z",
     "iopub.status.busy": "2022-03-04T11:58:07.041374Z",
     "iopub.status.idle": "2022-03-04T11:58:07.382951Z",
     "shell.execute_reply": "2022-03-04T11:58:07.383473Z",
     "shell.execute_reply.started": "2022-03-04T10:48:02.022651Z"
    },
    "papermill": {
     "duration": 0.394823,
     "end_time": "2022-03-04T11:58:07.383660",
     "exception": false,
     "start_time": "2022-03-04T11:58:06.988837",
     "status": "completed"
    },
    "tags": []
   },
   "outputs": [
    {
     "data": {
      "image/png": "[encoded data removed]",
      "text/plain": [
       "<Figure size 1296x576 with 2 Axes>"
      ]
     },
     "metadata": {
      "needs_background": "light"
     },
     "output_type": "display_data"
    }
   ],
   "source": [
    "f, ax = plt.subplots(1,2,figsize = (18,8))\n",
    "data['Survived'].value_counts().plot.pie(explode = [0,0.1], autopct = '%1.1f%%', ax = ax[0], shadow = True)\n",
    "ax[0].set_title('Survived')\n",
    "ax[0].set_ylabel(' ')\n",
    "sns.countplot('Survived', data = data, ax= ax[1])\n",
    "ax[1].set_title('Survived')\n",
    "plt.show()"
   ]
  },
  {
   "cell_type": "markdown",
   "id": "9b052bdc",
   "metadata": {
    "papermill": {
     "duration": 0.050401,
     "end_time": "2022-03-04T11:58:07.487624",
     "exception": false,
     "start_time": "2022-03-04T11:58:07.437223",
     "status": "completed"
    },
    "tags": []
   },
   "source": [
    "- 891명중 38.4%만 생존, 각 class별로 생존과 어떤 상관관계가 있는지 파악해야 한다.\n",
    "- 그러기 위해서 먼저 특성들의 type를 알아야 한다."
   ]
  },
  {
   "cell_type": "markdown",
   "id": "74775ae8",
   "metadata": {
    "papermill": {
     "duration": 0.050854,
     "end_time": "2022-03-04T11:58:07.589195",
     "exception": false,
     "start_time": "2022-03-04T11:58:07.538341",
     "status": "completed"
    },
    "tags": []
   },
   "source": [
    "## type of Features\n",
    "- categorical Feature\n",
    "    - 범주형 자료 : 두 개 이상의 범주가 있는 변수이다. \n",
    "    - Sex (male, female), Embarked(S, C, Q) 등이 여기에 속한다. \n",
    "- ordinal Feature(순서형 특성)\n",
    "    - 범주형 자료와 비슷하지만 각각의 값 간의 상대적 순서 지정 또는 정렬이 가능 (ex : 높음, 중간, 짧음)\n",
    "    - Pclass (1,2,3)등이 여기에 속함\n",
    "- continous Feature\n",
    "    - 연속적으로 나오는 데이터, 항상 최소, 최대값의 사이값들을 구할 수 있다 .\n",
    "    - age가 여기 속한다."
   ]
  },
  {
   "cell_type": "markdown",
   "id": "84def945",
   "metadata": {
    "execution": {
     "iopub.execute_input": "2022-03-03T14:04:40.717597Z",
     "iopub.status.busy": "2022-03-03T14:04:40.716618Z",
     "iopub.status.idle": "2022-03-03T14:04:40.727301Z",
     "shell.execute_reply": "2022-03-03T14:04:40.726362Z",
     "shell.execute_reply.started": "2022-03-03T14:04:40.717557Z"
    },
    "papermill": {
     "duration": 0.050709,
     "end_time": "2022-03-04T11:58:07.690571",
     "exception": false,
     "start_time": "2022-03-04T11:58:07.639862",
     "status": "completed"
    },
    "tags": []
   },
   "source": [
    "### Sex -> categorical Feature"
   ]
  },
  {
   "cell_type": "code",
   "execution_count": 6,
   "id": "22430740",
   "metadata": {
    "execution": {
     "iopub.execute_input": "2022-03-04T11:58:07.799748Z",
     "iopub.status.busy": "2022-03-04T11:58:07.798741Z",
     "iopub.status.idle": "2022-03-04T11:58:07.807699Z",
     "shell.execute_reply": "2022-03-04T11:58:07.807159Z",
     "shell.execute_reply.started": "2022-03-04T10:48:02.387910Z"
    },
    "papermill": {
     "duration": 0.065732,
     "end_time": "2022-03-04T11:58:07.807853",
     "exception": false,
     "start_time": "2022-03-04T11:58:07.742121",
     "status": "completed"
    },
    "tags": []
   },
   "outputs": [
    {
     "data": {
      "text/plain": [
       "Sex     Survived\n",
       "female  0            81\n",
       "        1           233\n",
       "male    0           468\n",
       "        1           109\n",
       "Name: Survived, dtype: int64"
      ]
     },
     "execution_count": 6,
     "metadata": {},
     "output_type": "execute_result"
    }
   ],
   "source": [
    "data.groupby(['Sex', 'Survived'])['Survived'].count()"
   ]
  },
  {
   "cell_type": "code",
   "execution_count": 7,
   "id": "9016b593",
   "metadata": {
    "execution": {
     "iopub.execute_input": "2022-03-04T11:58:07.918043Z",
     "iopub.status.busy": "2022-03-04T11:58:07.916969Z",
     "iopub.status.idle": "2022-03-04T11:58:08.239583Z",
     "shell.execute_reply": "2022-03-04T11:58:08.240052Z",
     "shell.execute_reply.started": "2022-03-04T10:48:02.405252Z"
    },
    "papermill": {
     "duration": 0.380671,
     "end_time": "2022-03-04T11:58:08.240242",
     "exception": false,
     "start_time": "2022-03-04T11:58:07.859571",
     "status": "completed"
    },
    "tags": []
   },
   "outputs": [
    {
     "data": {
      "image/png": "[encoded data removed]",
      "text/plain": [
       "<Figure size 1296x576 with 2 Axes>"
      ]
     },
     "metadata": {
      "needs_background": "light"
     },
     "output_type": "display_data"
    }
   ],
   "source": [
    "f, ax = plt.subplots(1,2,figsize = (18,8))\n",
    "data[['Sex', 'Survived']].groupby(['Sex']).mean().plot.bar(ax = ax[0])\n",
    "sns.countplot('Sex', hue = 'Survived', data = data, ax = ax[1])\n",
    "plt.show()"
   ]
  },
  {
   "cell_type": "markdown",
   "id": "bd7ad9cd",
   "metadata": {
    "papermill": {
     "duration": 0.051864,
     "end_time": "2022-03-04T11:58:08.344114",
     "exception": false,
     "start_time": "2022-03-04T11:58:08.292250",
     "status": "completed"
    },
    "tags": []
   },
   "source": [
    "- 남자보다 여자의 생존율이 더 높다.\n",
    "- 중요한 특성중 하나로 보인다. \n",
    "### Pclass -> Ordinal Feature"
   ]
  },
  {
   "cell_type": "code",
   "execution_count": 8,
   "id": "4bc19a0f",
   "metadata": {
    "execution": {
     "iopub.execute_input": "2022-03-04T11:58:08.453301Z",
     "iopub.status.busy": "2022-03-04T11:58:08.452217Z",
     "iopub.status.idle": "2022-03-04T11:58:08.564851Z",
     "shell.execute_reply": "2022-03-04T11:58:08.564334Z",
     "shell.execute_reply.started": "2022-03-04T10:48:02.714913Z"
    },
    "papermill": {
     "duration": 0.168948,
     "end_time": "2022-03-04T11:58:08.564997",
     "exception": false,
     "start_time": "2022-03-04T11:58:08.396049",
     "status": "completed"
    },
    "tags": []
   },
   "outputs": [
    {
     "data": {
      "text/html": [
       "<style type=\"text/css\">\n",
       "#T_d18ca_row0_col0, #T_d18ca_row1_col1, #T_d18ca_row1_col2 {\n",
       "  background-color: #00ffff;\n",
       "  color: #000000;\n",
       "}\n",
       "#T_d18ca_row0_col1 {\n",
       "  background-color: #31ceff;\n",
       "  color: #000000;\n",
       "}\n",
       "#T_d18ca_row0_col2 {\n",
       "  background-color: #0bf4ff;\n",
       "  color: #000000;\n",
       "}\n",
       "#T_d18ca_row1_col0 {\n",
       "  background-color: #09f6ff;\n",
       "  color: #000000;\n",
       "}\n",
       "#T_d18ca_row2_col0 {\n",
       "  background-color: #9f60ff;\n",
       "  color: #f1f1f1;\n",
       "}\n",
       "#T_d18ca_row2_col1 {\n",
       "  background-color: #20dfff;\n",
       "  color: #000000;\n",
       "}\n",
       "#T_d18ca_row2_col2 {\n",
       "  background-color: #6f90ff;\n",
       "  color: #f1f1f1;\n",
       "}\n",
       "#T_d18ca_row3_col0, #T_d18ca_row3_col1, #T_d18ca_row3_col2 {\n",
       "  background-color: #ff00ff;\n",
       "  color: #f1f1f1;\n",
       "}\n",
       "</style>\n",
       "<table id=\"T_d18ca_\">\n",
       "  <thead>\n",
       "    <tr>\n",
       "      <th class=\"index_name level0\" >Survived</th>\n",
       "      <th class=\"col_heading level0 col0\" >0</th>\n",
       "      <th class=\"col_heading level0 col1\" >1</th>\n",
       "      <th class=\"col_heading level0 col2\" >All</th>\n",
       "    </tr>\n",
       "    <tr>\n",
       "      <th class=\"index_name level0\" >Pclass</th>\n",
       "      <th class=\"blank col0\" >&nbsp;</th>\n",
       "      <th class=\"blank col1\" >&nbsp;</th>\n",
       "      <th class=\"blank col2\" >&nbsp;</th>\n",
       "    </tr>\n",
       "  </thead>\n",
       "  <tbody>\n",
       "    <tr>\n",
       "      <th id=\"T_d18ca_level0_row0\" class=\"row_heading level0 row0\" >1</th>\n",
       "      <td id=\"T_d18ca_row0_col0\" class=\"data row0 col0\" >80</td>\n",
       "      <td id=\"T_d18ca_row0_col1\" class=\"data row0 col1\" >136</td>\n",
       "      <td id=\"T_d18ca_row0_col2\" class=\"data row0 col2\" >216</td>\n",
       "    </tr>\n",
       "    <tr>\n",
       "      <th id=\"T_d18ca_level0_row1\" class=\"row_heading level0 row1\" >2</th>\n",
       "      <td id=\"T_d18ca_row1_col0\" class=\"data row1 col0\" >97</td>\n",
       "      <td id=\"T_d18ca_row1_col1\" class=\"data row1 col1\" >87</td>\n",
       "      <td id=\"T_d18ca_row1_col2\" class=\"data row1 col2\" >184</td>\n",
       "    </tr>\n",
       "    <tr>\n",
       "      <th id=\"T_d18ca_level0_row2\" class=\"row_heading level0 row2\" >3</th>\n",
       "      <td id=\"T_d18ca_row2_col0\" class=\"data row2 col0\" >372</td>\n",
       "      <td id=\"T_d18ca_row2_col1\" class=\"data row2 col1\" >119</td>\n",
       "      <td id=\"T_d18ca_row2_col2\" class=\"data row2 col2\" >491</td>\n",
       "    </tr>\n",
       "    <tr>\n",
       "      <th id=\"T_d18ca_level0_row3\" class=\"row_heading level0 row3\" >All</th>\n",
       "      <td id=\"T_d18ca_row3_col0\" class=\"data row3 col0\" >549</td>\n",
       "      <td id=\"T_d18ca_row3_col1\" class=\"data row3 col1\" >342</td>\n",
       "      <td id=\"T_d18ca_row3_col2\" class=\"data row3 col2\" >891</td>\n",
       "    </tr>\n",
       "  </tbody>\n",
       "</table>\n"
      ],
      "text/plain": [
       "<pandas.io.formats.style.Styler at 0x7fc32f3257d0>"
      ]
     },
     "execution_count": 8,
     "metadata": {},
     "output_type": "execute_result"
    }
   ],
   "source": [
    "pd.crosstab(data.Pclass, data.Survived, margins =True).style.background_gradient(cmap = 'cool')"
   ]
  },
  {
   "cell_type": "code",
   "execution_count": 9,
   "id": "4a55bac0",
   "metadata": {
    "execution": {
     "iopub.execute_input": "2022-03-04T11:58:08.679780Z",
     "iopub.status.busy": "2022-03-04T11:58:08.678713Z",
     "iopub.status.idle": "2022-03-04T11:58:09.042225Z",
     "shell.execute_reply": "2022-03-04T11:58:09.042754Z",
     "shell.execute_reply.started": "2022-03-04T10:48:02.838659Z"
    },
    "papermill": {
     "duration": 0.424775,
     "end_time": "2022-03-04T11:58:09.042924",
     "exception": false,
     "start_time": "2022-03-04T11:58:08.618149",
     "status": "completed"
    },
    "tags": []
   },
   "outputs": [
    {
     "data": {
      "text/plain": [
       "<AxesSubplot:xlabel='Pclass', ylabel='count'>"
      ]
     },
     "execution_count": 9,
     "metadata": {},
     "output_type": "execute_result"
    },
    {
     "data": {
      "image/png": "[encoded data removed]",
      "text/plain": [
       "<Figure size 1296x576 with 2 Axes>"
      ]
     },
     "metadata": {
      "needs_background": "light"
     },
     "output_type": "display_data"
    }
   ],
   "source": [
    "f, ax = plt.subplots(1,2,figsize = (18, 8))\n",
    "data['Pclass'].value_counts().plot.bar(color = ['#CD7F32','#FFDF00','#D3D3D3'], ax = ax[0])\n",
    "sns.countplot('Pclass', hue = 'Survived', data = data)"
   ]
  },
  {
   "cell_type": "markdown",
   "id": "06793dc8",
   "metadata": {
    "papermill": {
     "duration": 0.053632,
     "end_time": "2022-03-04T11:58:09.150659",
     "exception": false,
     "start_time": "2022-03-04T11:58:09.097027",
     "status": "completed"
    },
    "tags": []
   },
   "source": [
    "- Pclass가 1인 사람, 즉 부자들이 더 많이 살았다. \n",
    "- sex와 Pclass를 같이 비교"
   ]
  },
  {
   "cell_type": "code",
   "execution_count": 10,
   "id": "9b911920",
   "metadata": {
    "execution": {
     "iopub.execute_input": "2022-03-04T11:58:09.262786Z",
     "iopub.status.busy": "2022-03-04T11:58:09.261827Z",
     "iopub.status.idle": "2022-03-04T11:58:09.310550Z",
     "shell.execute_reply": "2022-03-04T11:58:09.311032Z",
     "shell.execute_reply.started": "2022-03-04T10:48:03.205132Z"
    },
    "papermill": {
     "duration": 0.10602,
     "end_time": "2022-03-04T11:58:09.311196",
     "exception": false,
     "start_time": "2022-03-04T11:58:09.205176",
     "status": "completed"
    },
    "tags": []
   },
   "outputs": [
    {
     "data": {
      "text/html": [
       "<style type=\"text/css\">\n",
       "#T_46d2a_row0_col0, #T_46d2a_row0_col1, #T_46d2a_row0_col3, #T_46d2a_row3_col2 {\n",
       "  background-color: #00ffff;\n",
       "  color: #000000;\n",
       "}\n",
       "#T_46d2a_row0_col2, #T_46d2a_row1_col2 {\n",
       "  background-color: #0ef1ff;\n",
       "  color: #000000;\n",
       "}\n",
       "#T_46d2a_row1_col0 {\n",
       "  background-color: #6996ff;\n",
       "  color: #f1f1f1;\n",
       "}\n",
       "#T_46d2a_row1_col1 {\n",
       "  background-color: #5ca3ff;\n",
       "  color: #f1f1f1;\n",
       "}\n",
       "#T_46d2a_row1_col3 {\n",
       "  background-color: #30cfff;\n",
       "  color: #000000;\n",
       "}\n",
       "#T_46d2a_row2_col0 {\n",
       "  background-color: #58a7ff;\n",
       "  color: #f1f1f1;\n",
       "}\n",
       "#T_46d2a_row2_col1, #T_46d2a_row2_col3 {\n",
       "  background-color: #7a85ff;\n",
       "  color: #f1f1f1;\n",
       "}\n",
       "#T_46d2a_row2_col2 {\n",
       "  background-color: #916eff;\n",
       "  color: #f1f1f1;\n",
       "}\n",
       "#T_46d2a_row3_col0 {\n",
       "  background-color: #32cdff;\n",
       "  color: #000000;\n",
       "}\n",
       "#T_46d2a_row3_col1 {\n",
       "  background-color: #0ff0ff;\n",
       "  color: #000000;\n",
       "}\n",
       "#T_46d2a_row3_col3 {\n",
       "  background-color: #08f7ff;\n",
       "  color: #000000;\n",
       "}\n",
       "#T_46d2a_row4_col0, #T_46d2a_row4_col1, #T_46d2a_row4_col2, #T_46d2a_row4_col3 {\n",
       "  background-color: #ff00ff;\n",
       "  color: #f1f1f1;\n",
       "}\n",
       "</style>\n",
       "<table id=\"T_46d2a_\">\n",
       "  <thead>\n",
       "    <tr>\n",
       "      <th class=\"blank\" >&nbsp;</th>\n",
       "      <th class=\"index_name level0\" >Pclass</th>\n",
       "      <th class=\"col_heading level0 col0\" >1</th>\n",
       "      <th class=\"col_heading level0 col1\" >2</th>\n",
       "      <th class=\"col_heading level0 col2\" >3</th>\n",
       "      <th class=\"col_heading level0 col3\" >All</th>\n",
       "    </tr>\n",
       "    <tr>\n",
       "      <th class=\"index_name level0\" >Sex</th>\n",
       "      <th class=\"index_name level1\" >Survived</th>\n",
       "      <th class=\"blank col0\" >&nbsp;</th>\n",
       "      <th class=\"blank col1\" >&nbsp;</th>\n",
       "      <th class=\"blank col2\" >&nbsp;</th>\n",
       "      <th class=\"blank col3\" >&nbsp;</th>\n",
       "    </tr>\n",
       "  </thead>\n",
       "  <tbody>\n",
       "    <tr>\n",
       "      <th id=\"T_46d2a_level0_row0\" class=\"row_heading level0 row0\" rowspan=\"2\">female</th>\n",
       "      <th id=\"T_46d2a_level1_row0\" class=\"row_heading level1 row0\" >0</th>\n",
       "      <td id=\"T_46d2a_row0_col0\" class=\"data row0 col0\" >3</td>\n",
       "      <td id=\"T_46d2a_row0_col1\" class=\"data row0 col1\" >6</td>\n",
       "      <td id=\"T_46d2a_row0_col2\" class=\"data row0 col2\" >72</td>\n",
       "      <td id=\"T_46d2a_row0_col3\" class=\"data row0 col3\" >81</td>\n",
       "    </tr>\n",
       "    <tr>\n",
       "      <th id=\"T_46d2a_level1_row1\" class=\"row_heading level1 row1\" >1</th>\n",
       "      <td id=\"T_46d2a_row1_col0\" class=\"data row1 col0\" >91</td>\n",
       "      <td id=\"T_46d2a_row1_col1\" class=\"data row1 col1\" >70</td>\n",
       "      <td id=\"T_46d2a_row1_col2\" class=\"data row1 col2\" >72</td>\n",
       "      <td id=\"T_46d2a_row1_col3\" class=\"data row1 col3\" >233</td>\n",
       "    </tr>\n",
       "    <tr>\n",
       "      <th id=\"T_46d2a_level0_row2\" class=\"row_heading level0 row2\" rowspan=\"2\">male</th>\n",
       "      <th id=\"T_46d2a_level1_row2\" class=\"row_heading level1 row2\" >0</th>\n",
       "      <td id=\"T_46d2a_row2_col0\" class=\"data row2 col0\" >77</td>\n",
       "      <td id=\"T_46d2a_row2_col1\" class=\"data row2 col1\" >91</td>\n",
       "      <td id=\"T_46d2a_row2_col2\" class=\"data row2 col2\" >300</td>\n",
       "      <td id=\"T_46d2a_row2_col3\" class=\"data row2 col3\" >468</td>\n",
       "    </tr>\n",
       "    <tr>\n",
       "      <th id=\"T_46d2a_level1_row3\" class=\"row_heading level1 row3\" >1</th>\n",
       "      <td id=\"T_46d2a_row3_col0\" class=\"data row3 col0\" >45</td>\n",
       "      <td id=\"T_46d2a_row3_col1\" class=\"data row3 col1\" >17</td>\n",
       "      <td id=\"T_46d2a_row3_col2\" class=\"data row3 col2\" >47</td>\n",
       "      <td id=\"T_46d2a_row3_col3\" class=\"data row3 col3\" >109</td>\n",
       "    </tr>\n",
       "    <tr>\n",
       "      <th id=\"T_46d2a_level0_row4\" class=\"row_heading level0 row4\" >All</th>\n",
       "      <th id=\"T_46d2a_level1_row4\" class=\"row_heading level1 row4\" ></th>\n",
       "      <td id=\"T_46d2a_row4_col0\" class=\"data row4 col0\" >216</td>\n",
       "      <td id=\"T_46d2a_row4_col1\" class=\"data row4 col1\" >184</td>\n",
       "      <td id=\"T_46d2a_row4_col2\" class=\"data row4 col2\" >491</td>\n",
       "      <td id=\"T_46d2a_row4_col3\" class=\"data row4 col3\" >891</td>\n",
       "    </tr>\n",
       "  </tbody>\n",
       "</table>\n"
      ],
      "text/plain": [
       "<pandas.io.formats.style.Styler at 0x7fc32f27a650>"
      ]
     },
     "execution_count": 10,
     "metadata": {},
     "output_type": "execute_result"
    }
   ],
   "source": [
    "pd.crosstab([data.Sex, data.Survived], data.Pclass, margins = True).style.background_gradient(cmap='cool')"
   ]
  },
  {
   "cell_type": "code",
   "execution_count": 11,
   "id": "de585cdb",
   "metadata": {
    "execution": {
     "iopub.execute_input": "2022-03-04T11:58:09.426560Z",
     "iopub.status.busy": "2022-03-04T11:58:09.425853Z",
     "iopub.status.idle": "2022-03-04T11:58:10.003219Z",
     "shell.execute_reply": "2022-03-04T11:58:10.002655Z",
     "shell.execute_reply.started": "2022-03-04T10:48:03.261546Z"
    },
    "papermill": {
     "duration": 0.63784,
     "end_time": "2022-03-04T11:58:10.003384",
     "exception": false,
     "start_time": "2022-03-04T11:58:09.365544",
     "status": "completed"
    },
    "tags": []
   },
   "outputs": [
    {
     "data": {
      "image/png": "[encoded data removed]",
      "text/plain": [
       "<Figure size 430.5x360 with 1 Axes>"
      ]
     },
     "metadata": {
      "needs_background": "light"
     },
     "output_type": "display_data"
    }
   ],
   "source": [
    "sns.factorplot('Pclass', 'Survived', hue = 'Sex', data = data)\n",
    "plt.show()"
   ]
  },
  {
   "cell_type": "markdown",
   "id": "d184f46f",
   "metadata": {
    "papermill": {
     "duration": 0.055162,
     "end_time": "2022-03-04T11:58:10.114362",
     "exception": false,
     "start_time": "2022-03-04T11:58:10.059200",
     "status": "completed"
    },
    "tags": []
   },
   "source": [
    "- 범주형 데이터를 쉽게 분리가능하기 때문에 factorplot를 사용\n",
    "- 1등석인데도 남자는 생존률이 낮은걸 확인\n",
    "### age -> Continous Feature"
   ]
  },
  {
   "cell_type": "code",
   "execution_count": 12,
   "id": "4eabdbc4",
   "metadata": {
    "execution": {
     "iopub.execute_input": "2022-03-04T11:58:10.231874Z",
     "iopub.status.busy": "2022-03-04T11:58:10.230834Z",
     "iopub.status.idle": "2022-03-04T11:58:10.695379Z",
     "shell.execute_reply": "2022-03-04T11:58:10.695939Z",
     "shell.execute_reply.started": "2022-03-04T10:48:03.847316Z"
    },
    "papermill": {
     "duration": 0.524615,
     "end_time": "2022-03-04T11:58:10.696128",
     "exception": false,
     "start_time": "2022-03-04T11:58:10.171513",
     "status": "completed"
    },
    "tags": []
   },
   "outputs": [
    {
     "data": {
      "image/png": "[encoded data removed]",
      "text/plain": [
       "<Figure size 1296x576 with 2 Axes>"
      ]
     },
     "metadata": {
      "needs_background": "light"
     },
     "output_type": "display_data"
    }
   ],
   "source": [
    "f, ax = plt.subplots(1,2,figsize = (18, 8))\n",
    "sns.violinplot('Pclass','Age', hue = 'Survived', data= data, split = True, ax = ax[0])\n",
    "ax[0].set_yticks(range(0, 110, 10))\n",
    "sns.violinplot('Sex', 'Age', hue = 'Survived', data= data, split = True, ax = ax[1])\n",
    "plt.show()"
   ]
  },
  {
   "cell_type": "markdown",
   "id": "4febd44d",
   "metadata": {
    "papermill": {
     "duration": 0.061277,
     "end_time": "2022-03-04T11:58:10.817070",
     "exception": false,
     "start_time": "2022-03-04T11:58:10.755793",
     "status": "completed"
    },
    "tags": []
   },
   "source": [
    "- age에는 177개의 null데이터가 존재함, 이 값들을 채우기 위해선 평균값을 사용할 수도 있지만 차이가 너무 난다. 4살을 29살로 지정할 수도 있다.\n",
    "- 해결방법으로 이름을 보고 나이의 평균값을 각각의 그룹으로 지정할 수 있다. \n",
    "- !! 중요 !! 미국은 Mr,Mrs, Dr, Major 등 나이를 특정할 수 있는 부분이 있다. "
   ]
  },
  {
   "cell_type": "code",
   "execution_count": 13,
   "id": "4d469536",
   "metadata": {
    "execution": {
     "iopub.execute_input": "2022-03-04T11:58:10.939229Z",
     "iopub.status.busy": "2022-03-04T11:58:10.938243Z",
     "iopub.status.idle": "2022-03-04T11:58:10.994772Z",
     "shell.execute_reply": "2022-03-04T11:58:10.994240Z",
     "shell.execute_reply.started": "2022-03-04T10:48:04.347422Z"
    },
    "papermill": {
     "duration": 0.118539,
     "end_time": "2022-03-04T11:58:10.994904",
     "exception": false,
     "start_time": "2022-03-04T11:58:10.876365",
     "status": "completed"
    },
    "tags": []
   },
   "outputs": [],
   "source": [
    "data['Initial'] = 0\n",
    "for i in data:\n",
    "    data['Initial'] = data.Name.str.extract('([A-Za-z]+)\\.') # 정규식 사용, dot(.)뒤에 문자열 찾기"
   ]
  },
  {
   "cell_type": "code",
   "execution_count": 14,
   "id": "6619a695",
   "metadata": {
    "execution": {
     "iopub.execute_input": "2022-03-04T11:58:11.115363Z",
     "iopub.status.busy": "2022-03-04T11:58:11.114741Z",
     "iopub.status.idle": "2022-03-04T11:58:11.160037Z",
     "shell.execute_reply": "2022-03-04T11:58:11.159389Z",
     "shell.execute_reply.started": "2022-03-04T10:48:04.408932Z"
    },
    "papermill": {
     "duration": 0.106537,
     "end_time": "2022-03-04T11:58:11.160175",
     "exception": false,
     "start_time": "2022-03-04T11:58:11.053638",
     "status": "completed"
    },
    "tags": []
   },
   "outputs": [
    {
     "data": {
      "text/html": [
       "<style type=\"text/css\">\n",
       "#T_cb675_row0_col0, #T_cb675_row0_col1, #T_cb675_row0_col3, #T_cb675_row0_col4, #T_cb675_row0_col5, #T_cb675_row0_col7, #T_cb675_row0_col8, #T_cb675_row0_col12, #T_cb675_row0_col15, #T_cb675_row0_col16, #T_cb675_row1_col2, #T_cb675_row1_col6, #T_cb675_row1_col9, #T_cb675_row1_col10, #T_cb675_row1_col11, #T_cb675_row1_col13, #T_cb675_row1_col14 {\n",
       "  background-color: #00ffff;\n",
       "  color: #000000;\n",
       "}\n",
       "#T_cb675_row0_col2, #T_cb675_row0_col6, #T_cb675_row0_col9, #T_cb675_row0_col10, #T_cb675_row0_col11, #T_cb675_row0_col13, #T_cb675_row0_col14, #T_cb675_row1_col0, #T_cb675_row1_col1, #T_cb675_row1_col3, #T_cb675_row1_col4, #T_cb675_row1_col5, #T_cb675_row1_col7, #T_cb675_row1_col8, #T_cb675_row1_col12, #T_cb675_row1_col15, #T_cb675_row1_col16 {\n",
       "  background-color: #ff00ff;\n",
       "  color: #f1f1f1;\n",
       "}\n",
       "</style>\n",
       "<table id=\"T_cb675_\">\n",
       "  <thead>\n",
       "    <tr>\n",
       "      <th class=\"index_name level0\" >Initial</th>\n",
       "      <th class=\"col_heading level0 col0\" >Capt</th>\n",
       "      <th class=\"col_heading level0 col1\" >Col</th>\n",
       "      <th class=\"col_heading level0 col2\" >Countess</th>\n",
       "      <th class=\"col_heading level0 col3\" >Don</th>\n",
       "      <th class=\"col_heading level0 col4\" >Dr</th>\n",
       "      <th class=\"col_heading level0 col5\" >Jonkheer</th>\n",
       "      <th class=\"col_heading level0 col6\" >Lady</th>\n",
       "      <th class=\"col_heading level0 col7\" >Major</th>\n",
       "      <th class=\"col_heading level0 col8\" >Master</th>\n",
       "      <th class=\"col_heading level0 col9\" >Miss</th>\n",
       "      <th class=\"col_heading level0 col10\" >Mlle</th>\n",
       "      <th class=\"col_heading level0 col11\" >Mme</th>\n",
       "      <th class=\"col_heading level0 col12\" >Mr</th>\n",
       "      <th class=\"col_heading level0 col13\" >Mrs</th>\n",
       "      <th class=\"col_heading level0 col14\" >Ms</th>\n",
       "      <th class=\"col_heading level0 col15\" >Rev</th>\n",
       "      <th class=\"col_heading level0 col16\" >Sir</th>\n",
       "    </tr>\n",
       "    <tr>\n",
       "      <th class=\"index_name level0\" >Sex</th>\n",
       "      <th class=\"blank col0\" >&nbsp;</th>\n",
       "      <th class=\"blank col1\" >&nbsp;</th>\n",
       "      <th class=\"blank col2\" >&nbsp;</th>\n",
       "      <th class=\"blank col3\" >&nbsp;</th>\n",
       "      <th class=\"blank col4\" >&nbsp;</th>\n",
       "      <th class=\"blank col5\" >&nbsp;</th>\n",
       "      <th class=\"blank col6\" >&nbsp;</th>\n",
       "      <th class=\"blank col7\" >&nbsp;</th>\n",
       "      <th class=\"blank col8\" >&nbsp;</th>\n",
       "      <th class=\"blank col9\" >&nbsp;</th>\n",
       "      <th class=\"blank col10\" >&nbsp;</th>\n",
       "      <th class=\"blank col11\" >&nbsp;</th>\n",
       "      <th class=\"blank col12\" >&nbsp;</th>\n",
       "      <th class=\"blank col13\" >&nbsp;</th>\n",
       "      <th class=\"blank col14\" >&nbsp;</th>\n",
       "      <th class=\"blank col15\" >&nbsp;</th>\n",
       "      <th class=\"blank col16\" >&nbsp;</th>\n",
       "    </tr>\n",
       "  </thead>\n",
       "  <tbody>\n",
       "    <tr>\n",
       "      <th id=\"T_cb675_level0_row0\" class=\"row_heading level0 row0\" >female</th>\n",
       "      <td id=\"T_cb675_row0_col0\" class=\"data row0 col0\" >0</td>\n",
       "      <td id=\"T_cb675_row0_col1\" class=\"data row0 col1\" >0</td>\n",
       "      <td id=\"T_cb675_row0_col2\" class=\"data row0 col2\" >1</td>\n",
       "      <td id=\"T_cb675_row0_col3\" class=\"data row0 col3\" >0</td>\n",
       "      <td id=\"T_cb675_row0_col4\" class=\"data row0 col4\" >1</td>\n",
       "      <td id=\"T_cb675_row0_col5\" class=\"data row0 col5\" >0</td>\n",
       "      <td id=\"T_cb675_row0_col6\" class=\"data row0 col6\" >1</td>\n",
       "      <td id=\"T_cb675_row0_col7\" class=\"data row0 col7\" >0</td>\n",
       "      <td id=\"T_cb675_row0_col8\" class=\"data row0 col8\" >0</td>\n",
       "      <td id=\"T_cb675_row0_col9\" class=\"data row0 col9\" >182</td>\n",
       "      <td id=\"T_cb675_row0_col10\" class=\"data row0 col10\" >2</td>\n",
       "      <td id=\"T_cb675_row0_col11\" class=\"data row0 col11\" >1</td>\n",
       "      <td id=\"T_cb675_row0_col12\" class=\"data row0 col12\" >0</td>\n",
       "      <td id=\"T_cb675_row0_col13\" class=\"data row0 col13\" >125</td>\n",
       "      <td id=\"T_cb675_row0_col14\" class=\"data row0 col14\" >1</td>\n",
       "      <td id=\"T_cb675_row0_col15\" class=\"data row0 col15\" >0</td>\n",
       "      <td id=\"T_cb675_row0_col16\" class=\"data row0 col16\" >0</td>\n",
       "    </tr>\n",
       "    <tr>\n",
       "      <th id=\"T_cb675_level0_row1\" class=\"row_heading level0 row1\" >male</th>\n",
       "      <td id=\"T_cb675_row1_col0\" class=\"data row1 col0\" >1</td>\n",
       "      <td id=\"T_cb675_row1_col1\" class=\"data row1 col1\" >2</td>\n",
       "      <td id=\"T_cb675_row1_col2\" class=\"data row1 col2\" >0</td>\n",
       "      <td id=\"T_cb675_row1_col3\" class=\"data row1 col3\" >1</td>\n",
       "      <td id=\"T_cb675_row1_col4\" class=\"data row1 col4\" >6</td>\n",
       "      <td id=\"T_cb675_row1_col5\" class=\"data row1 col5\" >1</td>\n",
       "      <td id=\"T_cb675_row1_col6\" class=\"data row1 col6\" >0</td>\n",
       "      <td id=\"T_cb675_row1_col7\" class=\"data row1 col7\" >2</td>\n",
       "      <td id=\"T_cb675_row1_col8\" class=\"data row1 col8\" >40</td>\n",
       "      <td id=\"T_cb675_row1_col9\" class=\"data row1 col9\" >0</td>\n",
       "      <td id=\"T_cb675_row1_col10\" class=\"data row1 col10\" >0</td>\n",
       "      <td id=\"T_cb675_row1_col11\" class=\"data row1 col11\" >0</td>\n",
       "      <td id=\"T_cb675_row1_col12\" class=\"data row1 col12\" >517</td>\n",
       "      <td id=\"T_cb675_row1_col13\" class=\"data row1 col13\" >0</td>\n",
       "      <td id=\"T_cb675_row1_col14\" class=\"data row1 col14\" >0</td>\n",
       "      <td id=\"T_cb675_row1_col15\" class=\"data row1 col15\" >6</td>\n",
       "      <td id=\"T_cb675_row1_col16\" class=\"data row1 col16\" >1</td>\n",
       "    </tr>\n",
       "  </tbody>\n",
       "</table>\n"
      ],
      "text/plain": [
       "<pandas.io.formats.style.Styler at 0x7fc326ef2a50>"
      ]
     },
     "execution_count": 14,
     "metadata": {},
     "output_type": "execute_result"
    }
   ],
   "source": [
    "pd.crosstab(data.Initial, data.Sex).T.style.background_gradient(cmap = 'cool')"
   ]
  },
  {
   "cell_type": "markdown",
   "id": "7a77a19c",
   "metadata": {
    "papermill": {
     "duration": 0.058669,
     "end_time": "2022-03-04T11:58:11.277793",
     "exception": false,
     "start_time": "2022-03-04T11:58:11.219124",
     "status": "completed"
    },
    "tags": []
   },
   "source": [
    "- 철자가 틀린 Mile, Mme들이 있어 범주화 시킨다."
   ]
  },
  {
   "cell_type": "code",
   "execution_count": 15,
   "id": "d09a593e",
   "metadata": {
    "execution": {
     "iopub.execute_input": "2022-03-04T11:58:11.398831Z",
     "iopub.status.busy": "2022-03-04T11:58:11.398224Z",
     "iopub.status.idle": "2022-03-04T11:58:11.405692Z",
     "shell.execute_reply": "2022-03-04T11:58:11.406239Z",
     "shell.execute_reply.started": "2022-03-04T10:48:04.468963Z"
    },
    "papermill": {
     "duration": 0.069478,
     "end_time": "2022-03-04T11:58:11.406437",
     "exception": false,
     "start_time": "2022-03-04T11:58:11.336959",
     "status": "completed"
    },
    "tags": []
   },
   "outputs": [],
   "source": [
    "data['Initial'].replace(['Mlle','Mme','Ms','Dr','Major','Lady','Countess','Jonkheer','Col','Rev','Capt','Sir','Don'],['Miss','Miss','Miss','Mr','Mr','Mrs','Mrs','Other','Other','Other','Mr','Mr','Mr'],inplace=True)"
   ]
  },
  {
   "cell_type": "code",
   "execution_count": 16,
   "id": "923cb0a5",
   "metadata": {
    "execution": {
     "iopub.execute_input": "2022-03-04T11:58:11.526958Z",
     "iopub.status.busy": "2022-03-04T11:58:11.526349Z",
     "iopub.status.idle": "2022-03-04T11:58:11.533428Z",
     "shell.execute_reply": "2022-03-04T11:58:11.534036Z",
     "shell.execute_reply.started": "2022-03-04T10:48:04.480406Z"
    },
    "papermill": {
     "duration": 0.069019,
     "end_time": "2022-03-04T11:58:11.534204",
     "exception": false,
     "start_time": "2022-03-04T11:58:11.465185",
     "status": "completed"
    },
    "tags": []
   },
   "outputs": [
    {
     "data": {
      "text/plain": [
       "Initial\n",
       "Master     4.574167\n",
       "Miss      21.860000\n",
       "Mr        32.739609\n",
       "Mrs       35.981818\n",
       "Other     45.888889\n",
       "Name: Age, dtype: float64"
      ]
     },
     "execution_count": 16,
     "metadata": {},
     "output_type": "execute_result"
    }
   ],
   "source": [
    "data.groupby('Initial')['Age'].mean()"
   ]
  },
  {
   "cell_type": "markdown",
   "id": "5978b283",
   "metadata": {
    "papermill": {
     "duration": 0.0587,
     "end_time": "2022-03-04T11:58:11.651780",
     "exception": false,
     "start_time": "2022-03-04T11:58:11.593080",
     "status": "completed"
    },
    "tags": []
   },
   "source": [
    "- 이제 null data를 채우면 된다. "
   ]
  },
  {
   "cell_type": "code",
   "execution_count": 17,
   "id": "f9f4d405",
   "metadata": {
    "execution": {
     "iopub.execute_input": "2022-03-04T11:58:11.774386Z",
     "iopub.status.busy": "2022-03-04T11:58:11.773724Z",
     "iopub.status.idle": "2022-03-04T11:58:11.785162Z",
     "shell.execute_reply": "2022-03-04T11:58:11.785679Z",
     "shell.execute_reply.started": "2022-03-04T10:48:04.505008Z"
    },
    "papermill": {
     "duration": 0.074117,
     "end_time": "2022-03-04T11:58:11.785853",
     "exception": false,
     "start_time": "2022-03-04T11:58:11.711736",
     "status": "completed"
    },
    "tags": []
   },
   "outputs": [],
   "source": [
    "data.loc[(data.Age.isnull())&(data.Initial=='Mr'),'Age']=33\n",
    "data.loc[(data.Age.isnull())&(data.Initial=='Mrs'),'Age']=36\n",
    "data.loc[(data.Age.isnull())&(data.Initial=='Master'),'Age']=5\n",
    "data.loc[(data.Age.isnull())&(data.Initial=='Miss'),'Age']=22\n",
    "data.loc[(data.Age.isnull())&(data.Initial=='Other'),'Age']=46"
   ]
  },
  {
   "cell_type": "code",
   "execution_count": 18,
   "id": "938837dc",
   "metadata": {
    "execution": {
     "iopub.execute_input": "2022-03-04T11:58:11.911746Z",
     "iopub.status.busy": "2022-03-04T11:58:11.910848Z",
     "iopub.status.idle": "2022-03-04T11:58:11.914590Z",
     "shell.execute_reply": "2022-03-04T11:58:11.914114Z",
     "shell.execute_reply.started": "2022-03-04T10:48:04.522318Z"
    },
    "papermill": {
     "duration": 0.069175,
     "end_time": "2022-03-04T11:58:11.914725",
     "exception": false,
     "start_time": "2022-03-04T11:58:11.845550",
     "status": "completed"
    },
    "tags": []
   },
   "outputs": [
    {
     "data": {
      "text/plain": [
       "False"
      ]
     },
     "execution_count": 18,
     "metadata": {},
     "output_type": "execute_result"
    }
   ],
   "source": [
    "data.Age.isnull().any() # "
   ]
  },
  {
   "cell_type": "code",
   "execution_count": 19,
   "id": "b5c81b0f",
   "metadata": {
    "execution": {
     "iopub.execute_input": "2022-03-04T11:58:12.050141Z",
     "iopub.status.busy": "2022-03-04T11:58:12.037987Z",
     "iopub.status.idle": "2022-03-04T11:58:12.617929Z",
     "shell.execute_reply": "2022-03-04T11:58:12.618425Z",
     "shell.execute_reply.started": "2022-03-04T10:50:11.977500Z"
    },
    "papermill": {
     "duration": 0.643576,
     "end_time": "2022-03-04T11:58:12.618601",
     "exception": false,
     "start_time": "2022-03-04T11:58:11.975025",
     "status": "completed"
    },
    "tags": []
   },
   "outputs": [
    {
     "data": {
      "image/png": "[encoded data removed]",
      "text/plain": [
       "<Figure size 1440x720 with 2 Axes>"
      ]
     },
     "metadata": {
      "needs_background": "light"
     },
     "output_type": "display_data"
    }
   ],
   "source": [
    "f,ax = plt.subplots(1,2,figsize = (20,10))\n",
    "data[data['Survived'] == 0].Age.plot.hist(ax=ax[0], bins = 20, edgecolor = 'black', color = 'red')  # bin : 막대의 개수 조절\n",
    "ax[0].set_title('Survived = 0')\n",
    "data[data['Survived']==1].Age.plot.hist(ax=ax[1], bins=20, color='green',edgecolor='black')\n",
    "ax[1].set_title('Survived = 1')\n",
    "ax[1].set_xticks(range(0,85,5))\n",
    "plt.show()"
   ]
  },
  {
   "cell_type": "code",
   "execution_count": 20,
   "id": "a082a02e",
   "metadata": {
    "execution": {
     "iopub.execute_input": "2022-03-04T11:58:12.743978Z",
     "iopub.status.busy": "2022-03-04T11:58:12.743368Z",
     "iopub.status.idle": "2022-03-04T11:58:13.955251Z",
     "shell.execute_reply": "2022-03-04T11:58:13.955904Z",
     "shell.execute_reply.started": "2022-03-04T10:50:15.978535Z"
    },
    "papermill": {
     "duration": 1.276293,
     "end_time": "2022-03-04T11:58:13.956089",
     "exception": false,
     "start_time": "2022-03-04T11:58:12.679796",
     "status": "completed"
    },
    "tags": []
   },
   "outputs": [
    {
     "data": {
      "image/png": "[encoded data removed]",
      "text/plain": [
       "<Figure size 1800x360 with 5 Axes>"
      ]
     },
     "metadata": {
      "needs_background": "light"
     },
     "output_type": "display_data"
    }
   ],
   "source": [
    "sns.factorplot('Pclass', 'Survived', col = 'Initial', data =data)\n",
    "plt.show()"
   ]
  },
  {
   "cell_type": "markdown",
   "id": "bff89cc3",
   "metadata": {
    "papermill": {
     "duration": 0.063026,
     "end_time": "2022-03-04T11:58:14.081728",
     "exception": false,
     "start_time": "2022-03-04T11:58:14.018702",
     "status": "completed"
    },
    "tags": []
   },
   "source": [
    "- 여성과 아동들이 많이 살았음,\n",
    "### Embarked -> Categorical Value"
   ]
  },
  {
   "cell_type": "code",
   "execution_count": 21,
   "id": "34b0ae91",
   "metadata": {
    "execution": {
     "iopub.execute_input": "2022-03-04T11:58:14.210946Z",
     "iopub.status.busy": "2022-03-04T11:58:14.210344Z",
     "iopub.status.idle": "2022-03-04T11:58:14.282300Z",
     "shell.execute_reply": "2022-03-04T11:58:14.281664Z",
     "shell.execute_reply.started": "2022-03-04T10:50:20.227610Z"
    },
    "papermill": {
     "duration": 0.13733,
     "end_time": "2022-03-04T11:58:14.282445",
     "exception": false,
     "start_time": "2022-03-04T11:58:14.145115",
     "status": "completed"
    },
    "tags": []
   },
   "outputs": [
    {
     "data": {
      "text/html": [
       "<style type=\"text/css\">\n",
       "#T_a066f_row0_col0, #T_a066f_row1_col2 {\n",
       "  background-color: #fcfe66;\n",
       "  color: #000000;\n",
       "}\n",
       "#T_a066f_row0_col1 {\n",
       "  background-color: #d2e866;\n",
       "  color: #000000;\n",
       "}\n",
       "#T_a066f_row0_col2 {\n",
       "  background-color: #f2f866;\n",
       "  color: #000000;\n",
       "}\n",
       "#T_a066f_row0_col3 {\n",
       "  background-color: #d8ec66;\n",
       "  color: #000000;\n",
       "}\n",
       "#T_a066f_row0_col4, #T_a066f_row2_col3 {\n",
       "  background-color: #e8f466;\n",
       "  color: #000000;\n",
       "}\n",
       "#T_a066f_row1_col0, #T_a066f_row3_col0, #T_a066f_row3_col1, #T_a066f_row3_col2, #T_a066f_row3_col3, #T_a066f_row3_col4, #T_a066f_row4_col0, #T_a066f_row4_col2, #T_a066f_row4_col3, #T_a066f_row4_col4 {\n",
       "  background-color: #ffff66;\n",
       "  color: #000000;\n",
       "}\n",
       "#T_a066f_row1_col1, #T_a066f_row6_col0 {\n",
       "  background-color: #f9fc66;\n",
       "  color: #000000;\n",
       "}\n",
       "#T_a066f_row1_col3, #T_a066f_row1_col4 {\n",
       "  background-color: #fbfd66;\n",
       "  color: #000000;\n",
       "}\n",
       "#T_a066f_row2_col0, #T_a066f_row5_col1 {\n",
       "  background-color: #e6f266;\n",
       "  color: #000000;\n",
       "}\n",
       "#T_a066f_row2_col1 {\n",
       "  background-color: #f0f866;\n",
       "  color: #000000;\n",
       "}\n",
       "#T_a066f_row2_col2 {\n",
       "  background-color: #eef666;\n",
       "  color: #000000;\n",
       "}\n",
       "#T_a066f_row2_col4, #T_a066f_row7_col0 {\n",
       "  background-color: #edf666;\n",
       "  color: #000000;\n",
       "}\n",
       "#T_a066f_row4_col1 {\n",
       "  background-color: #fefe66;\n",
       "  color: #000000;\n",
       "}\n",
       "#T_a066f_row5_col0 {\n",
       "  background-color: #e3f166;\n",
       "  color: #000000;\n",
       "}\n",
       "#T_a066f_row5_col2 {\n",
       "  background-color: #ecf666;\n",
       "  color: #000000;\n",
       "}\n",
       "#T_a066f_row5_col3 {\n",
       "  background-color: #f8fc66;\n",
       "  color: #000000;\n",
       "}\n",
       "#T_a066f_row5_col4 {\n",
       "  background-color: #ebf566;\n",
       "  color: #000000;\n",
       "}\n",
       "#T_a066f_row6_col1 {\n",
       "  background-color: #cde666;\n",
       "  color: #000000;\n",
       "}\n",
       "#T_a066f_row6_col2 {\n",
       "  background-color: #e4f266;\n",
       "  color: #000000;\n",
       "}\n",
       "#T_a066f_row6_col3 {\n",
       "  background-color: #bede66;\n",
       "  color: #000000;\n",
       "}\n",
       "#T_a066f_row6_col4 {\n",
       "  background-color: #dbed66;\n",
       "  color: #000000;\n",
       "}\n",
       "#T_a066f_row7_col1 {\n",
       "  background-color: #bdde66;\n",
       "  color: #000000;\n",
       "}\n",
       "#T_a066f_row7_col2 {\n",
       "  background-color: #d3e966;\n",
       "  color: #000000;\n",
       "}\n",
       "#T_a066f_row7_col3, #T_a066f_row8_col1 {\n",
       "  background-color: #dcee66;\n",
       "  color: #000000;\n",
       "}\n",
       "#T_a066f_row7_col4 {\n",
       "  background-color: #d1e866;\n",
       "  color: #000000;\n",
       "}\n",
       "#T_a066f_row8_col0 {\n",
       "  background-color: #52a866;\n",
       "  color: #f1f1f1;\n",
       "}\n",
       "#T_a066f_row8_col2 {\n",
       "  background-color: #81c066;\n",
       "  color: #000000;\n",
       "}\n",
       "#T_a066f_row8_col3 {\n",
       "  background-color: #b0d866;\n",
       "  color: #000000;\n",
       "}\n",
       "#T_a066f_row8_col4 {\n",
       "  background-color: #9acc66;\n",
       "  color: #000000;\n",
       "}\n",
       "#T_a066f_row9_col0, #T_a066f_row9_col1, #T_a066f_row9_col2, #T_a066f_row9_col3, #T_a066f_row9_col4 {\n",
       "  background-color: #008066;\n",
       "  color: #f1f1f1;\n",
       "}\n",
       "</style>\n",
       "<table id=\"T_a066f_\">\n",
       "  <thead>\n",
       "    <tr>\n",
       "      <th class=\"blank\" >&nbsp;</th>\n",
       "      <th class=\"index_name level0\" >Sex</th>\n",
       "      <th class=\"col_heading level0 col0\" colspan=\"2\">female</th>\n",
       "      <th class=\"col_heading level0 col2\" colspan=\"2\">male</th>\n",
       "      <th class=\"col_heading level0 col4\" >All</th>\n",
       "    </tr>\n",
       "    <tr>\n",
       "      <th class=\"blank\" >&nbsp;</th>\n",
       "      <th class=\"index_name level1\" >Survived</th>\n",
       "      <th class=\"col_heading level1 col0\" >0</th>\n",
       "      <th class=\"col_heading level1 col1\" >1</th>\n",
       "      <th class=\"col_heading level1 col2\" >0</th>\n",
       "      <th class=\"col_heading level1 col3\" >1</th>\n",
       "      <th class=\"col_heading level1 col4\" ></th>\n",
       "    </tr>\n",
       "    <tr>\n",
       "      <th class=\"index_name level0\" >Embarked</th>\n",
       "      <th class=\"index_name level1\" >Pclass</th>\n",
       "      <th class=\"blank col0\" >&nbsp;</th>\n",
       "      <th class=\"blank col1\" >&nbsp;</th>\n",
       "      <th class=\"blank col2\" >&nbsp;</th>\n",
       "      <th class=\"blank col3\" >&nbsp;</th>\n",
       "      <th class=\"blank col4\" >&nbsp;</th>\n",
       "    </tr>\n",
       "  </thead>\n",
       "  <tbody>\n",
       "    <tr>\n",
       "      <th id=\"T_a066f_level0_row0\" class=\"row_heading level0 row0\" rowspan=\"3\">C</th>\n",
       "      <th id=\"T_a066f_level1_row0\" class=\"row_heading level1 row0\" >1</th>\n",
       "      <td id=\"T_a066f_row0_col0\" class=\"data row0 col0\" >1</td>\n",
       "      <td id=\"T_a066f_row0_col1\" class=\"data row0 col1\" >42</td>\n",
       "      <td id=\"T_a066f_row0_col2\" class=\"data row0 col2\" >25</td>\n",
       "      <td id=\"T_a066f_row0_col3\" class=\"data row0 col3\" >17</td>\n",
       "      <td id=\"T_a066f_row0_col4\" class=\"data row0 col4\" >85</td>\n",
       "    </tr>\n",
       "    <tr>\n",
       "      <th id=\"T_a066f_level1_row1\" class=\"row_heading level1 row1\" >2</th>\n",
       "      <td id=\"T_a066f_row1_col0\" class=\"data row1 col0\" >0</td>\n",
       "      <td id=\"T_a066f_row1_col1\" class=\"data row1 col1\" >7</td>\n",
       "      <td id=\"T_a066f_row1_col2\" class=\"data row1 col2\" >8</td>\n",
       "      <td id=\"T_a066f_row1_col3\" class=\"data row1 col3\" >2</td>\n",
       "      <td id=\"T_a066f_row1_col4\" class=\"data row1 col4\" >17</td>\n",
       "    </tr>\n",
       "    <tr>\n",
       "      <th id=\"T_a066f_level1_row2\" class=\"row_heading level1 row2\" >3</th>\n",
       "      <td id=\"T_a066f_row2_col0\" class=\"data row2 col0\" >8</td>\n",
       "      <td id=\"T_a066f_row2_col1\" class=\"data row2 col1\" >15</td>\n",
       "      <td id=\"T_a066f_row2_col2\" class=\"data row2 col2\" >33</td>\n",
       "      <td id=\"T_a066f_row2_col3\" class=\"data row2 col3\" >10</td>\n",
       "      <td id=\"T_a066f_row2_col4\" class=\"data row2 col4\" >66</td>\n",
       "    </tr>\n",
       "    <tr>\n",
       "      <th id=\"T_a066f_level0_row3\" class=\"row_heading level0 row3\" rowspan=\"3\">Q</th>\n",
       "      <th id=\"T_a066f_level1_row3\" class=\"row_heading level1 row3\" >1</th>\n",
       "      <td id=\"T_a066f_row3_col0\" class=\"data row3 col0\" >0</td>\n",
       "      <td id=\"T_a066f_row3_col1\" class=\"data row3 col1\" >1</td>\n",
       "      <td id=\"T_a066f_row3_col2\" class=\"data row3 col2\" >1</td>\n",
       "      <td id=\"T_a066f_row3_col3\" class=\"data row3 col3\" >0</td>\n",
       "      <td id=\"T_a066f_row3_col4\" class=\"data row3 col4\" >2</td>\n",
       "    </tr>\n",
       "    <tr>\n",
       "      <th id=\"T_a066f_level1_row4\" class=\"row_heading level1 row4\" >2</th>\n",
       "      <td id=\"T_a066f_row4_col0\" class=\"data row4 col0\" >0</td>\n",
       "      <td id=\"T_a066f_row4_col1\" class=\"data row4 col1\" >2</td>\n",
       "      <td id=\"T_a066f_row4_col2\" class=\"data row4 col2\" >1</td>\n",
       "      <td id=\"T_a066f_row4_col3\" class=\"data row4 col3\" >0</td>\n",
       "      <td id=\"T_a066f_row4_col4\" class=\"data row4 col4\" >3</td>\n",
       "    </tr>\n",
       "    <tr>\n",
       "      <th id=\"T_a066f_level1_row5\" class=\"row_heading level1 row5\" >3</th>\n",
       "      <td id=\"T_a066f_row5_col0\" class=\"data row5 col0\" >9</td>\n",
       "      <td id=\"T_a066f_row5_col1\" class=\"data row5 col1\" >24</td>\n",
       "      <td id=\"T_a066f_row5_col2\" class=\"data row5 col2\" >36</td>\n",
       "      <td id=\"T_a066f_row5_col3\" class=\"data row5 col3\" >3</td>\n",
       "      <td id=\"T_a066f_row5_col4\" class=\"data row5 col4\" >72</td>\n",
       "    </tr>\n",
       "    <tr>\n",
       "      <th id=\"T_a066f_level0_row6\" class=\"row_heading level0 row6\" rowspan=\"3\">S</th>\n",
       "      <th id=\"T_a066f_level1_row6\" class=\"row_heading level1 row6\" >1</th>\n",
       "      <td id=\"T_a066f_row6_col0\" class=\"data row6 col0\" >2</td>\n",
       "      <td id=\"T_a066f_row6_col1\" class=\"data row6 col1\" >46</td>\n",
       "      <td id=\"T_a066f_row6_col2\" class=\"data row6 col2\" >51</td>\n",
       "      <td id=\"T_a066f_row6_col3\" class=\"data row6 col3\" >28</td>\n",
       "      <td id=\"T_a066f_row6_col4\" class=\"data row6 col4\" >127</td>\n",
       "    </tr>\n",
       "    <tr>\n",
       "      <th id=\"T_a066f_level1_row7\" class=\"row_heading level1 row7\" >2</th>\n",
       "      <td id=\"T_a066f_row7_col0\" class=\"data row7 col0\" >6</td>\n",
       "      <td id=\"T_a066f_row7_col1\" class=\"data row7 col1\" >61</td>\n",
       "      <td id=\"T_a066f_row7_col2\" class=\"data row7 col2\" >82</td>\n",
       "      <td id=\"T_a066f_row7_col3\" class=\"data row7 col3\" >15</td>\n",
       "      <td id=\"T_a066f_row7_col4\" class=\"data row7 col4\" >164</td>\n",
       "    </tr>\n",
       "    <tr>\n",
       "      <th id=\"T_a066f_level1_row8\" class=\"row_heading level1 row8\" >3</th>\n",
       "      <td id=\"T_a066f_row8_col0\" class=\"data row8 col0\" >55</td>\n",
       "      <td id=\"T_a066f_row8_col1\" class=\"data row8 col1\" >33</td>\n",
       "      <td id=\"T_a066f_row8_col2\" class=\"data row8 col2\" >231</td>\n",
       "      <td id=\"T_a066f_row8_col3\" class=\"data row8 col3\" >34</td>\n",
       "      <td id=\"T_a066f_row8_col4\" class=\"data row8 col4\" >353</td>\n",
       "    </tr>\n",
       "    <tr>\n",
       "      <th id=\"T_a066f_level0_row9\" class=\"row_heading level0 row9\" >All</th>\n",
       "      <th id=\"T_a066f_level1_row9\" class=\"row_heading level1 row9\" ></th>\n",
       "      <td id=\"T_a066f_row9_col0\" class=\"data row9 col0\" >81</td>\n",
       "      <td id=\"T_a066f_row9_col1\" class=\"data row9 col1\" >231</td>\n",
       "      <td id=\"T_a066f_row9_col2\" class=\"data row9 col2\" >468</td>\n",
       "      <td id=\"T_a066f_row9_col3\" class=\"data row9 col3\" >109</td>\n",
       "      <td id=\"T_a066f_row9_col4\" class=\"data row9 col4\" >889</td>\n",
       "    </tr>\n",
       "  </tbody>\n",
       "</table>\n"
      ],
      "text/plain": [
       "<pandas.io.formats.style.Styler at 0x7fc32f13bad0>"
      ]
     },
     "execution_count": 21,
     "metadata": {},
     "output_type": "execute_result"
    }
   ],
   "source": [
    "pd.crosstab([data.Embarked, data.Pclass], [data.Sex, data.Survived], margins = True).style.background_gradient(cmap='summer_r')"
   ]
  },
  {
   "cell_type": "markdown",
   "id": "6842af55",
   "metadata": {
    "papermill": {
     "duration": 0.063266,
     "end_time": "2022-03-04T11:58:14.408903",
     "exception": false,
     "start_time": "2022-03-04T11:58:14.345637",
     "status": "completed"
    },
    "tags": []
   },
   "source": [
    "- 항구마다 생존 가능성"
   ]
  },
  {
   "cell_type": "markdown",
   "id": "561cd23d",
   "metadata": {
    "papermill": {
     "duration": 0.063159,
     "end_time": "2022-03-04T11:58:14.536234",
     "exception": false,
     "start_time": "2022-03-04T11:58:14.473075",
     "status": "completed"
    },
    "tags": []
   },
   "source": [
    "- gcf는 get current figure의 약어로,figure를 확인하기 위한 방법으로는 plt.gcf()를 사용한다."
   ]
  },
  {
   "cell_type": "code",
   "execution_count": 22,
   "id": "4eebfd74",
   "metadata": {
    "execution": {
     "iopub.execute_input": "2022-03-04T11:58:14.672505Z",
     "iopub.status.busy": "2022-03-04T11:58:14.671498Z",
     "iopub.status.idle": "2022-03-04T11:58:15.022096Z",
     "shell.execute_reply": "2022-03-04T11:58:15.022591Z",
     "shell.execute_reply.started": "2022-03-04T10:51:19.581677Z"
    },
    "papermill": {
     "duration": 0.422831,
     "end_time": "2022-03-04T11:58:15.022757",
     "exception": false,
     "start_time": "2022-03-04T11:58:14.599926",
     "status": "completed"
    },
    "tags": []
   },
   "outputs": [
    {
     "data": {
      "image/png": "[encoded data removed]",
      "text/plain": [
       "<Figure size 360x216 with 1 Axes>"
      ]
     },
     "metadata": {
      "needs_background": "light"
     },
     "output_type": "display_data"
    }
   ],
   "source": [
    "sns.factorplot('Embarked','Survived',data=data)\n",
    "fig = plt.gcf()\n",
    "fig.set_size_inches(5,3)\n",
    "plt.show()"
   ]
  },
  {
   "cell_type": "markdown",
   "id": "c0a18fd8",
   "metadata": {
    "papermill": {
     "duration": 0.06623,
     "end_time": "2022-03-04T11:58:15.153164",
     "exception": false,
     "start_time": "2022-03-04T11:58:15.086934",
     "status": "completed"
    },
    "tags": []
   },
   "source": [
    "- 위 그림은 생존확률을 표현, C가 가장 높고 S가 가장 낮다"
   ]
  },
  {
   "cell_type": "code",
   "execution_count": 23,
   "id": "a04f037b",
   "metadata": {
    "execution": {
     "iopub.execute_input": "2022-03-04T11:58:15.289216Z",
     "iopub.status.busy": "2022-03-04T11:58:15.288545Z",
     "iopub.status.idle": "2022-03-04T11:58:15.895889Z",
     "shell.execute_reply": "2022-03-04T11:58:15.895277Z",
     "shell.execute_reply.started": "2022-03-04T10:56:33.833384Z"
    },
    "papermill": {
     "duration": 0.678871,
     "end_time": "2022-03-04T11:58:15.896041",
     "exception": false,
     "start_time": "2022-03-04T11:58:15.217170",
     "status": "completed"
    },
    "tags": []
   },
   "outputs": [
    {
     "data": {
      "image/png": "[encoded data removed]",
      "text/plain": [
       "<Figure size 1440x1080 with 4 Axes>"
      ]
     },
     "metadata": {
      "needs_background": "light"
     },
     "output_type": "display_data"
    }
   ],
   "source": [
    "f, ax = plt.subplots(2,2,figsize=(20,15))\n",
    "sns.countplot('Embarked', data=data, ax=ax[0,0])\n",
    "sns.countplot('Embarked', hue = 'Survived', data=data, ax=ax[0,1])\n",
    "sns.countplot('Embarked',hue='Survived',data=data,ax=ax[1,0])\n",
    "ax[1,0].set_title('Embarked vs Survived')\n",
    "sns.countplot('Embarked',hue='Pclass',data=data,ax=ax[1,1])\n",
    "ax[1,1].set_title('Embarked vs Pclass')\n",
    "plt.subplots_adjust(wspace=0.2,hspace=0.5)\n",
    "plt.show()"
   ]
  },
  {
   "cell_type": "markdown",
   "id": "67e7f961",
   "metadata": {
    "papermill": {
     "duration": 0.065292,
     "end_time": "2022-03-04T11:58:16.027835",
     "exception": false,
     "start_time": "2022-03-04T11:58:15.962543",
     "status": "completed"
    },
    "tags": []
   },
   "source": [
    "- S항구에서 가장 많이 탑승했고, 그중 대부분이 Pclass 3이다\n",
    "- C항구에서 탑승한 승객의 생존율이 가장 좋다\n",
    "- S항구에서 부자들이 많이 탑승했지만 생존율이 낮은 이유는 Pclass3의 비율이 많기 때문이다."
   ]
  },
  {
   "cell_type": "code",
   "execution_count": 24,
   "id": "ef718203",
   "metadata": {
    "execution": {
     "iopub.execute_input": "2022-03-04T11:58:16.184893Z",
     "iopub.status.busy": "2022-03-04T11:58:16.184231Z",
     "iopub.status.idle": "2022-03-04T11:58:17.477541Z",
     "shell.execute_reply": "2022-03-04T11:58:17.476961Z",
     "shell.execute_reply.started": "2022-03-04T11:01:14.901600Z"
    },
    "papermill": {
     "duration": 1.384231,
     "end_time": "2022-03-04T11:58:17.477703",
     "exception": false,
     "start_time": "2022-03-04T11:58:16.093472",
     "status": "completed"
    },
    "tags": []
   },
   "outputs": [
    {
     "data": {
      "image/png": "[encoded data removed]",
      "text/plain": [
       "<Figure size 1150.5x360 with 3 Axes>"
      ]
     },
     "metadata": {
      "needs_background": "light"
     },
     "output_type": "display_data"
    }
   ],
   "source": [
    "sns.factorplot('Pclass', 'Survived',hue = 'Sex', col = 'Embarked', data =data)\n",
    "plt.show()"
   ]
  },
  {
   "cell_type": "markdown",
   "id": "8f9b1730",
   "metadata": {
    "papermill": {
     "duration": 0.067318,
     "end_time": "2022-03-04T11:58:17.613509",
     "exception": false,
     "start_time": "2022-03-04T11:58:17.546191",
     "status": "completed"
    },
    "tags": []
   },
   "source": [
    "### null data를 채우기\n",
    "- S항구에서 탄 사람들이 가장 많으니 Embarked 의 null데이터는 S로 채우기"
   ]
  },
  {
   "cell_type": "code",
   "execution_count": 25,
   "id": "a8e6bad4",
   "metadata": {
    "execution": {
     "iopub.execute_input": "2022-03-04T11:58:17.754573Z",
     "iopub.status.busy": "2022-03-04T11:58:17.753608Z",
     "iopub.status.idle": "2022-03-04T11:58:17.757830Z",
     "shell.execute_reply": "2022-03-04T11:58:17.758305Z",
     "shell.execute_reply.started": "2022-03-04T11:04:13.563044Z"
    },
    "papermill": {
     "duration": 0.075765,
     "end_time": "2022-03-04T11:58:17.758475",
     "exception": false,
     "start_time": "2022-03-04T11:58:17.682710",
     "status": "completed"
    },
    "tags": []
   },
   "outputs": [],
   "source": [
    "data['Embarked'].fillna('S', inplace = True)\n",
    "# inplace = True :  원본 df를 보존하지 않고 바로 변경된 데이터를 채워 넣는다"
   ]
  },
  {
   "cell_type": "code",
   "execution_count": 26,
   "id": "d219f25c",
   "metadata": {
    "execution": {
     "iopub.execute_input": "2022-03-04T11:58:17.902228Z",
     "iopub.status.busy": "2022-03-04T11:58:17.901427Z",
     "iopub.status.idle": "2022-03-04T11:58:17.904181Z",
     "shell.execute_reply": "2022-03-04T11:58:17.904681Z",
     "shell.execute_reply.started": "2022-03-04T11:04:28.361758Z"
    },
    "papermill": {
     "duration": 0.078502,
     "end_time": "2022-03-04T11:58:17.904850",
     "exception": false,
     "start_time": "2022-03-04T11:58:17.826348",
     "status": "completed"
    },
    "tags": []
   },
   "outputs": [
    {
     "data": {
      "text/plain": [
       "False"
      ]
     },
     "execution_count": 26,
     "metadata": {},
     "output_type": "execute_result"
    }
   ],
   "source": [
    "data.Embarked.isnull().any()"
   ]
  },
  {
   "cell_type": "markdown",
   "id": "2b58858f",
   "metadata": {
    "papermill": {
     "duration": 0.068623,
     "end_time": "2022-03-04T11:58:18.041553",
     "exception": false,
     "start_time": "2022-03-04T11:58:17.972930",
     "status": "completed"
    },
    "tags": []
   },
   "source": [
    "### SibSip -> discrete Feature(이산 데이터) == categorical data\n",
    "- 가족을 나타내는 특성"
   ]
  },
  {
   "cell_type": "code",
   "execution_count": 27,
   "id": "32101752",
   "metadata": {
    "execution": {
     "iopub.execute_input": "2022-03-04T11:58:18.180971Z",
     "iopub.status.busy": "2022-03-04T11:58:18.180364Z",
     "iopub.status.idle": "2022-03-04T11:58:18.202561Z",
     "shell.execute_reply": "2022-03-04T11:58:18.203132Z",
     "shell.execute_reply.started": "2022-03-04T11:10:40.111121Z"
    },
    "papermill": {
     "duration": 0.093044,
     "end_time": "2022-03-04T11:58:18.203312",
     "exception": false,
     "start_time": "2022-03-04T11:58:18.110268",
     "status": "completed"
    },
    "tags": []
   },
   "outputs": [
    {
     "data": {
      "text/html": [
       "<style type=\"text/css\">\n",
       "#T_8fdc1_row0_col0, #T_8fdc1_row0_col1 {\n",
       "  background-color: #008066;\n",
       "  color: #f1f1f1;\n",
       "}\n",
       "#T_8fdc1_row1_col0 {\n",
       "  background-color: #c4e266;\n",
       "  color: #000000;\n",
       "}\n",
       "#T_8fdc1_row1_col1 {\n",
       "  background-color: #77bb66;\n",
       "  color: #f1f1f1;\n",
       "}\n",
       "#T_8fdc1_row2_col0, #T_8fdc1_row4_col0 {\n",
       "  background-color: #f9fc66;\n",
       "  color: #000000;\n",
       "}\n",
       "#T_8fdc1_row2_col1 {\n",
       "  background-color: #f0f866;\n",
       "  color: #000000;\n",
       "}\n",
       "#T_8fdc1_row3_col0, #T_8fdc1_row3_col1 {\n",
       "  background-color: #fbfd66;\n",
       "  color: #000000;\n",
       "}\n",
       "#T_8fdc1_row4_col1 {\n",
       "  background-color: #fcfe66;\n",
       "  color: #000000;\n",
       "}\n",
       "#T_8fdc1_row5_col0, #T_8fdc1_row5_col1, #T_8fdc1_row6_col1 {\n",
       "  background-color: #ffff66;\n",
       "  color: #000000;\n",
       "}\n",
       "#T_8fdc1_row6_col0 {\n",
       "  background-color: #fefe66;\n",
       "  color: #000000;\n",
       "}\n",
       "</style>\n",
       "<table id=\"T_8fdc1_\">\n",
       "  <thead>\n",
       "    <tr>\n",
       "      <th class=\"index_name level0\" >Survived</th>\n",
       "      <th class=\"col_heading level0 col0\" >0</th>\n",
       "      <th class=\"col_heading level0 col1\" >1</th>\n",
       "    </tr>\n",
       "    <tr>\n",
       "      <th class=\"index_name level0\" >SibSp</th>\n",
       "      <th class=\"blank col0\" >&nbsp;</th>\n",
       "      <th class=\"blank col1\" >&nbsp;</th>\n",
       "    </tr>\n",
       "  </thead>\n",
       "  <tbody>\n",
       "    <tr>\n",
       "      <th id=\"T_8fdc1_level0_row0\" class=\"row_heading level0 row0\" >0</th>\n",
       "      <td id=\"T_8fdc1_row0_col0\" class=\"data row0 col0\" >398</td>\n",
       "      <td id=\"T_8fdc1_row0_col1\" class=\"data row0 col1\" >210</td>\n",
       "    </tr>\n",
       "    <tr>\n",
       "      <th id=\"T_8fdc1_level0_row1\" class=\"row_heading level0 row1\" >1</th>\n",
       "      <td id=\"T_8fdc1_row1_col0\" class=\"data row1 col0\" >97</td>\n",
       "      <td id=\"T_8fdc1_row1_col1\" class=\"data row1 col1\" >112</td>\n",
       "    </tr>\n",
       "    <tr>\n",
       "      <th id=\"T_8fdc1_level0_row2\" class=\"row_heading level0 row2\" >2</th>\n",
       "      <td id=\"T_8fdc1_row2_col0\" class=\"data row2 col0\" >15</td>\n",
       "      <td id=\"T_8fdc1_row2_col1\" class=\"data row2 col1\" >13</td>\n",
       "    </tr>\n",
       "    <tr>\n",
       "      <th id=\"T_8fdc1_level0_row3\" class=\"row_heading level0 row3\" >3</th>\n",
       "      <td id=\"T_8fdc1_row3_col0\" class=\"data row3 col0\" >12</td>\n",
       "      <td id=\"T_8fdc1_row3_col1\" class=\"data row3 col1\" >4</td>\n",
       "    </tr>\n",
       "    <tr>\n",
       "      <th id=\"T_8fdc1_level0_row4\" class=\"row_heading level0 row4\" >4</th>\n",
       "      <td id=\"T_8fdc1_row4_col0\" class=\"data row4 col0\" >15</td>\n",
       "      <td id=\"T_8fdc1_row4_col1\" class=\"data row4 col1\" >3</td>\n",
       "    </tr>\n",
       "    <tr>\n",
       "      <th id=\"T_8fdc1_level0_row5\" class=\"row_heading level0 row5\" >5</th>\n",
       "      <td id=\"T_8fdc1_row5_col0\" class=\"data row5 col0\" >5</td>\n",
       "      <td id=\"T_8fdc1_row5_col1\" class=\"data row5 col1\" >0</td>\n",
       "    </tr>\n",
       "    <tr>\n",
       "      <th id=\"T_8fdc1_level0_row6\" class=\"row_heading level0 row6\" >8</th>\n",
       "      <td id=\"T_8fdc1_row6_col0\" class=\"data row6 col0\" >7</td>\n",
       "      <td id=\"T_8fdc1_row6_col1\" class=\"data row6 col1\" >0</td>\n",
       "    </tr>\n",
       "  </tbody>\n",
       "</table>\n"
      ],
      "text/plain": [
       "<pandas.io.formats.style.Styler at 0x7fc324e8e810>"
      ]
     },
     "execution_count": 27,
     "metadata": {},
     "output_type": "execute_result"
    }
   ],
   "source": [
    "pd.crosstab(data.SibSp, data.Survived).style.background_gradient(cmap = 'summer_r')\n",
    "#  SibSp가 0명이라는 뜻은 혼자 옴"
   ]
  },
  {
   "cell_type": "code",
   "execution_count": 28,
   "id": "3c66fa34",
   "metadata": {
    "execution": {
     "iopub.execute_input": "2022-03-04T11:58:18.359209Z",
     "iopub.status.busy": "2022-03-04T11:58:18.342716Z",
     "iopub.status.idle": "2022-03-04T11:58:19.325781Z",
     "shell.execute_reply": "2022-03-04T11:58:19.325127Z",
     "shell.execute_reply.started": "2022-03-04T11:22:36.289610Z"
    },
    "papermill": {
     "duration": 1.054274,
     "end_time": "2022-03-04T11:58:19.325939",
     "exception": false,
     "start_time": "2022-03-04T11:58:18.271665",
     "status": "completed"
    },
    "tags": []
   },
   "outputs": [
    {
     "data": {
      "image/png": "[encoded data removed]",
      "text/plain": [
       "<Figure size 1440x576 with 2 Axes>"
      ]
     },
     "metadata": {
      "needs_background": "light"
     },
     "output_type": "display_data"
    }
   ],
   "source": [
    "f, ax = plt.subplots(1,2,figsize = (20,8))\n",
    "sns.barplot('SibSp', 'Survived', data = data, ax = ax[0])\n",
    "ax[0].set_title('SibSp vs Survived')\n",
    "sns.factorplot('SibSp','Survived',data=data,ax=ax[1]) # 원래 plt로 표현 안되는거 아닌가..?\n",
    "ax[1].set_title('SibSp vs Survived')\n",
    "plt.close(2) # 그림을 지우는 함수\n",
    "plt.show()\n",
    "# 그림대로 안 나옴"
   ]
  },
  {
   "cell_type": "code",
   "execution_count": 29,
   "id": "a36e4153",
   "metadata": {
    "execution": {
     "iopub.execute_input": "2022-03-04T11:58:19.472107Z",
     "iopub.status.busy": "2022-03-04T11:58:19.471459Z",
     "iopub.status.idle": "2022-03-04T11:58:19.492312Z",
     "shell.execute_reply": "2022-03-04T11:58:19.492762Z",
     "shell.execute_reply.started": "2022-03-04T11:24:30.685568Z"
    },
    "papermill": {
     "duration": 0.096994,
     "end_time": "2022-03-04T11:58:19.492933",
     "exception": false,
     "start_time": "2022-03-04T11:58:19.395939",
     "status": "completed"
    },
    "tags": []
   },
   "outputs": [
    {
     "data": {
      "text/html": [
       "<style type=\"text/css\">\n",
       "#T_59f41_row0_col0, #T_59f41_row0_col1, #T_59f41_row0_col2 {\n",
       "  background-color: #008066;\n",
       "  color: #f1f1f1;\n",
       "}\n",
       "#T_59f41_row1_col0 {\n",
       "  background-color: #7bbd66;\n",
       "  color: #000000;\n",
       "}\n",
       "#T_59f41_row1_col1 {\n",
       "  background-color: #8ac466;\n",
       "  color: #000000;\n",
       "}\n",
       "#T_59f41_row1_col2 {\n",
       "  background-color: #c6e266;\n",
       "  color: #000000;\n",
       "}\n",
       "#T_59f41_row2_col0, #T_59f41_row4_col2 {\n",
       "  background-color: #f6fa66;\n",
       "  color: #000000;\n",
       "}\n",
       "#T_59f41_row2_col1 {\n",
       "  background-color: #eef666;\n",
       "  color: #000000;\n",
       "}\n",
       "#T_59f41_row2_col2 {\n",
       "  background-color: #f8fc66;\n",
       "  color: #000000;\n",
       "}\n",
       "#T_59f41_row3_col0, #T_59f41_row3_col2 {\n",
       "  background-color: #fafc66;\n",
       "  color: #000000;\n",
       "}\n",
       "#T_59f41_row3_col1 {\n",
       "  background-color: #fdfe66;\n",
       "  color: #000000;\n",
       "}\n",
       "#T_59f41_row4_col0, #T_59f41_row4_col1, #T_59f41_row5_col0, #T_59f41_row5_col1, #T_59f41_row5_col2, #T_59f41_row6_col0, #T_59f41_row6_col1 {\n",
       "  background-color: #ffff66;\n",
       "  color: #000000;\n",
       "}\n",
       "#T_59f41_row6_col2 {\n",
       "  background-color: #fefe66;\n",
       "  color: #000000;\n",
       "}\n",
       "</style>\n",
       "<table id=\"T_59f41_\">\n",
       "  <thead>\n",
       "    <tr>\n",
       "      <th class=\"index_name level0\" >Pclass</th>\n",
       "      <th class=\"col_heading level0 col0\" >1</th>\n",
       "      <th class=\"col_heading level0 col1\" >2</th>\n",
       "      <th class=\"col_heading level0 col2\" >3</th>\n",
       "    </tr>\n",
       "    <tr>\n",
       "      <th class=\"index_name level0\" >SibSp</th>\n",
       "      <th class=\"blank col0\" >&nbsp;</th>\n",
       "      <th class=\"blank col1\" >&nbsp;</th>\n",
       "      <th class=\"blank col2\" >&nbsp;</th>\n",
       "    </tr>\n",
       "  </thead>\n",
       "  <tbody>\n",
       "    <tr>\n",
       "      <th id=\"T_59f41_level0_row0\" class=\"row_heading level0 row0\" >0</th>\n",
       "      <td id=\"T_59f41_row0_col0\" class=\"data row0 col0\" >137</td>\n",
       "      <td id=\"T_59f41_row0_col1\" class=\"data row0 col1\" >120</td>\n",
       "      <td id=\"T_59f41_row0_col2\" class=\"data row0 col2\" >351</td>\n",
       "    </tr>\n",
       "    <tr>\n",
       "      <th id=\"T_59f41_level0_row1\" class=\"row_heading level0 row1\" >1</th>\n",
       "      <td id=\"T_59f41_row1_col0\" class=\"data row1 col0\" >71</td>\n",
       "      <td id=\"T_59f41_row1_col1\" class=\"data row1 col1\" >55</td>\n",
       "      <td id=\"T_59f41_row1_col2\" class=\"data row1 col2\" >83</td>\n",
       "    </tr>\n",
       "    <tr>\n",
       "      <th id=\"T_59f41_level0_row2\" class=\"row_heading level0 row2\" >2</th>\n",
       "      <td id=\"T_59f41_row2_col0\" class=\"data row2 col0\" >5</td>\n",
       "      <td id=\"T_59f41_row2_col1\" class=\"data row2 col1\" >8</td>\n",
       "      <td id=\"T_59f41_row2_col2\" class=\"data row2 col2\" >15</td>\n",
       "    </tr>\n",
       "    <tr>\n",
       "      <th id=\"T_59f41_level0_row3\" class=\"row_heading level0 row3\" >3</th>\n",
       "      <td id=\"T_59f41_row3_col0\" class=\"data row3 col0\" >3</td>\n",
       "      <td id=\"T_59f41_row3_col1\" class=\"data row3 col1\" >1</td>\n",
       "      <td id=\"T_59f41_row3_col2\" class=\"data row3 col2\" >12</td>\n",
       "    </tr>\n",
       "    <tr>\n",
       "      <th id=\"T_59f41_level0_row4\" class=\"row_heading level0 row4\" >4</th>\n",
       "      <td id=\"T_59f41_row4_col0\" class=\"data row4 col0\" >0</td>\n",
       "      <td id=\"T_59f41_row4_col1\" class=\"data row4 col1\" >0</td>\n",
       "      <td id=\"T_59f41_row4_col2\" class=\"data row4 col2\" >18</td>\n",
       "    </tr>\n",
       "    <tr>\n",
       "      <th id=\"T_59f41_level0_row5\" class=\"row_heading level0 row5\" >5</th>\n",
       "      <td id=\"T_59f41_row5_col0\" class=\"data row5 col0\" >0</td>\n",
       "      <td id=\"T_59f41_row5_col1\" class=\"data row5 col1\" >0</td>\n",
       "      <td id=\"T_59f41_row5_col2\" class=\"data row5 col2\" >5</td>\n",
       "    </tr>\n",
       "    <tr>\n",
       "      <th id=\"T_59f41_level0_row6\" class=\"row_heading level0 row6\" >8</th>\n",
       "      <td id=\"T_59f41_row6_col0\" class=\"data row6 col0\" >0</td>\n",
       "      <td id=\"T_59f41_row6_col1\" class=\"data row6 col1\" >0</td>\n",
       "      <td id=\"T_59f41_row6_col2\" class=\"data row6 col2\" >7</td>\n",
       "    </tr>\n",
       "  </tbody>\n",
       "</table>\n"
      ],
      "text/plain": [
       "<pandas.io.formats.style.Styler at 0x7fc324d113d0>"
      ]
     },
     "execution_count": 29,
     "metadata": {},
     "output_type": "execute_result"
    }
   ],
   "source": [
    "pd.crosstab(data.SibSp,data.Pclass).style.background_gradient(cmap='summer_r')"
   ]
  },
  {
   "cell_type": "markdown",
   "id": "3adfee4d",
   "metadata": {
    "papermill": {
     "duration": 0.070594,
     "end_time": "2022-03-04T11:58:19.635045",
     "exception": false,
     "start_time": "2022-03-04T11:58:19.564451",
     "status": "completed"
    },
    "tags": []
   },
   "source": [
    "- Fare -> continous Feature"
   ]
  },
  {
   "cell_type": "code",
   "execution_count": 30,
   "id": "f278f84a",
   "metadata": {
    "execution": {
     "iopub.execute_input": "2022-03-04T11:58:19.778132Z",
     "iopub.status.busy": "2022-03-04T11:58:19.777439Z",
     "iopub.status.idle": "2022-03-04T11:58:20.586321Z",
     "shell.execute_reply": "2022-03-04T11:58:20.585704Z",
     "shell.execute_reply.started": "2022-03-04T11:27:57.699476Z"
    },
    "papermill": {
     "duration": 0.881719,
     "end_time": "2022-03-04T11:58:20.586483",
     "exception": false,
     "start_time": "2022-03-04T11:58:19.704764",
     "status": "completed"
    },
    "tags": []
   },
   "outputs": [
    {
     "data": {
      "image/png": "[encoded data removed]",
      "text/plain": [
       "<Figure size 1440x576 with 3 Axes>"
      ]
     },
     "metadata": {
      "needs_background": "light"
     },
     "output_type": "display_data"
    }
   ],
   "source": [
    "f, ax = plt.subplots(1,3,figsize = (20,8))\n",
    "sns.distplot(data[data['Pclass']==1].Fare, ax=ax[0])\n",
    "sns.distplot(data[data['Pclass']==2].Fare,ax=ax[1])\n",
    "ax[1].set_title('Fares in Pclass 2')\n",
    "sns.distplot(data[data['Pclass']==3].Fare,ax=ax[2])\n",
    "ax[2].set_title('Fares in Pclass 3')\n",
    "plt.show()"
   ]
  },
  {
   "cell_type": "markdown",
   "id": "c9fed0ba",
   "metadata": {
    "papermill": {
     "duration": 0.071994,
     "end_time": "2022-03-04T11:58:20.730745",
     "exception": false,
     "start_time": "2022-03-04T11:58:20.658751",
     "status": "completed"
    },
    "tags": []
   },
   "source": [
    "- Sex : 여성의 경우 생존확률 높음\n",
    "- Pclass : 1등석이 생존확률 높음\n",
    "- Age : 5-10살들은 많이 살고 15-35 살들은 많이 죽음\n",
    "- Embarked : Pclass1 승객들이 대부분 S에서 탑승했지만 C항구가 더 생존 가능성이 높음\n",
    "- Parch+SibSp : 혼자 여행보다 1-2명의 자녀, 1-3명의 부모들과 같이 여행하는 것이 생존가능성 높음"
   ]
  },
  {
   "cell_type": "code",
   "execution_count": 31,
   "id": "97dc2cde",
   "metadata": {
    "execution": {
     "iopub.execute_input": "2022-03-04T11:58:20.879057Z",
     "iopub.status.busy": "2022-03-04T11:58:20.878372Z",
     "iopub.status.idle": "2022-03-04T11:58:21.440214Z",
     "shell.execute_reply": "2022-03-04T11:58:21.441028Z",
     "shell.execute_reply.started": "2022-03-04T11:36:10.842599Z"
    },
    "papermill": {
     "duration": 0.638684,
     "end_time": "2022-03-04T11:58:21.441272",
     "exception": false,
     "start_time": "2022-03-04T11:58:20.802588",
     "status": "completed"
    },
    "tags": []
   },
   "outputs": [
    {
     "data": {
      "image/png": "[encoded data removed]",
      "text/plain": [
       "<Figure size 720x576 with 2 Axes>"
      ]
     },
     "metadata": {
      "needs_background": "light"
     },
     "output_type": "display_data"
    }
   ],
   "source": [
    "sns.heatmap(data.corr(), annot = True, cmap = 'RdYlGn', linewidths = 0.2) \n",
    "# annot = True : 칸 안에 숫자 표현\n",
    "fig=plt.gcf()\n",
    "fig.set_size_inches(10,8)\n",
    "plt.show()"
   ]
  },
  {
   "cell_type": "markdown",
   "id": "9d089e9a",
   "metadata": {
    "papermill": {
     "duration": 0.081242,
     "end_time": "2022-03-04T11:58:21.607837",
     "exception": false,
     "start_time": "2022-03-04T11:58:21.526595",
     "status": "completed"
    },
    "tags": []
   },
   "source": [
    "- heatmap의 특징\n",
    "    - 알파벳이나 문자열의 상관관계는 불분명하기 때문에 숫자적인 특성들만 비교하는 것\n"
   ]
  },
  {
   "cell_type": "markdown",
   "id": "bc0077c2",
   "metadata": {
    "execution": {
     "iopub.execute_input": "2022-03-04T11:43:32.321540Z",
     "iopub.status.busy": "2022-03-04T11:43:32.321227Z",
     "iopub.status.idle": "2022-03-04T11:43:32.328321Z",
     "shell.execute_reply": "2022-03-04T11:43:32.327304Z",
     "shell.execute_reply.started": "2022-03-04T11:43:32.321505Z"
    },
    "papermill": {
     "duration": 0.075554,
     "end_time": "2022-03-04T11:58:21.760697",
     "exception": false,
     "start_time": "2022-03-04T11:58:21.685143",
     "status": "completed"
    },
    "tags": []
   },
   "source": [
    "## Feature Engineering\n",
    "### Age Band\n",
    "\n",
    "- Age는 연속적인 데이터여서 머신러닝 모델이 학습할 때 문제가 생긴다 \n",
    "    - Eg : 만약 스포츠선수들을 성별에 따라 나누라고 하면 남자, 여자로 나누면 된다.\n",
    "    - 하지만 나이에 따라 나누라고 하면 기준이 불분명해진다. \n",
    "- 그래서 continous data를 정규화나 Binning(구간화)를 통해 categorical data로 바꿔야 한다 \n",
    "- 나이가 0~80세 까지 있으니 16을 기준으로 구간화를 한다"
   ]
  },
  {
   "cell_type": "code",
   "execution_count": 32,
   "id": "1f401da6",
   "metadata": {
    "execution": {
     "iopub.execute_input": "2022-03-04T11:58:21.920279Z",
     "iopub.status.busy": "2022-03-04T11:58:21.919254Z",
     "iopub.status.idle": "2022-03-04T11:58:21.938481Z",
     "shell.execute_reply": "2022-03-04T11:58:21.939157Z",
     "shell.execute_reply.started": "2022-03-04T11:45:45.271949Z"
    },
    "papermill": {
     "duration": 0.10327,
     "end_time": "2022-03-04T11:58:21.939329",
     "exception": false,
     "start_time": "2022-03-04T11:58:21.836059",
     "status": "completed"
    },
    "tags": []
   },
   "outputs": [
    {
     "data": {
      "text/html": [
       "<div>\n",
       "<style scoped>\n",
       "    .dataframe tbody tr th:only-of-type {\n",
       "        vertical-align: middle;\n",
       "    }\n",
       "\n",
       "    .dataframe tbody tr th {\n",
       "        vertical-align: top;\n",
       "    }\n",
       "\n",
       "    .dataframe thead th {\n",
       "        text-align: right;\n",
       "    }\n",
       "</style>\n",
       "<table border=\"1\" class=\"dataframe\">\n",
       "  <thead>\n",
       "    <tr style=\"text-align: right;\">\n",
       "      <th></th>\n",
       "      <th>PassengerId</th>\n",
       "      <th>Survived</th>\n",
       "      <th>Pclass</th>\n",
       "      <th>Name</th>\n",
       "      <th>Sex</th>\n",
       "      <th>Age</th>\n",
       "      <th>SibSp</th>\n",
       "      <th>Parch</th>\n",
       "      <th>Ticket</th>\n",
       "      <th>Fare</th>\n",
       "      <th>Cabin</th>\n",
       "      <th>Embarked</th>\n",
       "      <th>Initial</th>\n",
       "      <th>Age_band</th>\n",
       "    </tr>\n",
       "  </thead>\n",
       "  <tbody>\n",
       "    <tr>\n",
       "      <th>0</th>\n",
       "      <td>1</td>\n",
       "      <td>0</td>\n",
       "      <td>3</td>\n",
       "      <td>Braund, Mr. Owen Harris</td>\n",
       "      <td>male</td>\n",
       "      <td>22.0</td>\n",
       "      <td>1</td>\n",
       "      <td>0</td>\n",
       "      <td>A/5 21171</td>\n",
       "      <td>7.2500</td>\n",
       "      <td>NaN</td>\n",
       "      <td>S</td>\n",
       "      <td>Mr</td>\n",
       "      <td>1</td>\n",
       "    </tr>\n",
       "    <tr>\n",
       "      <th>1</th>\n",
       "      <td>2</td>\n",
       "      <td>1</td>\n",
       "      <td>1</td>\n",
       "      <td>Cumings, Mrs. John Bradley (Florence Briggs Th...</td>\n",
       "      <td>female</td>\n",
       "      <td>38.0</td>\n",
       "      <td>1</td>\n",
       "      <td>0</td>\n",
       "      <td>PC 17599</td>\n",
       "      <td>71.2833</td>\n",
       "      <td>C85</td>\n",
       "      <td>C</td>\n",
       "      <td>Mrs</td>\n",
       "      <td>2</td>\n",
       "    </tr>\n",
       "  </tbody>\n",
       "</table>\n",
       "</div>"
      ],
      "text/plain": [
       "   PassengerId  Survived  Pclass  \\\n",
       "0            1         0       3   \n",
       "1            2         1       1   \n",
       "\n",
       "                                                Name     Sex   Age  SibSp  \\\n",
       "0                            Braund, Mr. Owen Harris    male  22.0      1   \n",
       "1  Cumings, Mrs. John Bradley (Florence Briggs Th...  female  38.0      1   \n",
       "\n",
       "   Parch     Ticket     Fare Cabin Embarked Initial  Age_band  \n",
       "0      0  A/5 21171   7.2500   NaN        S      Mr         1  \n",
       "1      0   PC 17599  71.2833   C85        C     Mrs         2  "
      ]
     },
     "execution_count": 32,
     "metadata": {},
     "output_type": "execute_result"
    }
   ],
   "source": [
    "data['Age_band']=0\n",
    "data.loc[data['Age']<=16, 'Age_band']=0\n",
    "data.loc[(data['Age']>16)&(data['Age']<=32), 'Age_band']=1\n",
    "data.loc[(data['Age']>32)&(data['Age']<=48),'Age_band']=2\n",
    "data.loc[(data['Age']>48)&(data['Age']<=64),'Age_band']=3\n",
    "data.loc[data['Age']>64,'Age_band']=4\n",
    "data.head(2)"
   ]
  },
  {
   "cell_type": "code",
   "execution_count": 33,
   "id": "94542aac",
   "metadata": {
    "execution": {
     "iopub.execute_input": "2022-03-04T11:58:22.097637Z",
     "iopub.status.busy": "2022-03-04T11:58:22.096684Z",
     "iopub.status.idle": "2022-03-04T11:58:22.105824Z",
     "shell.execute_reply": "2022-03-04T11:58:22.106466Z",
     "shell.execute_reply.started": "2022-03-04T11:46:19.690762Z"
    },
    "papermill": {
     "duration": 0.088766,
     "end_time": "2022-03-04T11:58:22.106636",
     "exception": false,
     "start_time": "2022-03-04T11:58:22.017870",
     "status": "completed"
    },
    "tags": []
   },
   "outputs": [
    {
     "data": {
      "text/html": [
       "<div>\n",
       "<style scoped>\n",
       "    .dataframe tbody tr th:only-of-type {\n",
       "        vertical-align: middle;\n",
       "    }\n",
       "\n",
       "    .dataframe tbody tr th {\n",
       "        vertical-align: top;\n",
       "    }\n",
       "\n",
       "    .dataframe thead th {\n",
       "        text-align: right;\n",
       "    }\n",
       "</style>\n",
       "<table border=\"1\" class=\"dataframe\">\n",
       "  <thead>\n",
       "    <tr style=\"text-align: right;\">\n",
       "      <th></th>\n",
       "      <th>Age_band</th>\n",
       "    </tr>\n",
       "  </thead>\n",
       "  <tbody>\n",
       "    <tr>\n",
       "      <th>1</th>\n",
       "      <td>382</td>\n",
       "    </tr>\n",
       "    <tr>\n",
       "      <th>2</th>\n",
       "      <td>325</td>\n",
       "    </tr>\n",
       "    <tr>\n",
       "      <th>0</th>\n",
       "      <td>104</td>\n",
       "    </tr>\n",
       "    <tr>\n",
       "      <th>3</th>\n",
       "      <td>69</td>\n",
       "    </tr>\n",
       "    <tr>\n",
       "      <th>4</th>\n",
       "      <td>11</td>\n",
       "    </tr>\n",
       "  </tbody>\n",
       "</table>\n",
       "</div>"
      ],
      "text/plain": [
       "   Age_band\n",
       "1       382\n",
       "2       325\n",
       "0       104\n",
       "3        69\n",
       "4        11"
      ]
     },
     "execution_count": 33,
     "metadata": {},
     "output_type": "execute_result"
    }
   ],
   "source": [
    "data.Age_band.value_counts().to_frame()"
   ]
  },
  {
   "cell_type": "code",
   "execution_count": 34,
   "id": "3c2b108b",
   "metadata": {
    "execution": {
     "iopub.execute_input": "2022-03-04T11:58:22.264464Z",
     "iopub.status.busy": "2022-03-04T11:58:22.262968Z",
     "iopub.status.idle": "2022-03-04T11:58:23.331132Z",
     "shell.execute_reply": "2022-03-04T11:58:23.331675Z",
     "shell.execute_reply.started": "2022-03-04T11:46:59.583905Z"
    },
    "papermill": {
     "duration": 1.148518,
     "end_time": "2022-03-04T11:58:23.331838",
     "exception": false,
     "start_time": "2022-03-04T11:58:22.183320",
     "status": "completed"
    },
    "tags": []
   },
   "outputs": [
    {
     "data": {
      "text/plain": [
       "<seaborn.axisgrid.FacetGrid at 0x7fc324afe210>"
      ]
     },
     "execution_count": 34,
     "metadata": {},
     "output_type": "execute_result"
    },
    {
     "data": {
      "image/png": "[encoded data removed]",
      "text/plain": [
       "<Figure size 1080x360 with 3 Axes>"
      ]
     },
     "metadata": {
      "needs_background": "light"
     },
     "output_type": "display_data"
    }
   ],
   "source": [
    "sns.factorplot('Age_band', 'Survived', data = data, col = 'Pclass')"
   ]
  },
  {
   "cell_type": "markdown",
   "id": "d708a91e",
   "metadata": {
    "papermill": {
     "duration": 0.076181,
     "end_time": "2022-03-04T11:58:23.484589",
     "exception": false,
     "start_time": "2022-03-04T11:58:23.408408",
     "status": "completed"
    },
    "tags": []
   },
   "source": [
    "- Pclass와 관계없이 나이가 증가하면 생존률은 감소함"
   ]
  },
  {
   "cell_type": "code",
   "execution_count": null,
   "id": "fe622c98",
   "metadata": {
    "papermill": {
     "duration": 0.076371,
     "end_time": "2022-03-04T11:58:23.638140",
     "exception": false,
     "start_time": "2022-03-04T11:58:23.561769",
     "status": "completed"
    },
    "tags": []
   },
   "outputs": [],
   "source": []
  },
  {
   "cell_type": "code",
   "execution_count": null,
   "id": "8c8e548d",
   "metadata": {
    "papermill": {
     "duration": 0.076286,
     "end_time": "2022-03-04T11:58:23.790885",
     "exception": false,
     "start_time": "2022-03-04T11:58:23.714599",
     "status": "completed"
    },
    "tags": []
   },
   "outputs": [],
   "source": []
  }
 ],
 "metadata": {
  "kernelspec": {
   "display_name": "Python 3",
   "language": "python",
   "name": "python3"
  },
  "language_info": {
   "codemirror_mode": {
    "name": "ipython",
    "version": 3
   },
   "file_extension": ".py",
   "mimetype": "text/x-python",
   "name": "python",
   "nbconvert_exporter": "python",
   "pygments_lexer": "ipython3",
   "version": "3.7.12"
  },
  "papermill": {
   "default_parameters": {},
   "duration": 29.519218,
   "end_time": "2022-03-04T11:58:24.582427",
   "environment_variables": {},
   "exception": null,
   "input_path": "__notebook__.ipynb",
   "output_path": "__notebook__.ipynb",
   "parameters": {},
   "start_time": "2022-03-04T11:57:55.063209",
   "version": "2.3.3"
  }
 },
 "nbformat": 4,
 "nbformat_minor": 5
}
