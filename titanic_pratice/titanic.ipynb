# 다양한 로지스틱 회귀

import pandas as pd
fish = pd.read_csv('https://bit.ly/fish_csv_data')
fish.head() # 처음 5개의 행을 출력
