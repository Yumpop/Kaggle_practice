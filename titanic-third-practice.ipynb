{
 "cells": [
  {
   "cell_type": "code",
   "execution_count": 1,
   "id": "cb62e36b",
   "metadata": {
    "_cell_guid": "b1076dfc-b9ad-4769-8c92-a6c4dae69d19",
    "_uuid": "8f2839f25d086af736a60e9eeb907d3b93b6e0e5",
    "execution": {
     "iopub.execute_input": "2022-03-14T14:21:27.405387Z",
     "iopub.status.busy": "2022-03-14T14:21:27.403306Z",
     "iopub.status.idle": "2022-03-14T14:21:29.073555Z",
     "shell.execute_reply": "2022-03-14T14:21:29.072773Z",
     "shell.execute_reply.started": "2022-03-14T13:20:01.469891Z"
    },
    "papermill": {
     "duration": 1.725001,
     "end_time": "2022-03-14T14:21:29.073742",
     "exception": false,
     "start_time": "2022-03-14T14:21:27.348741",
     "status": "completed"
    },
    "tags": []
   },
   "outputs": [],
   "source": [
    "import pandas as pd\n",
    "import numpy as np\n",
    "import matplotlib.pyplot as plt\n",
    "import seaborn as sns\n",
    "%matplotlib inline\n",
    "import warnings \n",
    "warnings.filterwarnings('ignore')\n",
    "\n",
    "from collections import Counter\n",
    "\n",
    "from sklearn.ensemble import RandomForestClassifier, AdaBoostClassifier, GradientBoostingClassifier, ExtraTreesClassifier, VotingClassifier\n",
    "from sklearn.discriminant_analysis import LinearDiscriminantAnalysis\n",
    "from sklearn.linear_model import LogisticRegression\n",
    "from sklearn.neighbors import KNeighborsClassifier\n",
    "from sklearn.tree import DecisionTreeClassifier\n",
    "from sklearn.neural_network import MLPClassifier\n",
    "from sklearn.svm import SVC\n",
    "from sklearn.model_selection import GridSearchCV, cross_val_score, StratifiedKFold, learning_curve\n",
    "\n",
    "sns.set(style='white', context='notebook', palette='deep')"
   ]
  },
  {
   "cell_type": "code",
   "execution_count": 2,
   "id": "afcf3ae3",
   "metadata": {
    "execution": {
     "iopub.execute_input": "2022-03-14T14:21:29.172760Z",
     "iopub.status.busy": "2022-03-14T14:21:29.171981Z",
     "iopub.status.idle": "2022-03-14T14:21:29.212402Z",
     "shell.execute_reply": "2022-03-14T14:21:29.212932Z",
     "shell.execute_reply.started": "2022-03-14T13:03:39.201778Z"
    },
    "papermill": {
     "duration": 0.092529,
     "end_time": "2022-03-14T14:21:29.213189",
     "exception": false,
     "start_time": "2022-03-14T14:21:29.120660",
     "status": "completed"
    },
    "tags": []
   },
   "outputs": [],
   "source": [
    "train = pd.read_csv('../input/titanic/train.csv')\n",
    "test = pd.read_csv('../input/titanic/test.csv')\n",
    "IDtest = test['PassengerId']"
   ]
  },
  {
   "cell_type": "markdown",
   "id": "c37d04c6",
   "metadata": {
    "papermill": {
     "duration": 0.044556,
     "end_time": "2022-03-14T14:21:29.302455",
     "exception": false,
     "start_time": "2022-03-14T14:21:29.257899",
     "status": "completed"
    },
    "tags": []
   },
   "source": [
    "### outflier detection\n",
    "- 데이터 이상치 탐색\n",
    "- 나중에 공부 - 잘 모르겠다.  사후검증 / tukey method 공부 하기"
   ]
  },
  {
   "cell_type": "code",
   "execution_count": 3,
   "id": "bc374f46",
   "metadata": {
    "execution": {
     "iopub.execute_input": "2022-03-14T14:21:29.395292Z",
     "iopub.status.busy": "2022-03-14T14:21:29.394507Z",
     "iopub.status.idle": "2022-03-14T14:21:29.409985Z",
     "shell.execute_reply": "2022-03-14T14:21:29.410563Z",
     "shell.execute_reply.started": "2022-03-14T13:03:39.236436Z"
    },
    "papermill": {
     "duration": 0.063816,
     "end_time": "2022-03-14T14:21:29.410755",
     "exception": false,
     "start_time": "2022-03-14T14:21:29.346939",
     "status": "completed"
    },
    "tags": []
   },
   "outputs": [],
   "source": [
    "train_len = len(train) # 891\n",
    "dataset = pd.concat(objs = [train, test], axis = 0).reset_index(drop = True)\n",
    "# axis : 1이면 행을 좌우로 붙임, 0이면 상하로 붙임, concat : df들을 붙임\n",
    "# .reset_index : 인덱스를 새로 배열, 기존 인덱스는 새로운 feature가 됨\n",
    "# drop = True : 기존의 인덱스를 없애기"
   ]
  },
  {
   "cell_type": "markdown",
   "id": "45564a34",
   "metadata": {
    "papermill": {
     "duration": 0.046249,
     "end_time": "2022-03-14T14:21:29.503953",
     "exception": false,
     "start_time": "2022-03-14T14:21:29.457704",
     "status": "completed"
    },
    "tags": []
   },
   "source": [
    "- axis : 1이면 행을 좌우로 붙임, 0이면 상하로 붙임, concat : df들을 붙임\n",
    "- .reset_index : 인덱스를 새로 배열, 기존 인덱스는 새로운 feature가 됨\n",
    "- drop = True : 기존의 인덱스를 없애기\n",
    "- 참조 :  https://koreadatascientist.tistory.com/14"
   ]
  },
  {
   "cell_type": "code",
   "execution_count": 4,
   "id": "d6874448",
   "metadata": {
    "execution": {
     "iopub.execute_input": "2022-03-14T14:21:29.597345Z",
     "iopub.status.busy": "2022-03-14T14:21:29.596540Z",
     "iopub.status.idle": "2022-03-14T14:21:29.610267Z",
     "shell.execute_reply": "2022-03-14T14:21:29.610820Z",
     "shell.execute_reply.started": "2022-03-14T13:04:28.473837Z"
    },
    "papermill": {
     "duration": 0.061694,
     "end_time": "2022-03-14T14:21:29.610996",
     "exception": false,
     "start_time": "2022-03-14T14:21:29.549302",
     "status": "completed"
    },
    "tags": []
   },
   "outputs": [
    {
     "data": {
      "text/plain": [
       "PassengerId       0\n",
       "Survived        418\n",
       "Pclass            0\n",
       "Name              0\n",
       "Sex               0\n",
       "Age             263\n",
       "SibSp             0\n",
       "Parch             0\n",
       "Ticket            0\n",
       "Fare              1\n",
       "Cabin          1014\n",
       "Embarked          2\n",
       "dtype: int64"
      ]
     },
     "execution_count": 4,
     "metadata": {},
     "output_type": "execute_result"
    }
   ],
   "source": [
    "dataset = dataset.fillna(np.nan) # 결측치 채우기\n",
    "dataset.isnull().sum()"
   ]
  },
  {
   "cell_type": "code",
   "execution_count": 5,
   "id": "940ea8d1",
   "metadata": {
    "execution": {
     "iopub.execute_input": "2022-03-14T14:21:29.704917Z",
     "iopub.status.busy": "2022-03-14T14:21:29.704056Z",
     "iopub.status.idle": "2022-03-14T14:21:29.729306Z",
     "shell.execute_reply": "2022-03-14T14:21:29.729836Z",
     "shell.execute_reply.started": "2022-03-14T13:08:05.281337Z"
    },
    "papermill": {
     "duration": 0.074001,
     "end_time": "2022-03-14T14:21:29.730056",
     "exception": false,
     "start_time": "2022-03-14T14:21:29.656055",
     "status": "completed"
    },
    "tags": []
   },
   "outputs": [
    {
     "name": "stdout",
     "output_type": "stream",
     "text": [
      "<class 'pandas.core.frame.DataFrame'>\n",
      "RangeIndex: 418 entries, 0 to 417\n",
      "Data columns (total 11 columns):\n",
      " #   Column       Non-Null Count  Dtype  \n",
      "---  ------       --------------  -----  \n",
      " 0   PassengerId  418 non-null    int64  \n",
      " 1   Pclass       418 non-null    int64  \n",
      " 2   Name         418 non-null    object \n",
      " 3   Sex          418 non-null    object \n",
      " 4   Age          332 non-null    float64\n",
      " 5   SibSp        418 non-null    int64  \n",
      " 6   Parch        418 non-null    int64  \n",
      " 7   Ticket       418 non-null    object \n",
      " 8   Fare         417 non-null    float64\n",
      " 9   Cabin        91 non-null     object \n",
      " 10  Embarked     418 non-null    object \n",
      "dtypes: float64(2), int64(4), object(5)\n",
      "memory usage: 36.0+ KB\n"
     ]
    },
    {
     "data": {
      "text/plain": [
       "PassengerId      0\n",
       "Survived         0\n",
       "Pclass           0\n",
       "Name             0\n",
       "Sex              0\n",
       "Age            177\n",
       "SibSp            0\n",
       "Parch            0\n",
       "Ticket           0\n",
       "Fare             0\n",
       "Cabin          687\n",
       "Embarked         2\n",
       "dtype: int64"
      ]
     },
     "execution_count": 5,
     "metadata": {},
     "output_type": "execute_result"
    }
   ],
   "source": [
    "test.info()\n",
    "train.isnull().sum()"
   ]
  },
  {
   "cell_type": "code",
   "execution_count": 6,
   "id": "77147f73",
   "metadata": {
    "execution": {
     "iopub.execute_input": "2022-03-14T14:21:29.830758Z",
     "iopub.status.busy": "2022-03-14T14:21:29.830020Z",
     "iopub.status.idle": "2022-03-14T14:21:29.848307Z",
     "shell.execute_reply": "2022-03-14T14:21:29.848912Z",
     "shell.execute_reply.started": "2022-03-14T13:09:27.922362Z"
    },
    "papermill": {
     "duration": 0.071552,
     "end_time": "2022-03-14T14:21:29.849118",
     "exception": false,
     "start_time": "2022-03-14T14:21:29.777566",
     "status": "completed"
    },
    "tags": []
   },
   "outputs": [
    {
     "data": {
      "text/html": [
       "<div>\n",
       "<style scoped>\n",
       "    .dataframe tbody tr th:only-of-type {\n",
       "        vertical-align: middle;\n",
       "    }\n",
       "\n",
       "    .dataframe tbody tr th {\n",
       "        vertical-align: top;\n",
       "    }\n",
       "\n",
       "    .dataframe thead th {\n",
       "        text-align: right;\n",
       "    }\n",
       "</style>\n",
       "<table border=\"1\" class=\"dataframe\">\n",
       "  <thead>\n",
       "    <tr style=\"text-align: right;\">\n",
       "      <th></th>\n",
       "      <th>PassengerId</th>\n",
       "      <th>Survived</th>\n",
       "      <th>Pclass</th>\n",
       "      <th>Name</th>\n",
       "      <th>Sex</th>\n",
       "      <th>Age</th>\n",
       "      <th>SibSp</th>\n",
       "      <th>Parch</th>\n",
       "      <th>Ticket</th>\n",
       "      <th>Fare</th>\n",
       "      <th>Cabin</th>\n",
       "      <th>Embarked</th>\n",
       "    </tr>\n",
       "  </thead>\n",
       "  <tbody>\n",
       "    <tr>\n",
       "      <th>0</th>\n",
       "      <td>1</td>\n",
       "      <td>0</td>\n",
       "      <td>3</td>\n",
       "      <td>Braund, Mr. Owen Harris</td>\n",
       "      <td>male</td>\n",
       "      <td>22.0</td>\n",
       "      <td>1</td>\n",
       "      <td>0</td>\n",
       "      <td>A/5 21171</td>\n",
       "      <td>7.2500</td>\n",
       "      <td>NaN</td>\n",
       "      <td>S</td>\n",
       "    </tr>\n",
       "    <tr>\n",
       "      <th>1</th>\n",
       "      <td>2</td>\n",
       "      <td>1</td>\n",
       "      <td>1</td>\n",
       "      <td>Cumings, Mrs. John Bradley (Florence Briggs Th...</td>\n",
       "      <td>female</td>\n",
       "      <td>38.0</td>\n",
       "      <td>1</td>\n",
       "      <td>0</td>\n",
       "      <td>PC 17599</td>\n",
       "      <td>71.2833</td>\n",
       "      <td>C85</td>\n",
       "      <td>C</td>\n",
       "    </tr>\n",
       "    <tr>\n",
       "      <th>2</th>\n",
       "      <td>3</td>\n",
       "      <td>1</td>\n",
       "      <td>3</td>\n",
       "      <td>Heikkinen, Miss. Laina</td>\n",
       "      <td>female</td>\n",
       "      <td>26.0</td>\n",
       "      <td>0</td>\n",
       "      <td>0</td>\n",
       "      <td>STON/O2. 3101282</td>\n",
       "      <td>7.9250</td>\n",
       "      <td>NaN</td>\n",
       "      <td>S</td>\n",
       "    </tr>\n",
       "    <tr>\n",
       "      <th>3</th>\n",
       "      <td>4</td>\n",
       "      <td>1</td>\n",
       "      <td>1</td>\n",
       "      <td>Futrelle, Mrs. Jacques Heath (Lily May Peel)</td>\n",
       "      <td>female</td>\n",
       "      <td>35.0</td>\n",
       "      <td>1</td>\n",
       "      <td>0</td>\n",
       "      <td>113803</td>\n",
       "      <td>53.1000</td>\n",
       "      <td>C123</td>\n",
       "      <td>S</td>\n",
       "    </tr>\n",
       "    <tr>\n",
       "      <th>4</th>\n",
       "      <td>5</td>\n",
       "      <td>0</td>\n",
       "      <td>3</td>\n",
       "      <td>Allen, Mr. William Henry</td>\n",
       "      <td>male</td>\n",
       "      <td>35.0</td>\n",
       "      <td>0</td>\n",
       "      <td>0</td>\n",
       "      <td>373450</td>\n",
       "      <td>8.0500</td>\n",
       "      <td>NaN</td>\n",
       "      <td>S</td>\n",
       "    </tr>\n",
       "  </tbody>\n",
       "</table>\n",
       "</div>"
      ],
      "text/plain": [
       "   PassengerId  Survived  Pclass  \\\n",
       "0            1         0       3   \n",
       "1            2         1       1   \n",
       "2            3         1       3   \n",
       "3            4         1       1   \n",
       "4            5         0       3   \n",
       "\n",
       "                                                Name     Sex   Age  SibSp  \\\n",
       "0                            Braund, Mr. Owen Harris    male  22.0      1   \n",
       "1  Cumings, Mrs. John Bradley (Florence Briggs Th...  female  38.0      1   \n",
       "2                             Heikkinen, Miss. Laina  female  26.0      0   \n",
       "3       Futrelle, Mrs. Jacques Heath (Lily May Peel)  female  35.0      1   \n",
       "4                           Allen, Mr. William Henry    male  35.0      0   \n",
       "\n",
       "   Parch            Ticket     Fare Cabin Embarked  \n",
       "0      0         A/5 21171   7.2500   NaN        S  \n",
       "1      0          PC 17599  71.2833   C85        C  \n",
       "2      0  STON/O2. 3101282   7.9250   NaN        S  \n",
       "3      0            113803  53.1000  C123        S  \n",
       "4      0            373450   8.0500   NaN        S  "
      ]
     },
     "execution_count": 6,
     "metadata": {},
     "output_type": "execute_result"
    }
   ],
   "source": [
    "train.head()"
   ]
  },
  {
   "cell_type": "code",
   "execution_count": 7,
   "id": "21841e24",
   "metadata": {
    "execution": {
     "iopub.execute_input": "2022-03-14T14:21:29.945626Z",
     "iopub.status.busy": "2022-03-14T14:21:29.944945Z",
     "iopub.status.idle": "2022-03-14T14:21:29.952351Z",
     "shell.execute_reply": "2022-03-14T14:21:29.952921Z",
     "shell.execute_reply.started": "2022-03-14T13:09:41.073708Z"
    },
    "papermill": {
     "duration": 0.05733,
     "end_time": "2022-03-14T14:21:29.953132",
     "exception": false,
     "start_time": "2022-03-14T14:21:29.895802",
     "status": "completed"
    },
    "tags": []
   },
   "outputs": [
    {
     "data": {
      "text/plain": [
       "PassengerId      int64\n",
       "Survived         int64\n",
       "Pclass           int64\n",
       "Name            object\n",
       "Sex             object\n",
       "Age            float64\n",
       "SibSp            int64\n",
       "Parch            int64\n",
       "Ticket          object\n",
       "Fare           float64\n",
       "Cabin           object\n",
       "Embarked        object\n",
       "dtype: object"
      ]
     },
     "execution_count": 7,
     "metadata": {},
     "output_type": "execute_result"
    }
   ],
   "source": [
    "train.dtypes"
   ]
  },
  {
   "cell_type": "code",
   "execution_count": 8,
   "id": "a5946a47",
   "metadata": {
    "execution": {
     "iopub.execute_input": "2022-03-14T14:21:30.051511Z",
     "iopub.status.busy": "2022-03-14T14:21:30.050008Z",
     "iopub.status.idle": "2022-03-14T14:21:30.083607Z",
     "shell.execute_reply": "2022-03-14T14:21:30.084205Z",
     "shell.execute_reply.started": "2022-03-14T13:10:02.087083Z"
    },
    "papermill": {
     "duration": 0.084541,
     "end_time": "2022-03-14T14:21:30.084405",
     "exception": false,
     "start_time": "2022-03-14T14:21:29.999864",
     "status": "completed"
    },
    "tags": []
   },
   "outputs": [
    {
     "data": {
      "text/html": [
       "<div>\n",
       "<style scoped>\n",
       "    .dataframe tbody tr th:only-of-type {\n",
       "        vertical-align: middle;\n",
       "    }\n",
       "\n",
       "    .dataframe tbody tr th {\n",
       "        vertical-align: top;\n",
       "    }\n",
       "\n",
       "    .dataframe thead th {\n",
       "        text-align: right;\n",
       "    }\n",
       "</style>\n",
       "<table border=\"1\" class=\"dataframe\">\n",
       "  <thead>\n",
       "    <tr style=\"text-align: right;\">\n",
       "      <th></th>\n",
       "      <th>PassengerId</th>\n",
       "      <th>Survived</th>\n",
       "      <th>Pclass</th>\n",
       "      <th>Age</th>\n",
       "      <th>SibSp</th>\n",
       "      <th>Parch</th>\n",
       "      <th>Fare</th>\n",
       "    </tr>\n",
       "  </thead>\n",
       "  <tbody>\n",
       "    <tr>\n",
       "      <th>count</th>\n",
       "      <td>891.000000</td>\n",
       "      <td>891.000000</td>\n",
       "      <td>891.000000</td>\n",
       "      <td>714.000000</td>\n",
       "      <td>891.000000</td>\n",
       "      <td>891.000000</td>\n",
       "      <td>891.000000</td>\n",
       "    </tr>\n",
       "    <tr>\n",
       "      <th>mean</th>\n",
       "      <td>446.000000</td>\n",
       "      <td>0.383838</td>\n",
       "      <td>2.308642</td>\n",
       "      <td>29.699118</td>\n",
       "      <td>0.523008</td>\n",
       "      <td>0.381594</td>\n",
       "      <td>32.204208</td>\n",
       "    </tr>\n",
       "    <tr>\n",
       "      <th>std</th>\n",
       "      <td>257.353842</td>\n",
       "      <td>0.486592</td>\n",
       "      <td>0.836071</td>\n",
       "      <td>14.526497</td>\n",
       "      <td>1.102743</td>\n",
       "      <td>0.806057</td>\n",
       "      <td>49.693429</td>\n",
       "    </tr>\n",
       "    <tr>\n",
       "      <th>min</th>\n",
       "      <td>1.000000</td>\n",
       "      <td>0.000000</td>\n",
       "      <td>1.000000</td>\n",
       "      <td>0.420000</td>\n",
       "      <td>0.000000</td>\n",
       "      <td>0.000000</td>\n",
       "      <td>0.000000</td>\n",
       "    </tr>\n",
       "    <tr>\n",
       "      <th>25%</th>\n",
       "      <td>223.500000</td>\n",
       "      <td>0.000000</td>\n",
       "      <td>2.000000</td>\n",
       "      <td>20.125000</td>\n",
       "      <td>0.000000</td>\n",
       "      <td>0.000000</td>\n",
       "      <td>7.910400</td>\n",
       "    </tr>\n",
       "    <tr>\n",
       "      <th>50%</th>\n",
       "      <td>446.000000</td>\n",
       "      <td>0.000000</td>\n",
       "      <td>3.000000</td>\n",
       "      <td>28.000000</td>\n",
       "      <td>0.000000</td>\n",
       "      <td>0.000000</td>\n",
       "      <td>14.454200</td>\n",
       "    </tr>\n",
       "    <tr>\n",
       "      <th>75%</th>\n",
       "      <td>668.500000</td>\n",
       "      <td>1.000000</td>\n",
       "      <td>3.000000</td>\n",
       "      <td>38.000000</td>\n",
       "      <td>1.000000</td>\n",
       "      <td>0.000000</td>\n",
       "      <td>31.000000</td>\n",
       "    </tr>\n",
       "    <tr>\n",
       "      <th>max</th>\n",
       "      <td>891.000000</td>\n",
       "      <td>1.000000</td>\n",
       "      <td>3.000000</td>\n",
       "      <td>80.000000</td>\n",
       "      <td>8.000000</td>\n",
       "      <td>6.000000</td>\n",
       "      <td>512.329200</td>\n",
       "    </tr>\n",
       "  </tbody>\n",
       "</table>\n",
       "</div>"
      ],
      "text/plain": [
       "       PassengerId    Survived      Pclass         Age       SibSp  \\\n",
       "count   891.000000  891.000000  891.000000  714.000000  891.000000   \n",
       "mean    446.000000    0.383838    2.308642   29.699118    0.523008   \n",
       "std     257.353842    0.486592    0.836071   14.526497    1.102743   \n",
       "min       1.000000    0.000000    1.000000    0.420000    0.000000   \n",
       "25%     223.500000    0.000000    2.000000   20.125000    0.000000   \n",
       "50%     446.000000    0.000000    3.000000   28.000000    0.000000   \n",
       "75%     668.500000    1.000000    3.000000   38.000000    1.000000   \n",
       "max     891.000000    1.000000    3.000000   80.000000    8.000000   \n",
       "\n",
       "            Parch        Fare  \n",
       "count  891.000000  891.000000  \n",
       "mean     0.381594   32.204208  \n",
       "std      0.806057   49.693429  \n",
       "min      0.000000    0.000000  \n",
       "25%      0.000000    7.910400  \n",
       "50%      0.000000   14.454200  \n",
       "75%      0.000000   31.000000  \n",
       "max      6.000000  512.329200  "
      ]
     },
     "execution_count": 8,
     "metadata": {},
     "output_type": "execute_result"
    }
   ],
   "source": [
    "train.describe()"
   ]
  },
  {
   "cell_type": "code",
   "execution_count": 9,
   "id": "b7e5bad9",
   "metadata": {
    "execution": {
     "iopub.execute_input": "2022-03-14T14:21:30.190425Z",
     "iopub.status.busy": "2022-03-14T14:21:30.184762Z",
     "iopub.status.idle": "2022-03-14T14:21:30.612663Z",
     "shell.execute_reply": "2022-03-14T14:21:30.611940Z",
     "shell.execute_reply.started": "2022-03-14T13:14:10.771759Z"
    },
    "papermill": {
     "duration": 0.479886,
     "end_time": "2022-03-14T14:21:30.612837",
     "exception": false,
     "start_time": "2022-03-14T14:21:30.132951",
     "status": "completed"
    },
    "tags": []
   },
   "outputs": [
    {
     "data": {
      "image/png": "[encoded data removed]",
      "text/plain": [
       "<Figure size 432x288 with 2 Axes>"
      ]
     },
     "metadata": {},
     "output_type": "display_data"
    }
   ],
   "source": [
    "g = sns.heatmap(train[['Survived', 'SibSp', 'Parch', 'Age','Fare']].corr(), annot = True, fmt = '.2f', cmap = 'coolwarm')"
   ]
  },
  {
   "cell_type": "markdown",
   "id": "3ba1b1ff",
   "metadata": {
    "papermill": {
     "duration": 0.050158,
     "end_time": "2022-03-14T14:21:30.713256",
     "exception": false,
     "start_time": "2022-03-14T14:21:30.663098",
     "status": "completed"
    },
    "tags": []
   },
   "source": [
    "- Fare는 Survived와 큰 상관관계가 있고 다른 것들은 미미하다. 하지만 다른 것들도 아예 상관이 없는것은 아니기 때문에 신경써주어야 한다.\n",
    "### SibSp"
   ]
  },
  {
   "cell_type": "code",
   "execution_count": 10,
   "id": "decc1700",
   "metadata": {
    "execution": {
     "iopub.execute_input": "2022-03-14T14:21:30.821210Z",
     "iopub.status.busy": "2022-03-14T14:21:30.820487Z",
     "iopub.status.idle": "2022-03-14T14:21:31.589891Z",
     "shell.execute_reply": "2022-03-14T14:21:31.589227Z",
     "shell.execute_reply.started": "2022-03-14T13:20:06.052489Z"
    },
    "papermill": {
     "duration": 0.825564,
     "end_time": "2022-03-14T14:21:31.590056",
     "exception": false,
     "start_time": "2022-03-14T14:21:30.764492",
     "status": "completed"
    },
    "tags": []
   },
   "outputs": [
    {
     "data": {
      "image/png": "[encoded data removed]",
      "text/plain": [
       "<Figure size 432x432 with 1 Axes>"
      ]
     },
     "metadata": {},
     "output_type": "display_data"
    }
   ],
   "source": [
    "g = sns.factorplot(x='SibSp', y = 'Survived', data = train, kind = 'bar', size = 6, palette = 'muted')\n",
    "g.despine(left = True)\n",
    "g = g.set_ylabels('Survival probability')"
   ]
  },
  {
   "cell_type": "markdown",
   "id": "2a20af69",
   "metadata": {
    "papermill": {
     "duration": 0.052527,
     "end_time": "2022-03-14T14:21:31.694334",
     "exception": false,
     "start_time": "2022-03-14T14:21:31.641807",
     "status": "completed"
    },
    "tags": []
   },
   "source": [
    "- sibsp가 1~2 일 경우 3~4보다 더 생존가능성이 높다\n",
    "### Parch"
   ]
  },
  {
   "cell_type": "code",
   "execution_count": 11,
   "id": "704994aa",
   "metadata": {
    "execution": {
     "iopub.execute_input": "2022-03-14T14:21:31.806278Z",
     "iopub.status.busy": "2022-03-14T14:21:31.805045Z",
     "iopub.status.idle": "2022-03-14T14:21:32.552145Z",
     "shell.execute_reply": "2022-03-14T14:21:32.552664Z",
     "shell.execute_reply.started": "2022-03-14T13:30:13.272880Z"
    },
    "papermill": {
     "duration": 0.806395,
     "end_time": "2022-03-14T14:21:32.552854",
     "exception": false,
     "start_time": "2022-03-14T14:21:31.746459",
     "status": "completed"
    },
    "tags": []
   },
   "outputs": [
    {
     "data": {
      "image/png": "[encoded data removed]",
      "text/plain": [
       "<Figure size 432x432 with 1 Axes>"
      ]
     },
     "metadata": {},
     "output_type": "display_data"
    }
   ],
   "source": [
    "g = sns.factorplot(x=\"Parch\",y=\"Survived\",data = train, kind = 'bar', size = 6, palette = 'muted')\n",
    "g.despine(left=True) # y축 사라짐\n",
    "g = g.set_ylabels(\"survival probability\")"
   ]
  },
  {
   "cell_type": "markdown",
   "id": "ae2d4cf7",
   "metadata": {
    "papermill": {
     "duration": 0.051978,
     "end_time": "2022-03-14T14:21:32.657344",
     "exception": false,
     "start_time": "2022-03-14T14:21:32.605366",
     "status": "completed"
    },
    "tags": []
   },
   "source": [
    "### Age"
   ]
  },
  {
   "cell_type": "code",
   "execution_count": 12,
   "id": "8191129c",
   "metadata": {
    "execution": {
     "iopub.execute_input": "2022-03-14T14:21:32.800327Z",
     "iopub.status.busy": "2022-03-14T14:21:32.799198Z",
     "iopub.status.idle": "2022-03-14T14:21:33.643921Z",
     "shell.execute_reply": "2022-03-14T14:21:33.644495Z",
     "shell.execute_reply.started": "2022-03-14T13:29:58.726231Z"
    },
    "papermill": {
     "duration": 0.933693,
     "end_time": "2022-03-14T14:21:33.644677",
     "exception": false,
     "start_time": "2022-03-14T14:21:32.710984",
     "status": "completed"
    },
    "tags": []
   },
   "outputs": [
    {
     "data": {
      "image/png": "[encoded data removed]",
      "text/plain": [
       "<Figure size 432x216 with 2 Axes>"
      ]
     },
     "metadata": {},
     "output_type": "display_data"
    }
   ],
   "source": [
    "g = sns.FacetGrid(train, col = 'Survived')\n",
    "g = g.map(sns.distplot, 'Age')"
   ]
  },
  {
   "cell_type": "markdown",
   "id": "3bbc4ad6",
   "metadata": {
    "papermill": {
     "duration": 0.051783,
     "end_time": "2022-03-14T14:21:33.748468",
     "exception": false,
     "start_time": "2022-03-14T14:21:33.696685",
     "status": "completed"
    },
    "tags": []
   },
   "source": [
    "- 생존한 나이와 생존하지 못한 나이의 상관관계는 존재하지 않아 보인다. \n",
    "- 젊은 층이 가장 많이 산 동시에 가장 많이 죽었기 때문이다.\n",
    "- 하지만 나이와 생존의 상관관계가 없다고 할 지라도 더 많이 생존하거나 생존하지 못한 범주를 구할 수 있다.\n",
    "    - 예를 들어 어린 나이들은 더 생존할 가능성들이 있다."
   ]
  },
  {
   "cell_type": "code",
   "execution_count": 13,
   "id": "afd496ec",
   "metadata": {
    "execution": {
     "iopub.execute_input": "2022-03-14T14:21:33.856579Z",
     "iopub.status.busy": "2022-03-14T14:21:33.855805Z",
     "iopub.status.idle": "2022-03-14T14:21:34.218673Z",
     "shell.execute_reply": "2022-03-14T14:21:34.217948Z",
     "shell.execute_reply.started": "2022-03-14T13:42:08.713824Z"
    },
    "papermill": {
     "duration": 0.41809,
     "end_time": "2022-03-14T14:21:34.218827",
     "exception": false,
     "start_time": "2022-03-14T14:21:33.800737",
     "status": "completed"
    },
    "tags": []
   },
   "outputs": [
    {
     "data": {
      "image/png": "[encoded data removed]",
      "text/plain": [
       "<Figure size 432x288 with 1 Axes>"
      ]
     },
     "metadata": {},
     "output_type": "display_data"
    }
   ],
   "source": [
    "g= sns.kdeplot(train['Age'][(train['Survived']==0)& (train['Age'].notnull())], color = 'Red', shade = True)\n",
    "g = sns.kdeplot(train[\"Age\"][(train[\"Survived\"] == 1) & (train[\"Age\"].notnull())], ax =g, color=\"Blue\", shade= True)\n",
    "g.set_xlabel('Age')\n",
    "g.set_ylabel('Survived')\n",
    "g = g.legend(['Not Survived', 'Survived'])"
   ]
  },
  {
   "cell_type": "markdown",
   "id": "e2020dac",
   "metadata": {
    "papermill": {
     "duration": 0.053744,
     "end_time": "2022-03-14T14:21:34.328862",
     "exception": false,
     "start_time": "2022-03-14T14:21:34.275118",
     "status": "completed"
    },
    "tags": []
   },
   "source": [
    "- 0~5 사이에 우리는 상관관계를 볼 수 있다.\n",
    "### Fare"
   ]
  },
  {
   "cell_type": "code",
   "execution_count": 14,
   "id": "a1a09316",
   "metadata": {
    "execution": {
     "iopub.execute_input": "2022-03-14T14:21:34.441049Z",
     "iopub.status.busy": "2022-03-14T14:21:34.440369Z",
     "iopub.status.idle": "2022-03-14T14:21:34.446770Z",
     "shell.execute_reply": "2022-03-14T14:21:34.447390Z",
     "shell.execute_reply.started": "2022-03-14T13:43:48.425897Z"
    },
    "papermill": {
     "duration": 0.064892,
     "end_time": "2022-03-14T14:21:34.447578",
     "exception": false,
     "start_time": "2022-03-14T14:21:34.382686",
     "status": "completed"
    },
    "tags": []
   },
   "outputs": [
    {
     "data": {
      "text/plain": [
       "1"
      ]
     },
     "execution_count": 14,
     "metadata": {},
     "output_type": "execute_result"
    }
   ],
   "source": [
    "dataset['Fare'].isnull().sum()"
   ]
  },
  {
   "cell_type": "code",
   "execution_count": 15,
   "id": "62b956a5",
   "metadata": {
    "execution": {
     "iopub.execute_input": "2022-03-14T14:21:34.561619Z",
     "iopub.status.busy": "2022-03-14T14:21:34.560925Z",
     "iopub.status.idle": "2022-03-14T14:21:34.565919Z",
     "shell.execute_reply": "2022-03-14T14:21:34.566550Z",
     "shell.execute_reply.started": "2022-03-14T13:44:28.295654Z"
    },
    "papermill": {
     "duration": 0.06345,
     "end_time": "2022-03-14T14:21:34.566738",
     "exception": false,
     "start_time": "2022-03-14T14:21:34.503288",
     "status": "completed"
    },
    "tags": []
   },
   "outputs": [],
   "source": [
    "dataset['Fare'] = dataset['Fare'].fillna(dataset['Fare'].median())"
   ]
  },
  {
   "cell_type": "code",
   "execution_count": 16,
   "id": "39a4dcb3",
   "metadata": {
    "execution": {
     "iopub.execute_input": "2022-03-14T14:21:34.680116Z",
     "iopub.status.busy": "2022-03-14T14:21:34.679380Z",
     "iopub.status.idle": "2022-03-14T14:21:35.209966Z",
     "shell.execute_reply": "2022-03-14T14:21:35.210574Z",
     "shell.execute_reply.started": "2022-03-14T13:45:47.180125Z"
    },
    "papermill": {
     "duration": 0.588914,
     "end_time": "2022-03-14T14:21:35.210766",
     "exception": false,
     "start_time": "2022-03-14T14:21:34.621852",
     "status": "completed"
    },
    "tags": []
   },
   "outputs": [
    {
     "data": {
      "image/png": "[encoded data removed]",
      "text/plain": [
       "<Figure size 432x288 with 1 Axes>"
      ]
     },
     "metadata": {},
     "output_type": "display_data"
    }
   ],
   "source": [
    "g = sns.distplot(dataset['Fare'], color = 'm',label = 'Skewness : &.2f' %(dataset['Fare'].skew()))\n",
    "g = g.legend(loc=\"best\")"
   ]
  },
  {
   "cell_type": "markdown",
   "id": "c6ce3a08",
   "metadata": {
    "papermill": {
     "duration": 0.055691,
     "end_time": "2022-03-14T14:21:35.323916",
     "exception": false,
     "start_time": "2022-03-14T14:21:35.268225",
     "status": "completed"
    },
    "tags": []
   },
   "source": [
    "- skewed : 분포가 비대칭하다\n",
    "- fare분포는 매우 비대칭하다\n",
    "    - 그래서 log로 skwe를 감소시킨다"
   ]
  },
  {
   "cell_type": "code",
   "execution_count": 17,
   "id": "a40d58ec",
   "metadata": {
    "execution": {
     "iopub.execute_input": "2022-03-14T14:21:35.441014Z",
     "iopub.status.busy": "2022-03-14T14:21:35.439929Z",
     "iopub.status.idle": "2022-03-14T14:21:35.448012Z",
     "shell.execute_reply": "2022-03-14T14:21:35.448629Z",
     "shell.execute_reply.started": "2022-03-14T13:48:58.861497Z"
    },
    "papermill": {
     "duration": 0.067232,
     "end_time": "2022-03-14T14:21:35.448816",
     "exception": false,
     "start_time": "2022-03-14T14:21:35.381584",
     "status": "completed"
    },
    "tags": []
   },
   "outputs": [],
   "source": [
    "dataset['Fare'] = dataset['Fare'].map(lambda i : np.log(i) if i>0 else 0)"
   ]
  },
  {
   "cell_type": "code",
   "execution_count": 18,
   "id": "f8b06eac",
   "metadata": {
    "execution": {
     "iopub.execute_input": "2022-03-14T14:21:35.563314Z",
     "iopub.status.busy": "2022-03-14T14:21:35.562236Z",
     "iopub.status.idle": "2022-03-14T14:21:36.169319Z",
     "shell.execute_reply": "2022-03-14T14:21:36.169932Z",
     "shell.execute_reply.started": "2022-03-14T13:49:07.262555Z"
    },
    "papermill": {
     "duration": 0.665975,
     "end_time": "2022-03-14T14:21:36.170131",
     "exception": false,
     "start_time": "2022-03-14T14:21:35.504156",
     "status": "completed"
    },
    "tags": []
   },
   "outputs": [
    {
     "data": {
      "image/png": "[encoded data removed]",
      "text/plain": [
       "<Figure size 432x288 with 1 Axes>"
      ]
     },
     "metadata": {},
     "output_type": "display_data"
    }
   ],
   "source": [
    "g = sns.distplot(dataset[\"Fare\"], color=\"b\", label=\"Skewness : %.2f\"%(dataset[\"Fare\"].skew()))\n",
    "g = g.legend(loc=\"best\")"
   ]
  },
  {
   "cell_type": "markdown",
   "id": "edccaf55",
   "metadata": {
    "papermill": {
     "duration": 0.056951,
     "end_time": "2022-03-14T14:21:36.284112",
     "exception": false,
     "start_time": "2022-03-14T14:21:36.227161",
     "status": "completed"
    },
    "tags": []
   },
   "source": [
    "- skew가 어느정도 감소되었다\n",
    "###  Categorical values - Sex"
   ]
  },
  {
   "cell_type": "code",
   "execution_count": 19,
   "id": "c7ae69c1",
   "metadata": {
    "execution": {
     "iopub.execute_input": "2022-03-14T14:21:36.409000Z",
     "iopub.status.busy": "2022-03-14T14:21:36.407623Z",
     "iopub.status.idle": "2022-03-14T14:21:36.730973Z",
     "shell.execute_reply": "2022-03-14T14:21:36.731550Z",
     "shell.execute_reply.started": "2022-03-14T13:50:38.880939Z"
    },
    "papermill": {
     "duration": 0.388289,
     "end_time": "2022-03-14T14:21:36.731731",
     "exception": false,
     "start_time": "2022-03-14T14:21:36.343442",
     "status": "completed"
    },
    "tags": []
   },
   "outputs": [
    {
     "data": {
      "image/png": "[encoded data removed]",
      "text/plain": [
       "<Figure size 432x288 with 1 Axes>"
      ]
     },
     "metadata": {},
     "output_type": "display_data"
    }
   ],
   "source": [
    "g = sns.barplot(x = 'Sex', y = 'Survived', data = train)\n",
    "g = g.set_ylabel('Survival Probability')"
   ]
  },
  {
   "cell_type": "code",
   "execution_count": 20,
   "id": "e40302c8",
   "metadata": {
    "execution": {
     "iopub.execute_input": "2022-03-14T14:21:36.855103Z",
     "iopub.status.busy": "2022-03-14T14:21:36.853988Z",
     "iopub.status.idle": "2022-03-14T14:21:36.862163Z",
     "shell.execute_reply": "2022-03-14T14:21:36.862708Z",
     "shell.execute_reply.started": "2022-03-14T13:52:41.708960Z"
    },
    "papermill": {
     "duration": 0.074853,
     "end_time": "2022-03-14T14:21:36.862888",
     "exception": false,
     "start_time": "2022-03-14T14:21:36.788035",
     "status": "completed"
    },
    "tags": []
   },
   "outputs": [
    {
     "data": {
      "text/html": [
       "<div>\n",
       "<style scoped>\n",
       "    .dataframe tbody tr th:only-of-type {\n",
       "        vertical-align: middle;\n",
       "    }\n",
       "\n",
       "    .dataframe tbody tr th {\n",
       "        vertical-align: top;\n",
       "    }\n",
       "\n",
       "    .dataframe thead th {\n",
       "        text-align: right;\n",
       "    }\n",
       "</style>\n",
       "<table border=\"1\" class=\"dataframe\">\n",
       "  <thead>\n",
       "    <tr style=\"text-align: right;\">\n",
       "      <th></th>\n",
       "      <th>Survived</th>\n",
       "    </tr>\n",
       "    <tr>\n",
       "      <th>Sex</th>\n",
       "      <th></th>\n",
       "    </tr>\n",
       "  </thead>\n",
       "  <tbody>\n",
       "    <tr>\n",
       "      <th>female</th>\n",
       "      <td>0.742038</td>\n",
       "    </tr>\n",
       "    <tr>\n",
       "      <th>male</th>\n",
       "      <td>0.188908</td>\n",
       "    </tr>\n",
       "  </tbody>\n",
       "</table>\n",
       "</div>"
      ],
      "text/plain": [
       "        Survived\n",
       "Sex             \n",
       "female  0.742038\n",
       "male    0.188908"
      ]
     },
     "execution_count": 20,
     "metadata": {},
     "output_type": "execute_result"
    }
   ],
   "source": [
    "train[['Sex', 'Survived']].groupby('Sex').mean()"
   ]
  },
  {
   "cell_type": "markdown",
   "id": "e6ab2379",
   "metadata": {
    "papermill": {
     "duration": 0.0578,
     "end_time": "2022-03-14T14:21:36.978501",
     "exception": false,
     "start_time": "2022-03-14T14:21:36.920701",
     "status": "completed"
    },
    "tags": []
   },
   "source": [
    "- 여성의 생존률이 남성보다 높다\n",
    "### Pclass"
   ]
  },
  {
   "cell_type": "code",
   "execution_count": 21,
   "id": "5c4ddaba",
   "metadata": {
    "execution": {
     "iopub.execute_input": "2022-03-14T14:21:37.103448Z",
     "iopub.status.busy": "2022-03-14T14:21:37.097699Z",
     "iopub.status.idle": "2022-03-14T14:21:37.642228Z",
     "shell.execute_reply": "2022-03-14T14:21:37.641568Z",
     "shell.execute_reply.started": "2022-03-14T13:55:11.221799Z"
    },
    "papermill": {
     "duration": 0.605872,
     "end_time": "2022-03-14T14:21:37.642396",
     "exception": false,
     "start_time": "2022-03-14T14:21:37.036524",
     "status": "completed"
    },
    "tags": []
   },
   "outputs": [
    {
     "data": {
      "image/png": "[encoded data removed]",
      "text/plain": [
       "<Figure size 432x432 with 1 Axes>"
      ]
     },
     "metadata": {},
     "output_type": "display_data"
    }
   ],
   "source": [
    "g = sns.factorplot(x = 'Pclass', y = 'Survived', data = train, kind = 'bar', size = 6, palette = 'muted')\n",
    "g.despine(left = True)\n",
    "g = g.set_ylabels('Survival probability')"
   ]
  },
  {
   "cell_type": "code",
   "execution_count": 22,
   "id": "a225cba6",
   "metadata": {
    "execution": {
     "iopub.execute_input": "2022-03-14T14:21:37.770830Z",
     "iopub.status.busy": "2022-03-14T14:21:37.770062Z",
     "iopub.status.idle": "2022-03-14T14:21:38.555639Z",
     "shell.execute_reply": "2022-03-14T14:21:38.556384Z",
     "shell.execute_reply.started": "2022-03-14T13:55:34.812571Z"
    },
    "papermill": {
     "duration": 0.854186,
     "end_time": "2022-03-14T14:21:38.556583",
     "exception": false,
     "start_time": "2022-03-14T14:21:37.702397",
     "status": "completed"
    },
    "tags": []
   },
   "outputs": [
    {
     "data": {
      "image/png": "[encoded data removed]",
      "text/plain": [
       "<Figure size 509.975x432 with 1 Axes>"
      ]
     },
     "metadata": {},
     "output_type": "display_data"
    }
   ],
   "source": [
    "# Explore Pclass vs Survived by Sex\n",
    "g = sns.factorplot(x=\"Pclass\", y=\"Survived\", hue=\"Sex\", data=train, size=6, kind=\"bar\", palette=\"muted\")\n",
    "g.despine(left=True)\n",
    "g = g.set_ylabels(\"survival probability\")"
   ]
  },
  {
   "cell_type": "markdown",
   "id": "c7edc1aa",
   "metadata": {
    "papermill": {
     "duration": 0.058936,
     "end_time": "2022-03-14T14:21:38.675500",
     "exception": false,
     "start_time": "2022-03-14T14:21:38.616564",
     "status": "completed"
    },
    "tags": []
   },
   "source": [
    "- 각 클래스별로 생존률이 다르다. 1>2>3의 순서로 생존률이 낮아지고 있다.\n",
    "### Embarked"
   ]
  },
  {
   "cell_type": "code",
   "execution_count": 23,
   "id": "321a0ac4",
   "metadata": {
    "execution": {
     "iopub.execute_input": "2022-03-14T14:21:38.801628Z",
     "iopub.status.busy": "2022-03-14T14:21:38.800693Z",
     "iopub.status.idle": "2022-03-14T14:21:38.805394Z",
     "shell.execute_reply": "2022-03-14T14:21:38.804631Z",
     "shell.execute_reply.started": "2022-03-14T13:58:53.143335Z"
    },
    "papermill": {
     "duration": 0.070746,
     "end_time": "2022-03-14T14:21:38.805552",
     "exception": false,
     "start_time": "2022-03-14T14:21:38.734806",
     "status": "completed"
    },
    "tags": []
   },
   "outputs": [
    {
     "data": {
      "text/plain": [
       "2"
      ]
     },
     "execution_count": 23,
     "metadata": {},
     "output_type": "execute_result"
    }
   ],
   "source": [
    "dataset['Embarked'].isnull().sum()"
   ]
  },
  {
   "cell_type": "code",
   "execution_count": 24,
   "id": "d45069c2",
   "metadata": {
    "execution": {
     "iopub.execute_input": "2022-03-14T14:21:38.934855Z",
     "iopub.status.busy": "2022-03-14T14:21:38.934153Z",
     "iopub.status.idle": "2022-03-14T14:21:38.937972Z",
     "shell.execute_reply": "2022-03-14T14:21:38.937340Z",
     "shell.execute_reply.started": "2022-03-14T13:59:27.395799Z"
    },
    "papermill": {
     "duration": 0.071494,
     "end_time": "2022-03-14T14:21:38.938160",
     "exception": false,
     "start_time": "2022-03-14T14:21:38.866666",
     "status": "completed"
    },
    "tags": []
   },
   "outputs": [],
   "source": [
    "dataset['Embarked'] = dataset['Embarked'].fillna('S')"
   ]
  },
  {
   "cell_type": "code",
   "execution_count": 25,
   "id": "669ccaa5",
   "metadata": {
    "execution": {
     "iopub.execute_input": "2022-03-14T14:21:39.069919Z",
     "iopub.status.busy": "2022-03-14T14:21:39.069195Z",
     "iopub.status.idle": "2022-03-14T14:21:39.586521Z",
     "shell.execute_reply": "2022-03-14T14:21:39.587057Z",
     "shell.execute_reply.started": "2022-03-14T14:00:29.381634Z"
    },
    "papermill": {
     "duration": 0.588344,
     "end_time": "2022-03-14T14:21:39.587282",
     "exception": false,
     "start_time": "2022-03-14T14:21:38.998938",
     "status": "completed"
    },
    "tags": []
   },
   "outputs": [
    {
     "data": {
      "text/plain": [
       "<seaborn.axisgrid.FacetGrid at 0x7f4c63f88110>"
      ]
     },
     "execution_count": 25,
     "metadata": {},
     "output_type": "execute_result"
    },
    {
     "data": {
      "image/png": "[encoded data removed]",
      "text/plain": [
       "<Figure size 432x432 with 1 Axes>"
      ]
     },
     "metadata": {},
     "output_type": "display_data"
    }
   ],
   "source": [
    "sns.factorplot('Embarked', 'Survived', data = train, size = 6, kind = 'bar', palette = 'muted')"
   ]
  },
  {
   "cell_type": "markdown",
   "id": "3d00eb36",
   "metadata": {
    "papermill": {
     "duration": 0.061925,
     "end_time": "2022-03-14T14:21:39.709936",
     "exception": false,
     "start_time": "2022-03-14T14:21:39.648011",
     "status": "completed"
    },
    "tags": []
   },
   "source": [
    "- C항구의 생존률이 가장 높다. 따라서 1Pclass사람들이 C에서 탑승했을 거라는 가설을 세울 수 있다."
   ]
  },
  {
   "cell_type": "code",
   "execution_count": 26,
   "id": "0a90c4e5",
   "metadata": {
    "execution": {
     "iopub.execute_input": "2022-03-14T14:21:39.838101Z",
     "iopub.status.busy": "2022-03-14T14:21:39.837383Z",
     "iopub.status.idle": "2022-03-14T14:21:40.734493Z",
     "shell.execute_reply": "2022-03-14T14:21:40.735031Z",
     "shell.execute_reply.started": "2022-03-14T14:04:10.597345Z"
    },
    "papermill": {
     "duration": 0.963,
     "end_time": "2022-03-14T14:21:40.735227",
     "exception": false,
     "start_time": "2022-03-14T14:21:39.772227",
     "status": "completed"
    },
    "tags": []
   },
   "outputs": [
    {
     "data": {
      "image/png": "[encoded data removed]",
      "text/plain": [
       "<Figure size 1296x432 with 3 Axes>"
      ]
     },
     "metadata": {},
     "output_type": "display_data"
    }
   ],
   "source": [
    "# 가설 증명해보기\n",
    "g = sns.factorplot('Pclass',col = 'Embarked' , data = train, kind = 'count', size = 6, palette = 'muted')\n",
    "g.despine(left = True)\n",
    "g =g.set_ylabels('Count')"
   ]
  },
  {
   "cell_type": "markdown",
   "id": "ca5884b9",
   "metadata": {
    "papermill": {
     "duration": 0.061785,
     "end_time": "2022-03-14T14:21:40.860168",
     "exception": false,
     "start_time": "2022-03-14T14:21:40.798383",
     "status": "completed"
    },
    "tags": []
   },
   "source": [
    "- S 와 C의 항구에서 Pclass 1,2승객들이 많이 탑승했다. 하지만 1Pclas승객들은 S에서 가장 많이 탑승했다. "
   ]
  },
  {
   "cell_type": "markdown",
   "id": "09626025",
   "metadata": {
    "papermill": {
     "duration": 0.061553,
     "end_time": "2022-03-14T14:21:40.984501",
     "exception": false,
     "start_time": "2022-03-14T14:21:40.922948",
     "status": "completed"
    },
    "tags": []
   },
   "source": [
    "## 결측치 채우기\n",
    "### Age\n",
    "- Age결측치는 25개이다. \n",
    "- Age결측치를 채우기 전에 Sex, Parch, Pcalss, SibSp들의 상관관계를 본다"
   ]
  },
  {
   "cell_type": "code",
   "execution_count": 27,
   "id": "84f22c6f",
   "metadata": {
    "execution": {
     "iopub.execute_input": "2022-03-14T14:21:41.120368Z",
     "iopub.status.busy": "2022-03-14T14:21:41.119229Z",
     "iopub.status.idle": "2022-03-14T14:21:43.354399Z",
     "shell.execute_reply": "2022-03-14T14:21:43.353708Z",
     "shell.execute_reply.started": "2022-03-14T14:14:09.895734Z"
    },
    "papermill": {
     "duration": 2.306846,
     "end_time": "2022-03-14T14:21:43.354557",
     "exception": false,
     "start_time": "2022-03-14T14:21:41.047711",
     "status": "completed"
    },
    "tags": []
   },
   "outputs": [
    {
     "data": {
      "image/png": "[encoded data removed]",
      "text/plain": [
       "<Figure size 360x360 with 1 Axes>"
      ]
     },
     "metadata": {},
     "output_type": "display_data"
    },
    {
     "data": {
      "image/png": "[encoded data removed]",
      "text/plain": [
       "<Figure size 406.6x360 with 1 Axes>"
      ]
     },
     "metadata": {},
     "output_type": "display_data"
    },
    {
     "data": {
      "image/png": "[encoded data removed]",
      "text/plain": [
       "<Figure size 360x360 with 1 Axes>"
      ]
     },
     "metadata": {},
     "output_type": "display_data"
    },
    {
     "data": {
      "image/png": "[encoded data removed]",
      "text/plain": [
       "<Figure size 360x360 with 1 Axes>"
      ]
     },
     "metadata": {},
     "output_type": "display_data"
    }
   ],
   "source": [
    "g = sns.factorplot(y=\"Age\",x=\"Sex\",data=dataset,kind=\"box\")\n",
    "g = sns.factorplot(y=\"Age\",x=\"Sex\",hue=\"Pclass\", data=dataset,kind=\"box\")\n",
    "g = sns.factorplot(y=\"Age\",x=\"Parch\", data=dataset,kind=\"box\")\n",
    "g = sns.factorplot(y=\"Age\",x=\"SibSp\", data=dataset,kind=\"box\")"
   ]
  },
  {
   "cell_type": "code",
   "execution_count": null,
   "id": "2a036e38",
   "metadata": {
    "papermill": {
     "duration": 0.069322,
     "end_time": "2022-03-14T14:21:43.491475",
     "exception": false,
     "start_time": "2022-03-14T14:21:43.422153",
     "status": "completed"
    },
    "tags": []
   },
   "outputs": [],
   "source": []
  },
  {
   "cell_type": "code",
   "execution_count": null,
   "id": "535d2f3b",
   "metadata": {
    "papermill": {
     "duration": 0.066894,
     "end_time": "2022-03-14T14:21:43.626756",
     "exception": false,
     "start_time": "2022-03-14T14:21:43.559862",
     "status": "completed"
    },
    "tags": []
   },
   "outputs": [],
   "source": []
  },
  {
   "cell_type": "code",
   "execution_count": null,
   "id": "7d5105a6",
   "metadata": {
    "papermill": {
     "duration": 0.066636,
     "end_time": "2022-03-14T14:21:43.760758",
     "exception": false,
     "start_time": "2022-03-14T14:21:43.694122",
     "status": "completed"
    },
    "tags": []
   },
   "outputs": [],
   "source": []
  },
  {
   "cell_type": "code",
   "execution_count": null,
   "id": "62470b33",
   "metadata": {
    "papermill": {
     "duration": 0.066528,
     "end_time": "2022-03-14T14:21:43.894433",
     "exception": false,
     "start_time": "2022-03-14T14:21:43.827905",
     "status": "completed"
    },
    "tags": []
   },
   "outputs": [],
   "source": []
  },
  {
   "cell_type": "code",
   "execution_count": null,
   "id": "d6ff476a",
   "metadata": {
    "papermill": {
     "duration": 0.067159,
     "end_time": "2022-03-14T14:21:44.028706",
     "exception": false,
     "start_time": "2022-03-14T14:21:43.961547",
     "status": "completed"
    },
    "tags": []
   },
   "outputs": [],
   "source": []
  },
  {
   "cell_type": "code",
   "execution_count": null,
   "id": "7a93bc22",
   "metadata": {
    "papermill": {
     "duration": 0.065573,
     "end_time": "2022-03-14T14:21:44.160708",
     "exception": false,
     "start_time": "2022-03-14T14:21:44.095135",
     "status": "completed"
    },
    "tags": []
   },
   "outputs": [],
   "source": []
  }
 ],
 "metadata": {
  "kernelspec": {
   "display_name": "Python 3",
   "language": "python",
   "name": "python3"
  },
  "language_info": {
   "codemirror_mode": {
    "name": "ipython",
    "version": 3
   },
   "file_extension": ".py",
   "mimetype": "text/x-python",
   "name": "python",
   "nbconvert_exporter": "python",
   "pygments_lexer": "ipython3",
   "version": "3.7.12"
  },
  "papermill": {
   "default_parameters": {},
   "duration": 28.782291,
   "end_time": "2022-03-14T14:21:45.039051",
   "environment_variables": {},
   "exception": null,
   "input_path": "__notebook__.ipynb",
   "output_path": "__notebook__.ipynb",
   "parameters": {},
   "start_time": "2022-03-14T14:21:16.256760",
   "version": "2.3.3"
  }
 },
 "nbformat": 4,
 "nbformat_minor": 5
}
