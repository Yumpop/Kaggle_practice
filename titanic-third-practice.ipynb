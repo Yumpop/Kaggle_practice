{
 "cells": [
  {
   "cell_type": "code",
   "execution_count": 1,
   "id": "55d3c933",
   "metadata": {
    "_cell_guid": "b1076dfc-b9ad-4769-8c92-a6c4dae69d19",
    "_uuid": "8f2839f25d086af736a60e9eeb907d3b93b6e0e5",
    "execution": {
     "iopub.execute_input": "2022-03-17T11:39:33.004827Z",
     "iopub.status.busy": "2022-03-17T11:39:33.004198Z",
     "iopub.status.idle": "2022-03-17T11:39:34.500369Z",
     "shell.execute_reply": "2022-03-17T11:39:34.499451Z",
     "shell.execute_reply.started": "2022-03-17T07:50:34.971322Z"
    },
    "papermill": {
     "duration": 1.586852,
     "end_time": "2022-03-17T11:39:34.500549",
     "exception": false,
     "start_time": "2022-03-17T11:39:32.913697",
     "status": "completed"
    },
    "tags": []
   },
   "outputs": [],
   "source": [
    "import pandas as pd\n",
    "import numpy as np\n",
    "import matplotlib.pyplot as plt\n",
    "import seaborn as sns\n",
    "%matplotlib inline\n",
    "import warnings \n",
    "warnings.filterwarnings('ignore')\n",
    "\n",
    "from collections import Counter\n",
    "\n",
    "from sklearn.ensemble import RandomForestClassifier, AdaBoostClassifier, GradientBoostingClassifier, ExtraTreesClassifier, VotingClassifier\n",
    "from sklearn.discriminant_analysis import LinearDiscriminantAnalysis\n",
    "from sklearn.linear_model import LogisticRegression\n",
    "from sklearn.neighbors import KNeighborsClassifier\n",
    "from sklearn.tree import DecisionTreeClassifier\n",
    "from sklearn.neural_network import MLPClassifier\n",
    "from sklearn.svm import SVC\n",
    "from sklearn.model_selection import GridSearchCV, cross_val_score, StratifiedKFold, learning_curve\n",
    "\n",
    "sns.set(style='white', context='notebook', palette='deep')"
   ]
  },
  {
   "cell_type": "code",
   "execution_count": 2,
   "id": "c846d1b7",
   "metadata": {
    "execution": {
     "iopub.execute_input": "2022-03-17T11:39:34.663505Z",
     "iopub.status.busy": "2022-03-17T11:39:34.662826Z",
     "iopub.status.idle": "2022-03-17T11:39:34.705589Z",
     "shell.execute_reply": "2022-03-17T11:39:34.706204Z",
     "shell.execute_reply.started": "2022-03-17T07:50:34.988883Z"
    },
    "papermill": {
     "duration": 0.126357,
     "end_time": "2022-03-17T11:39:34.706407",
     "exception": false,
     "start_time": "2022-03-17T11:39:34.580050",
     "status": "completed"
    },
    "tags": []
   },
   "outputs": [],
   "source": [
    "train = pd.read_csv('../input/titanic/train.csv')\n",
    "test = pd.read_csv('../input/titanic/test.csv')\n",
    "IDtest = test['PassengerId']"
   ]
  },
  {
   "cell_type": "markdown",
   "id": "37628445",
   "metadata": {
    "papermill": {
     "duration": 0.079221,
     "end_time": "2022-03-17T11:39:34.864694",
     "exception": false,
     "start_time": "2022-03-17T11:39:34.785473",
     "status": "completed"
    },
    "tags": []
   },
   "source": [
    "### outflier detection\n",
    "- 데이터 이상치 탐색\n",
    "- 나중에 공부 - 잘 모르겠다.  사후검증 / tukey method 공부 하기"
   ]
  },
  {
   "cell_type": "code",
   "execution_count": 3,
   "id": "dc7da4e5",
   "metadata": {
    "execution": {
     "iopub.execute_input": "2022-03-17T11:39:35.035818Z",
     "iopub.status.busy": "2022-03-17T11:39:35.034743Z",
     "iopub.status.idle": "2022-03-17T11:39:35.038096Z",
     "shell.execute_reply": "2022-03-17T11:39:35.038599Z",
     "shell.execute_reply.started": "2022-03-17T07:50:35.025928Z"
    },
    "papermill": {
     "duration": 0.096424,
     "end_time": "2022-03-17T11:39:35.038780",
     "exception": false,
     "start_time": "2022-03-17T11:39:34.942356",
     "status": "completed"
    },
    "tags": []
   },
   "outputs": [],
   "source": [
    "train_len = len(train) # 891\n",
    "dataset = pd.concat(objs = [train, test], axis = 0).reset_index(drop = True)\n",
    "# axis : 1이면 행을 좌우로 붙임, 0이면 상하로 붙임, concat : df들을 붙임\n",
    "# .reset_index : 인덱스를 새로 배열, 기존 인덱스는 새로운 feature가 됨\n",
    "# drop = True : 기존의 인덱스를 없애기"
   ]
  },
  {
   "cell_type": "markdown",
   "id": "c65aa4b7",
   "metadata": {
    "papermill": {
     "duration": 0.083219,
     "end_time": "2022-03-17T11:39:35.199875",
     "exception": false,
     "start_time": "2022-03-17T11:39:35.116656",
     "status": "completed"
    },
    "tags": []
   },
   "source": [
    "- axis : 1이면 행을 좌우로 붙임, 0이면 상하로 붙임, concat : df들을 붙임\n",
    "- .reset_index : 인덱스를 새로 배열, 기존 인덱스는 새로운 feature가 됨\n",
    "- drop = True : 기존의 인덱스를 없애기\n",
    "- 참조 :  https://koreadatascientist.tistory.com/14"
   ]
  },
  {
   "cell_type": "code",
   "execution_count": 4,
   "id": "eb60c080",
   "metadata": {
    "execution": {
     "iopub.execute_input": "2022-03-17T11:39:35.365156Z",
     "iopub.status.busy": "2022-03-17T11:39:35.363618Z",
     "iopub.status.idle": "2022-03-17T11:39:35.375988Z",
     "shell.execute_reply": "2022-03-17T11:39:35.375491Z",
     "shell.execute_reply.started": "2022-03-17T07:50:35.042959Z"
    },
    "papermill": {
     "duration": 0.095917,
     "end_time": "2022-03-17T11:39:35.376129",
     "exception": false,
     "start_time": "2022-03-17T11:39:35.280212",
     "status": "completed"
    },
    "tags": []
   },
   "outputs": [
    {
     "data": {
      "text/plain": [
       "PassengerId       0\n",
       "Survived        418\n",
       "Pclass            0\n",
       "Name              0\n",
       "Sex               0\n",
       "Age             263\n",
       "SibSp             0\n",
       "Parch             0\n",
       "Ticket            0\n",
       "Fare              1\n",
       "Cabin          1014\n",
       "Embarked          2\n",
       "dtype: int64"
      ]
     },
     "execution_count": 4,
     "metadata": {},
     "output_type": "execute_result"
    }
   ],
   "source": [
    "dataset = dataset.fillna(np.nan) # 결측치 채우기\n",
    "dataset.isnull().sum()"
   ]
  },
  {
   "cell_type": "code",
   "execution_count": 5,
   "id": "9c5634d5",
   "metadata": {
    "execution": {
     "iopub.execute_input": "2022-03-17T11:39:35.537214Z",
     "iopub.status.busy": "2022-03-17T11:39:35.536558Z",
     "iopub.status.idle": "2022-03-17T11:39:35.559379Z",
     "shell.execute_reply": "2022-03-17T11:39:35.559888Z",
     "shell.execute_reply.started": "2022-03-17T07:50:35.063224Z"
    },
    "papermill": {
     "duration": 0.104657,
     "end_time": "2022-03-17T11:39:35.560062",
     "exception": false,
     "start_time": "2022-03-17T11:39:35.455405",
     "status": "completed"
    },
    "tags": []
   },
   "outputs": [
    {
     "name": "stdout",
     "output_type": "stream",
     "text": [
      "<class 'pandas.core.frame.DataFrame'>\n",
      "RangeIndex: 418 entries, 0 to 417\n",
      "Data columns (total 11 columns):\n",
      " #   Column       Non-Null Count  Dtype  \n",
      "---  ------       --------------  -----  \n",
      " 0   PassengerId  418 non-null    int64  \n",
      " 1   Pclass       418 non-null    int64  \n",
      " 2   Name         418 non-null    object \n",
      " 3   Sex          418 non-null    object \n",
      " 4   Age          332 non-null    float64\n",
      " 5   SibSp        418 non-null    int64  \n",
      " 6   Parch        418 non-null    int64  \n",
      " 7   Ticket       418 non-null    object \n",
      " 8   Fare         417 non-null    float64\n",
      " 9   Cabin        91 non-null     object \n",
      " 10  Embarked     418 non-null    object \n",
      "dtypes: float64(2), int64(4), object(5)\n",
      "memory usage: 36.0+ KB\n"
     ]
    },
    {
     "data": {
      "text/plain": [
       "PassengerId      0\n",
       "Survived         0\n",
       "Pclass           0\n",
       "Name             0\n",
       "Sex              0\n",
       "Age            177\n",
       "SibSp            0\n",
       "Parch            0\n",
       "Ticket           0\n",
       "Fare             0\n",
       "Cabin          687\n",
       "Embarked         2\n",
       "dtype: int64"
      ]
     },
     "execution_count": 5,
     "metadata": {},
     "output_type": "execute_result"
    }
   ],
   "source": [
    "test.info()\n",
    "train.isnull().sum()"
   ]
  },
  {
   "cell_type": "code",
   "execution_count": 6,
   "id": "8d029f40",
   "metadata": {
    "execution": {
     "iopub.execute_input": "2022-03-17T11:39:35.723620Z",
     "iopub.status.busy": "2022-03-17T11:39:35.722896Z",
     "iopub.status.idle": "2022-03-17T11:39:35.742740Z",
     "shell.execute_reply": "2022-03-17T11:39:35.742221Z",
     "shell.execute_reply.started": "2022-03-17T07:50:35.085399Z"
    },
    "papermill": {
     "duration": 0.102553,
     "end_time": "2022-03-17T11:39:35.742885",
     "exception": false,
     "start_time": "2022-03-17T11:39:35.640332",
     "status": "completed"
    },
    "tags": []
   },
   "outputs": [
    {
     "data": {
      "text/html": [
       "<div>\n",
       "<style scoped>\n",
       "    .dataframe tbody tr th:only-of-type {\n",
       "        vertical-align: middle;\n",
       "    }\n",
       "\n",
       "    .dataframe tbody tr th {\n",
       "        vertical-align: top;\n",
       "    }\n",
       "\n",
       "    .dataframe thead th {\n",
       "        text-align: right;\n",
       "    }\n",
       "</style>\n",
       "<table border=\"1\" class=\"dataframe\">\n",
       "  <thead>\n",
       "    <tr style=\"text-align: right;\">\n",
       "      <th></th>\n",
       "      <th>PassengerId</th>\n",
       "      <th>Survived</th>\n",
       "      <th>Pclass</th>\n",
       "      <th>Name</th>\n",
       "      <th>Sex</th>\n",
       "      <th>Age</th>\n",
       "      <th>SibSp</th>\n",
       "      <th>Parch</th>\n",
       "      <th>Ticket</th>\n",
       "      <th>Fare</th>\n",
       "      <th>Cabin</th>\n",
       "      <th>Embarked</th>\n",
       "    </tr>\n",
       "  </thead>\n",
       "  <tbody>\n",
       "    <tr>\n",
       "      <th>0</th>\n",
       "      <td>1</td>\n",
       "      <td>0</td>\n",
       "      <td>3</td>\n",
       "      <td>Braund, Mr. Owen Harris</td>\n",
       "      <td>male</td>\n",
       "      <td>22.0</td>\n",
       "      <td>1</td>\n",
       "      <td>0</td>\n",
       "      <td>A/5 21171</td>\n",
       "      <td>7.2500</td>\n",
       "      <td>NaN</td>\n",
       "      <td>S</td>\n",
       "    </tr>\n",
       "    <tr>\n",
       "      <th>1</th>\n",
       "      <td>2</td>\n",
       "      <td>1</td>\n",
       "      <td>1</td>\n",
       "      <td>Cumings, Mrs. John Bradley (Florence Briggs Th...</td>\n",
       "      <td>female</td>\n",
       "      <td>38.0</td>\n",
       "      <td>1</td>\n",
       "      <td>0</td>\n",
       "      <td>PC 17599</td>\n",
       "      <td>71.2833</td>\n",
       "      <td>C85</td>\n",
       "      <td>C</td>\n",
       "    </tr>\n",
       "    <tr>\n",
       "      <th>2</th>\n",
       "      <td>3</td>\n",
       "      <td>1</td>\n",
       "      <td>3</td>\n",
       "      <td>Heikkinen, Miss. Laina</td>\n",
       "      <td>female</td>\n",
       "      <td>26.0</td>\n",
       "      <td>0</td>\n",
       "      <td>0</td>\n",
       "      <td>STON/O2. 3101282</td>\n",
       "      <td>7.9250</td>\n",
       "      <td>NaN</td>\n",
       "      <td>S</td>\n",
       "    </tr>\n",
       "    <tr>\n",
       "      <th>3</th>\n",
       "      <td>4</td>\n",
       "      <td>1</td>\n",
       "      <td>1</td>\n",
       "      <td>Futrelle, Mrs. Jacques Heath (Lily May Peel)</td>\n",
       "      <td>female</td>\n",
       "      <td>35.0</td>\n",
       "      <td>1</td>\n",
       "      <td>0</td>\n",
       "      <td>113803</td>\n",
       "      <td>53.1000</td>\n",
       "      <td>C123</td>\n",
       "      <td>S</td>\n",
       "    </tr>\n",
       "    <tr>\n",
       "      <th>4</th>\n",
       "      <td>5</td>\n",
       "      <td>0</td>\n",
       "      <td>3</td>\n",
       "      <td>Allen, Mr. William Henry</td>\n",
       "      <td>male</td>\n",
       "      <td>35.0</td>\n",
       "      <td>0</td>\n",
       "      <td>0</td>\n",
       "      <td>373450</td>\n",
       "      <td>8.0500</td>\n",
       "      <td>NaN</td>\n",
       "      <td>S</td>\n",
       "    </tr>\n",
       "  </tbody>\n",
       "</table>\n",
       "</div>"
      ],
      "text/plain": [
       "   PassengerId  Survived  Pclass  \\\n",
       "0            1         0       3   \n",
       "1            2         1       1   \n",
       "2            3         1       3   \n",
       "3            4         1       1   \n",
       "4            5         0       3   \n",
       "\n",
       "                                                Name     Sex   Age  SibSp  \\\n",
       "0                            Braund, Mr. Owen Harris    male  22.0      1   \n",
       "1  Cumings, Mrs. John Bradley (Florence Briggs Th...  female  38.0      1   \n",
       "2                             Heikkinen, Miss. Laina  female  26.0      0   \n",
       "3       Futrelle, Mrs. Jacques Heath (Lily May Peel)  female  35.0      1   \n",
       "4                           Allen, Mr. William Henry    male  35.0      0   \n",
       "\n",
       "   Parch            Ticket     Fare Cabin Embarked  \n",
       "0      0         A/5 21171   7.2500   NaN        S  \n",
       "1      0          PC 17599  71.2833   C85        C  \n",
       "2      0  STON/O2. 3101282   7.9250   NaN        S  \n",
       "3      0            113803  53.1000  C123        S  \n",
       "4      0            373450   8.0500   NaN        S  "
      ]
     },
     "execution_count": 6,
     "metadata": {},
     "output_type": "execute_result"
    }
   ],
   "source": [
    "train.head()"
   ]
  },
  {
   "cell_type": "code",
   "execution_count": 7,
   "id": "03d84526",
   "metadata": {
    "execution": {
     "iopub.execute_input": "2022-03-17T11:39:35.910283Z",
     "iopub.status.busy": "2022-03-17T11:39:35.909527Z",
     "iopub.status.idle": "2022-03-17T11:39:35.913309Z",
     "shell.execute_reply": "2022-03-17T11:39:35.913903Z",
     "shell.execute_reply.started": "2022-03-17T07:50:35.112144Z"
    },
    "papermill": {
     "duration": 0.090088,
     "end_time": "2022-03-17T11:39:35.914074",
     "exception": false,
     "start_time": "2022-03-17T11:39:35.823986",
     "status": "completed"
    },
    "tags": []
   },
   "outputs": [
    {
     "data": {
      "text/plain": [
       "PassengerId      int64\n",
       "Survived         int64\n",
       "Pclass           int64\n",
       "Name            object\n",
       "Sex             object\n",
       "Age            float64\n",
       "SibSp            int64\n",
       "Parch            int64\n",
       "Ticket          object\n",
       "Fare           float64\n",
       "Cabin           object\n",
       "Embarked        object\n",
       "dtype: object"
      ]
     },
     "execution_count": 7,
     "metadata": {},
     "output_type": "execute_result"
    }
   ],
   "source": [
    "train.dtypes"
   ]
  },
  {
   "cell_type": "code",
   "execution_count": 8,
   "id": "4d2a5ff7",
   "metadata": {
    "execution": {
     "iopub.execute_input": "2022-03-17T11:39:36.079781Z",
     "iopub.status.busy": "2022-03-17T11:39:36.079129Z",
     "iopub.status.idle": "2022-03-17T11:39:36.108683Z",
     "shell.execute_reply": "2022-03-17T11:39:36.109208Z",
     "shell.execute_reply.started": "2022-03-17T07:50:35.129922Z"
    },
    "papermill": {
     "duration": 0.114614,
     "end_time": "2022-03-17T11:39:36.109496",
     "exception": false,
     "start_time": "2022-03-17T11:39:35.994882",
     "status": "completed"
    },
    "tags": []
   },
   "outputs": [
    {
     "data": {
      "text/html": [
       "<div>\n",
       "<style scoped>\n",
       "    .dataframe tbody tr th:only-of-type {\n",
       "        vertical-align: middle;\n",
       "    }\n",
       "\n",
       "    .dataframe tbody tr th {\n",
       "        vertical-align: top;\n",
       "    }\n",
       "\n",
       "    .dataframe thead th {\n",
       "        text-align: right;\n",
       "    }\n",
       "</style>\n",
       "<table border=\"1\" class=\"dataframe\">\n",
       "  <thead>\n",
       "    <tr style=\"text-align: right;\">\n",
       "      <th></th>\n",
       "      <th>PassengerId</th>\n",
       "      <th>Survived</th>\n",
       "      <th>Pclass</th>\n",
       "      <th>Age</th>\n",
       "      <th>SibSp</th>\n",
       "      <th>Parch</th>\n",
       "      <th>Fare</th>\n",
       "    </tr>\n",
       "  </thead>\n",
       "  <tbody>\n",
       "    <tr>\n",
       "      <th>count</th>\n",
       "      <td>891.000000</td>\n",
       "      <td>891.000000</td>\n",
       "      <td>891.000000</td>\n",
       "      <td>714.000000</td>\n",
       "      <td>891.000000</td>\n",
       "      <td>891.000000</td>\n",
       "      <td>891.000000</td>\n",
       "    </tr>\n",
       "    <tr>\n",
       "      <th>mean</th>\n",
       "      <td>446.000000</td>\n",
       "      <td>0.383838</td>\n",
       "      <td>2.308642</td>\n",
       "      <td>29.699118</td>\n",
       "      <td>0.523008</td>\n",
       "      <td>0.381594</td>\n",
       "      <td>32.204208</td>\n",
       "    </tr>\n",
       "    <tr>\n",
       "      <th>std</th>\n",
       "      <td>257.353842</td>\n",
       "      <td>0.486592</td>\n",
       "      <td>0.836071</td>\n",
       "      <td>14.526497</td>\n",
       "      <td>1.102743</td>\n",
       "      <td>0.806057</td>\n",
       "      <td>49.693429</td>\n",
       "    </tr>\n",
       "    <tr>\n",
       "      <th>min</th>\n",
       "      <td>1.000000</td>\n",
       "      <td>0.000000</td>\n",
       "      <td>1.000000</td>\n",
       "      <td>0.420000</td>\n",
       "      <td>0.000000</td>\n",
       "      <td>0.000000</td>\n",
       "      <td>0.000000</td>\n",
       "    </tr>\n",
       "    <tr>\n",
       "      <th>25%</th>\n",
       "      <td>223.500000</td>\n",
       "      <td>0.000000</td>\n",
       "      <td>2.000000</td>\n",
       "      <td>20.125000</td>\n",
       "      <td>0.000000</td>\n",
       "      <td>0.000000</td>\n",
       "      <td>7.910400</td>\n",
       "    </tr>\n",
       "    <tr>\n",
       "      <th>50%</th>\n",
       "      <td>446.000000</td>\n",
       "      <td>0.000000</td>\n",
       "      <td>3.000000</td>\n",
       "      <td>28.000000</td>\n",
       "      <td>0.000000</td>\n",
       "      <td>0.000000</td>\n",
       "      <td>14.454200</td>\n",
       "    </tr>\n",
       "    <tr>\n",
       "      <th>75%</th>\n",
       "      <td>668.500000</td>\n",
       "      <td>1.000000</td>\n",
       "      <td>3.000000</td>\n",
       "      <td>38.000000</td>\n",
       "      <td>1.000000</td>\n",
       "      <td>0.000000</td>\n",
       "      <td>31.000000</td>\n",
       "    </tr>\n",
       "    <tr>\n",
       "      <th>max</th>\n",
       "      <td>891.000000</td>\n",
       "      <td>1.000000</td>\n",
       "      <td>3.000000</td>\n",
       "      <td>80.000000</td>\n",
       "      <td>8.000000</td>\n",
       "      <td>6.000000</td>\n",
       "      <td>512.329200</td>\n",
       "    </tr>\n",
       "  </tbody>\n",
       "</table>\n",
       "</div>"
      ],
      "text/plain": [
       "       PassengerId    Survived      Pclass         Age       SibSp  \\\n",
       "count   891.000000  891.000000  891.000000  714.000000  891.000000   \n",
       "mean    446.000000    0.383838    2.308642   29.699118    0.523008   \n",
       "std     257.353842    0.486592    0.836071   14.526497    1.102743   \n",
       "min       1.000000    0.000000    1.000000    0.420000    0.000000   \n",
       "25%     223.500000    0.000000    2.000000   20.125000    0.000000   \n",
       "50%     446.000000    0.000000    3.000000   28.000000    0.000000   \n",
       "75%     668.500000    1.000000    3.000000   38.000000    1.000000   \n",
       "max     891.000000    1.000000    3.000000   80.000000    8.000000   \n",
       "\n",
       "            Parch        Fare  \n",
       "count  891.000000  891.000000  \n",
       "mean     0.381594   32.204208  \n",
       "std      0.806057   49.693429  \n",
       "min      0.000000    0.000000  \n",
       "25%      0.000000    7.910400  \n",
       "50%      0.000000   14.454200  \n",
       "75%      0.000000   31.000000  \n",
       "max      6.000000  512.329200  "
      ]
     },
     "execution_count": 8,
     "metadata": {},
     "output_type": "execute_result"
    }
   ],
   "source": [
    "train.describe()"
   ]
  },
  {
   "cell_type": "code",
   "execution_count": 9,
   "id": "f2c85afc",
   "metadata": {
    "execution": {
     "iopub.execute_input": "2022-03-17T11:39:36.280934Z",
     "iopub.status.busy": "2022-03-17T11:39:36.278919Z",
     "iopub.status.idle": "2022-03-17T11:39:36.662266Z",
     "shell.execute_reply": "2022-03-17T11:39:36.662746Z",
     "shell.execute_reply.started": "2022-03-17T07:50:35.168076Z"
    },
    "papermill": {
     "duration": 0.471396,
     "end_time": "2022-03-17T11:39:36.662928",
     "exception": false,
     "start_time": "2022-03-17T11:39:36.191532",
     "status": "completed"
    },
    "tags": []
   },
   "outputs": [
    {
     "data": {
      "image/png": "[encoded data removed]",
      "text/plain": [
       "<Figure size 432x288 with 2 Axes>"
      ]
     },
     "metadata": {},
     "output_type": "display_data"
    }
   ],
   "source": [
    "g = sns.heatmap(train[['Survived', 'SibSp', 'Parch', 'Age','Fare']].corr(), annot = True, fmt = '.2f', cmap = 'coolwarm')"
   ]
  },
  {
   "cell_type": "markdown",
   "id": "b4b17858",
   "metadata": {
    "papermill": {
     "duration": 0.085084,
     "end_time": "2022-03-17T11:39:36.831567",
     "exception": false,
     "start_time": "2022-03-17T11:39:36.746483",
     "status": "completed"
    },
    "tags": []
   },
   "source": [
    "- Fare는 Survived와 큰 상관관계가 있고 다른 것들은 미미하다. 하지만 다른 것들도 아예 상관이 없는것은 아니기 때문에 신경써주어야 한다.\n",
    "### SibSp"
   ]
  },
  {
   "cell_type": "code",
   "execution_count": 10,
   "id": "49a03261",
   "metadata": {
    "execution": {
     "iopub.execute_input": "2022-03-17T11:39:37.003996Z",
     "iopub.status.busy": "2022-03-17T11:39:37.003340Z",
     "iopub.status.idle": "2022-03-17T11:39:37.629020Z",
     "shell.execute_reply": "2022-03-17T11:39:37.628021Z",
     "shell.execute_reply.started": "2022-03-17T07:50:35.539877Z"
    },
    "papermill": {
     "duration": 0.713619,
     "end_time": "2022-03-17T11:39:37.629220",
     "exception": false,
     "start_time": "2022-03-17T11:39:36.915601",
     "status": "completed"
    },
    "tags": []
   },
   "outputs": [
    {
     "data": {
      "image/png": "[encoded data removed]",
      "text/plain": [
       "<Figure size 432x432 with 1 Axes>"
      ]
     },
     "metadata": {},
     "output_type": "display_data"
    }
   ],
   "source": [
    "g = sns.factorplot(x='SibSp', y = 'Survived', data = train, kind = 'bar', size = 6, palette = 'muted')\n",
    "g.despine(left = True)\n",
    "g = g.set_ylabels('Survival probability')"
   ]
  },
  {
   "cell_type": "markdown",
   "id": "ffe46246",
   "metadata": {
    "papermill": {
     "duration": 0.082461,
     "end_time": "2022-03-17T11:39:37.798347",
     "exception": false,
     "start_time": "2022-03-17T11:39:37.715886",
     "status": "completed"
    },
    "tags": []
   },
   "source": [
    "- sibsp가 1~2 일 경우 3~4보다 더 생존가능성이 높다\n",
    "### Parch"
   ]
  },
  {
   "cell_type": "code",
   "execution_count": 11,
   "id": "6e720714",
   "metadata": {
    "execution": {
     "iopub.execute_input": "2022-03-17T11:39:37.967820Z",
     "iopub.status.busy": "2022-03-17T11:39:37.967123Z",
     "iopub.status.idle": "2022-03-17T11:39:38.542487Z",
     "shell.execute_reply": "2022-03-17T11:39:38.543062Z",
     "shell.execute_reply.started": "2022-03-17T07:50:36.116114Z"
    },
    "papermill": {
     "duration": 0.661569,
     "end_time": "2022-03-17T11:39:38.543256",
     "exception": false,
     "start_time": "2022-03-17T11:39:37.881687",
     "status": "completed"
    },
    "tags": []
   },
   "outputs": [
    {
     "data": {
      "image/png": "[encoded data removed]",
      "text/plain": [
       "<Figure size 432x432 with 1 Axes>"
      ]
     },
     "metadata": {},
     "output_type": "display_data"
    }
   ],
   "source": [
    "g = sns.factorplot(x=\"Parch\",y=\"Survived\",data = train, kind = 'bar', size = 6, palette = 'muted')\n",
    "g.despine(left=True) # y축 사라짐\n",
    "g = g.set_ylabels(\"survival probability\")"
   ]
  },
  {
   "cell_type": "markdown",
   "id": "3505e5c6",
   "metadata": {
    "papermill": {
     "duration": 0.084333,
     "end_time": "2022-03-17T11:39:38.713445",
     "exception": false,
     "start_time": "2022-03-17T11:39:38.629112",
     "status": "completed"
    },
    "tags": []
   },
   "source": [
    "### Age"
   ]
  },
  {
   "cell_type": "code",
   "execution_count": 12,
   "id": "90283761",
   "metadata": {
    "execution": {
     "iopub.execute_input": "2022-03-17T11:39:38.891428Z",
     "iopub.status.busy": "2022-03-17T11:39:38.890714Z",
     "iopub.status.idle": "2022-03-17T11:39:39.581282Z",
     "shell.execute_reply": "2022-03-17T11:39:39.580699Z",
     "shell.execute_reply.started": "2022-03-17T07:50:36.623261Z"
    },
    "papermill": {
     "duration": 0.781027,
     "end_time": "2022-03-17T11:39:39.581442",
     "exception": false,
     "start_time": "2022-03-17T11:39:38.800415",
     "status": "completed"
    },
    "tags": []
   },
   "outputs": [
    {
     "data": {
      "image/png": "[encoded data removed]",
      "text/plain": [
       "<Figure size 432x216 with 2 Axes>"
      ]
     },
     "metadata": {},
     "output_type": "display_data"
    }
   ],
   "source": [
    "g = sns.FacetGrid(train, col = 'Survived')\n",
    "g = g.map(sns.distplot, 'Age')"
   ]
  },
  {
   "cell_type": "markdown",
   "id": "10a9c587",
   "metadata": {
    "papermill": {
     "duration": 0.086371,
     "end_time": "2022-03-17T11:39:39.754428",
     "exception": false,
     "start_time": "2022-03-17T11:39:39.668057",
     "status": "completed"
    },
    "tags": []
   },
   "source": [
    "- 생존한 나이와 생존하지 못한 나이의 상관관계는 존재하지 않아 보인다. \n",
    "- 젊은 층이 가장 많이 산 동시에 가장 많이 죽었기 때문이다.\n",
    "- 하지만 나이와 생존의 상관관계가 없다고 할 지라도 더 많이 생존하거나 생존하지 못한 범주를 구할 수 있다.\n",
    "    - 예를 들어 어린 나이들은 더 생존할 가능성들이 있다."
   ]
  },
  {
   "cell_type": "code",
   "execution_count": 13,
   "id": "b8679a11",
   "metadata": {
    "execution": {
     "iopub.execute_input": "2022-03-17T11:39:39.956177Z",
     "iopub.status.busy": "2022-03-17T11:39:39.951861Z",
     "iopub.status.idle": "2022-03-17T11:39:40.239985Z",
     "shell.execute_reply": "2022-03-17T11:39:40.239428Z",
     "shell.execute_reply.started": "2022-03-17T07:50:37.254246Z"
    },
    "papermill": {
     "duration": 0.397925,
     "end_time": "2022-03-17T11:39:40.240162",
     "exception": false,
     "start_time": "2022-03-17T11:39:39.842237",
     "status": "completed"
    },
    "tags": []
   },
   "outputs": [
    {
     "data": {
      "image/png": "[encoded data removed]",
      "text/plain": [
       "<Figure size 432x288 with 1 Axes>"
      ]
     },
     "metadata": {},
     "output_type": "display_data"
    }
   ],
   "source": [
    "g= sns.kdeplot(train['Age'][(train['Survived']==0)& (train['Age'].notnull())], color = 'Red', shade = True)\n",
    "g = sns.kdeplot(train[\"Age\"][(train[\"Survived\"] == 1) & (train[\"Age\"].notnull())], ax =g, color=\"Blue\", shade= True)\n",
    "g.set_xlabel('Age')\n",
    "g.set_ylabel('Survived')\n",
    "g = g.legend(['Not Survived', 'Survived'])"
   ]
  },
  {
   "cell_type": "markdown",
   "id": "c9aa4140",
   "metadata": {
    "papermill": {
     "duration": 0.08616,
     "end_time": "2022-03-17T11:39:40.414103",
     "exception": false,
     "start_time": "2022-03-17T11:39:40.327943",
     "status": "completed"
    },
    "tags": []
   },
   "source": [
    "- 0~5 사이에 우리는 상관관계를 볼 수 있다.\n",
    "### Fare"
   ]
  },
  {
   "cell_type": "code",
   "execution_count": 14,
   "id": "47223a44",
   "metadata": {
    "execution": {
     "iopub.execute_input": "2022-03-17T11:39:40.591014Z",
     "iopub.status.busy": "2022-03-17T11:39:40.589985Z",
     "iopub.status.idle": "2022-03-17T11:39:40.596038Z",
     "shell.execute_reply": "2022-03-17T11:39:40.596542Z",
     "shell.execute_reply.started": "2022-03-17T07:50:37.524480Z"
    },
    "papermill": {
     "duration": 0.096116,
     "end_time": "2022-03-17T11:39:40.596711",
     "exception": false,
     "start_time": "2022-03-17T11:39:40.500595",
     "status": "completed"
    },
    "tags": []
   },
   "outputs": [
    {
     "data": {
      "text/plain": [
       "1"
      ]
     },
     "execution_count": 14,
     "metadata": {},
     "output_type": "execute_result"
    }
   ],
   "source": [
    "dataset['Fare'].isnull().sum()"
   ]
  },
  {
   "cell_type": "code",
   "execution_count": 15,
   "id": "48e58b94",
   "metadata": {
    "execution": {
     "iopub.execute_input": "2022-03-17T11:39:40.778609Z",
     "iopub.status.busy": "2022-03-17T11:39:40.777754Z",
     "iopub.status.idle": "2022-03-17T11:39:40.780471Z",
     "shell.execute_reply": "2022-03-17T11:39:40.779830Z",
     "shell.execute_reply.started": "2022-03-17T07:50:37.536074Z"
    },
    "papermill": {
     "duration": 0.096388,
     "end_time": "2022-03-17T11:39:40.780616",
     "exception": false,
     "start_time": "2022-03-17T11:39:40.684228",
     "status": "completed"
    },
    "tags": []
   },
   "outputs": [],
   "source": [
    "dataset['Fare'] = dataset['Fare'].fillna(dataset['Fare'].median())"
   ]
  },
  {
   "cell_type": "code",
   "execution_count": 16,
   "id": "8f2fd9c5",
   "metadata": {
    "execution": {
     "iopub.execute_input": "2022-03-17T11:39:40.962474Z",
     "iopub.status.busy": "2022-03-17T11:39:40.961697Z",
     "iopub.status.idle": "2022-03-17T11:39:41.385094Z",
     "shell.execute_reply": "2022-03-17T11:39:41.385615Z",
     "shell.execute_reply.started": "2022-03-17T07:50:37.552269Z"
    },
    "papermill": {
     "duration": 0.516124,
     "end_time": "2022-03-17T11:39:41.385788",
     "exception": false,
     "start_time": "2022-03-17T11:39:40.869664",
     "status": "completed"
    },
    "tags": []
   },
   "outputs": [
    {
     "data": {
      "image/png": "[encoded data removed]",
      "text/plain": [
       "<Figure size 432x288 with 1 Axes>"
      ]
     },
     "metadata": {},
     "output_type": "display_data"
    }
   ],
   "source": [
    "g = sns.distplot(dataset['Fare'], color = 'm',label = 'Skewness : &.2f' %(dataset['Fare'].skew()))\n",
    "g = g.legend(loc=\"best\")"
   ]
  },
  {
   "cell_type": "markdown",
   "id": "2471b8f9",
   "metadata": {
    "papermill": {
     "duration": 0.087872,
     "end_time": "2022-03-17T11:39:41.564345",
     "exception": false,
     "start_time": "2022-03-17T11:39:41.476473",
     "status": "completed"
    },
    "tags": []
   },
   "source": [
    "- skewed : 분포가 비대칭하다\n",
    "- fare분포는 매우 비대칭하다\n",
    "    - 그래서 log로 skwe를 감소시킨다"
   ]
  },
  {
   "cell_type": "code",
   "execution_count": 17,
   "id": "e543ef3e",
   "metadata": {
    "execution": {
     "iopub.execute_input": "2022-03-17T11:39:41.752171Z",
     "iopub.status.busy": "2022-03-17T11:39:41.751462Z",
     "iopub.status.idle": "2022-03-17T11:39:41.753587Z",
     "shell.execute_reply": "2022-03-17T11:39:41.754038Z",
     "shell.execute_reply.started": "2022-03-17T07:50:37.966215Z"
    },
    "papermill": {
     "duration": 0.10024,
     "end_time": "2022-03-17T11:39:41.754235",
     "exception": false,
     "start_time": "2022-03-17T11:39:41.653995",
     "status": "completed"
    },
    "tags": []
   },
   "outputs": [],
   "source": [
    "dataset['Fare'] = dataset['Fare'].map(lambda i : np.log(i) if i>0 else 0)"
   ]
  },
  {
   "cell_type": "code",
   "execution_count": 18,
   "id": "64bc6f75",
   "metadata": {
    "execution": {
     "iopub.execute_input": "2022-03-17T11:39:41.959652Z",
     "iopub.status.busy": "2022-03-17T11:39:41.958936Z",
     "iopub.status.idle": "2022-03-17T11:39:42.463815Z",
     "shell.execute_reply": "2022-03-17T11:39:42.463248Z",
     "shell.execute_reply.started": "2022-03-17T07:50:37.976872Z"
    },
    "papermill": {
     "duration": 0.615055,
     "end_time": "2022-03-17T11:39:42.463958",
     "exception": false,
     "start_time": "2022-03-17T11:39:41.848903",
     "status": "completed"
    },
    "tags": []
   },
   "outputs": [
    {
     "data": {
      "image/png": "[encoded data removed]",
      "text/plain": [
       "<Figure size 432x288 with 1 Axes>"
      ]
     },
     "metadata": {},
     "output_type": "display_data"
    }
   ],
   "source": [
    "g = sns.distplot(dataset[\"Fare\"], color=\"b\", label=\"Skewness : %.2f\"%(dataset[\"Fare\"].skew()))\n",
    "g = g.legend(loc=\"best\")"
   ]
  },
  {
   "cell_type": "markdown",
   "id": "0d16ee2d",
   "metadata": {
    "papermill": {
     "duration": 0.088345,
     "end_time": "2022-03-17T11:39:42.643260",
     "exception": false,
     "start_time": "2022-03-17T11:39:42.554915",
     "status": "completed"
    },
    "tags": []
   },
   "source": [
    "- skew가 어느정도 감소되었다\n",
    "###  Categorical values - Sex"
   ]
  },
  {
   "cell_type": "code",
   "execution_count": 19,
   "id": "443250f9",
   "metadata": {
    "execution": {
     "iopub.execute_input": "2022-03-17T11:39:42.826717Z",
     "iopub.status.busy": "2022-03-17T11:39:42.825736Z",
     "iopub.status.idle": "2022-03-17T11:39:43.098414Z",
     "shell.execute_reply": "2022-03-17T11:39:43.097855Z",
     "shell.execute_reply.started": "2022-03-17T07:50:38.335529Z"
    },
    "papermill": {
     "duration": 0.364619,
     "end_time": "2022-03-17T11:39:43.098560",
     "exception": false,
     "start_time": "2022-03-17T11:39:42.733941",
     "status": "completed"
    },
    "tags": []
   },
   "outputs": [
    {
     "data": {
      "image/png": "[encoded data removed]",
      "text/plain": [
       "<Figure size 432x288 with 1 Axes>"
      ]
     },
     "metadata": {},
     "output_type": "display_data"
    }
   ],
   "source": [
    "g = sns.barplot(x = 'Sex', y = 'Survived', data = train)\n",
    "g = g.set_ylabel('Survival Probability')"
   ]
  },
  {
   "cell_type": "code",
   "execution_count": 20,
   "id": "e61e48ef",
   "metadata": {
    "execution": {
     "iopub.execute_input": "2022-03-17T11:39:43.284522Z",
     "iopub.status.busy": "2022-03-17T11:39:43.283545Z",
     "iopub.status.idle": "2022-03-17T11:39:43.296059Z",
     "shell.execute_reply": "2022-03-17T11:39:43.296593Z",
     "shell.execute_reply.started": "2022-03-17T07:50:38.566662Z"
    },
    "papermill": {
     "duration": 0.106977,
     "end_time": "2022-03-17T11:39:43.296768",
     "exception": false,
     "start_time": "2022-03-17T11:39:43.189791",
     "status": "completed"
    },
    "tags": []
   },
   "outputs": [
    {
     "data": {
      "text/html": [
       "<div>\n",
       "<style scoped>\n",
       "    .dataframe tbody tr th:only-of-type {\n",
       "        vertical-align: middle;\n",
       "    }\n",
       "\n",
       "    .dataframe tbody tr th {\n",
       "        vertical-align: top;\n",
       "    }\n",
       "\n",
       "    .dataframe thead th {\n",
       "        text-align: right;\n",
       "    }\n",
       "</style>\n",
       "<table border=\"1\" class=\"dataframe\">\n",
       "  <thead>\n",
       "    <tr style=\"text-align: right;\">\n",
       "      <th></th>\n",
       "      <th>Survived</th>\n",
       "    </tr>\n",
       "    <tr>\n",
       "      <th>Sex</th>\n",
       "      <th></th>\n",
       "    </tr>\n",
       "  </thead>\n",
       "  <tbody>\n",
       "    <tr>\n",
       "      <th>female</th>\n",
       "      <td>0.742038</td>\n",
       "    </tr>\n",
       "    <tr>\n",
       "      <th>male</th>\n",
       "      <td>0.188908</td>\n",
       "    </tr>\n",
       "  </tbody>\n",
       "</table>\n",
       "</div>"
      ],
      "text/plain": [
       "        Survived\n",
       "Sex             \n",
       "female  0.742038\n",
       "male    0.188908"
      ]
     },
     "execution_count": 20,
     "metadata": {},
     "output_type": "execute_result"
    }
   ],
   "source": [
    "train[['Sex', 'Survived']].groupby('Sex').mean()"
   ]
  },
  {
   "cell_type": "markdown",
   "id": "5eaa30ed",
   "metadata": {
    "papermill": {
     "duration": 0.090237,
     "end_time": "2022-03-17T11:39:43.477348",
     "exception": false,
     "start_time": "2022-03-17T11:39:43.387111",
     "status": "completed"
    },
    "tags": []
   },
   "source": [
    "- 여성의 생존률이 남성보다 높다\n",
    "### Pclass"
   ]
  },
  {
   "cell_type": "code",
   "execution_count": 21,
   "id": "b2836770",
   "metadata": {
    "execution": {
     "iopub.execute_input": "2022-03-17T11:39:43.665064Z",
     "iopub.status.busy": "2022-03-17T11:39:43.664320Z",
     "iopub.status.idle": "2022-03-17T11:39:44.094246Z",
     "shell.execute_reply": "2022-03-17T11:39:44.093593Z",
     "shell.execute_reply.started": "2022-03-17T07:50:38.583882Z"
    },
    "papermill": {
     "duration": 0.526801,
     "end_time": "2022-03-17T11:39:44.094392",
     "exception": false,
     "start_time": "2022-03-17T11:39:43.567591",
     "status": "completed"
    },
    "tags": []
   },
   "outputs": [
    {
     "data": {
      "image/png": "[encoded data removed]",
      "text/plain": [
       "<Figure size 432x432 with 1 Axes>"
      ]
     },
     "metadata": {},
     "output_type": "display_data"
    }
   ],
   "source": [
    "g = sns.factorplot(x = 'Pclass', y = 'Survived', data = train, kind = 'bar', size = 6, palette = 'muted')\n",
    "g.despine(left = True)\n",
    "g = g.set_ylabels('Survival probability')"
   ]
  },
  {
   "cell_type": "code",
   "execution_count": 22,
   "id": "361cd729",
   "metadata": {
    "execution": {
     "iopub.execute_input": "2022-03-17T11:39:44.281050Z",
     "iopub.status.busy": "2022-03-17T11:39:44.280379Z",
     "iopub.status.idle": "2022-03-17T11:39:44.902348Z",
     "shell.execute_reply": "2022-03-17T11:39:44.901697Z",
     "shell.execute_reply.started": "2022-03-17T07:50:39.043188Z"
    },
    "papermill": {
     "duration": 0.71618,
     "end_time": "2022-03-17T11:39:44.902519",
     "exception": false,
     "start_time": "2022-03-17T11:39:44.186339",
     "status": "completed"
    },
    "tags": []
   },
   "outputs": [
    {
     "data": {
      "image/png": "[encoded data removed]",
      "text/plain": [
       "<Figure size 509.975x432 with 1 Axes>"
      ]
     },
     "metadata": {},
     "output_type": "display_data"
    }
   ],
   "source": [
    "# Explore Pclass vs Survived by Sex\n",
    "g = sns.factorplot(x=\"Pclass\", y=\"Survived\", hue=\"Sex\", data=train, size=6, kind=\"bar\", palette=\"muted\")\n",
    "g.despine(left=True)\n",
    "g = g.set_ylabels(\"survival probability\")"
   ]
  },
  {
   "cell_type": "markdown",
   "id": "a47f6412",
   "metadata": {
    "papermill": {
     "duration": 0.093364,
     "end_time": "2022-03-17T11:39:45.089411",
     "exception": false,
     "start_time": "2022-03-17T11:39:44.996047",
     "status": "completed"
    },
    "tags": []
   },
   "source": [
    "- 각 클래스별로 생존률이 다르다. 1>2>3의 순서로 생존률이 낮아지고 있다.\n",
    "### Embarked"
   ]
  },
  {
   "cell_type": "code",
   "execution_count": 23,
   "id": "04a3d2a3",
   "metadata": {
    "execution": {
     "iopub.execute_input": "2022-03-17T11:39:45.289046Z",
     "iopub.status.busy": "2022-03-17T11:39:45.288365Z",
     "iopub.status.idle": "2022-03-17T11:39:45.290999Z",
     "shell.execute_reply": "2022-03-17T11:39:45.291485Z",
     "shell.execute_reply.started": "2022-03-17T07:50:39.677365Z"
    },
    "papermill": {
     "duration": 0.107885,
     "end_time": "2022-03-17T11:39:45.291669",
     "exception": false,
     "start_time": "2022-03-17T11:39:45.183784",
     "status": "completed"
    },
    "tags": []
   },
   "outputs": [
    {
     "data": {
      "text/plain": [
       "2"
      ]
     },
     "execution_count": 23,
     "metadata": {},
     "output_type": "execute_result"
    }
   ],
   "source": [
    "dataset['Embarked'].isnull().sum()"
   ]
  },
  {
   "cell_type": "code",
   "execution_count": 24,
   "id": "e9ac3058",
   "metadata": {
    "execution": {
     "iopub.execute_input": "2022-03-17T11:39:45.482970Z",
     "iopub.status.busy": "2022-03-17T11:39:45.482340Z",
     "iopub.status.idle": "2022-03-17T11:39:45.486854Z",
     "shell.execute_reply": "2022-03-17T11:39:45.487381Z",
     "shell.execute_reply.started": "2022-03-17T07:50:39.688152Z"
    },
    "papermill": {
     "duration": 0.101253,
     "end_time": "2022-03-17T11:39:45.487550",
     "exception": false,
     "start_time": "2022-03-17T11:39:45.386297",
     "status": "completed"
    },
    "tags": []
   },
   "outputs": [],
   "source": [
    "dataset['Embarked'] = dataset['Embarked'].fillna('S')"
   ]
  },
  {
   "cell_type": "code",
   "execution_count": 25,
   "id": "0370fb6d",
   "metadata": {
    "execution": {
     "iopub.execute_input": "2022-03-17T11:39:45.678265Z",
     "iopub.status.busy": "2022-03-17T11:39:45.677575Z",
     "iopub.status.idle": "2022-03-17T11:39:46.108045Z",
     "shell.execute_reply": "2022-03-17T11:39:46.107325Z",
     "shell.execute_reply.started": "2022-03-17T07:50:39.703451Z"
    },
    "papermill": {
     "duration": 0.52734,
     "end_time": "2022-03-17T11:39:46.108229",
     "exception": false,
     "start_time": "2022-03-17T11:39:45.580889",
     "status": "completed"
    },
    "tags": []
   },
   "outputs": [
    {
     "data": {
      "text/plain": [
       "<seaborn.axisgrid.FacetGrid at 0x7f5555cfde50>"
      ]
     },
     "execution_count": 25,
     "metadata": {},
     "output_type": "execute_result"
    },
    {
     "data": {
      "image/png": "[encoded data removed]",
      "text/plain": [
       "<Figure size 432x432 with 1 Axes>"
      ]
     },
     "metadata": {},
     "output_type": "display_data"
    }
   ],
   "source": [
    "sns.factorplot('Embarked', 'Survived', data = train, size = 6, kind = 'bar', palette = 'muted')"
   ]
  },
  {
   "cell_type": "markdown",
   "id": "0bbb059c",
   "metadata": {
    "papermill": {
     "duration": 0.093969,
     "end_time": "2022-03-17T11:39:46.298058",
     "exception": false,
     "start_time": "2022-03-17T11:39:46.204089",
     "status": "completed"
    },
    "tags": []
   },
   "source": [
    "- C항구의 생존률이 가장 높다. 따라서 1Pclass사람들이 C에서 탑승했을 거라는 가설을 세울 수 있다."
   ]
  },
  {
   "cell_type": "code",
   "execution_count": 26,
   "id": "a6525676",
   "metadata": {
    "execution": {
     "iopub.execute_input": "2022-03-17T11:39:46.493630Z",
     "iopub.status.busy": "2022-03-17T11:39:46.492590Z",
     "iopub.status.idle": "2022-03-17T11:39:47.177503Z",
     "shell.execute_reply": "2022-03-17T11:39:47.176931Z",
     "shell.execute_reply.started": "2022-03-17T07:50:40.159015Z"
    },
    "papermill": {
     "duration": 0.784886,
     "end_time": "2022-03-17T11:39:47.177657",
     "exception": false,
     "start_time": "2022-03-17T11:39:46.392771",
     "status": "completed"
    },
    "tags": []
   },
   "outputs": [
    {
     "data": {
      "image/png": "[encoded data removed]",
      "text/plain": [
       "<Figure size 1296x432 with 3 Axes>"
      ]
     },
     "metadata": {},
     "output_type": "display_data"
    }
   ],
   "source": [
    "# 가설 증명해보기\n",
    "g = sns.factorplot('Pclass',col = 'Embarked' , data = train, kind = 'count', size = 6, palette = 'muted')\n",
    "g.despine(left = True)\n",
    "g =g.set_ylabels('Count')"
   ]
  },
  {
   "cell_type": "markdown",
   "id": "eaafced2",
   "metadata": {
    "papermill": {
     "duration": 0.095756,
     "end_time": "2022-03-17T11:39:47.369479",
     "exception": false,
     "start_time": "2022-03-17T11:39:47.273723",
     "status": "completed"
    },
    "tags": []
   },
   "source": [
    "- S 와 C의 항구에서 Pclass 1,2승객들이 많이 탑승했다. 하지만 1Pclas승객들은 S에서 가장 많이 탑승했다. "
   ]
  },
  {
   "cell_type": "markdown",
   "id": "05e75924",
   "metadata": {
    "papermill": {
     "duration": 0.09569,
     "end_time": "2022-03-17T11:39:47.562049",
     "exception": false,
     "start_time": "2022-03-17T11:39:47.466359",
     "status": "completed"
    },
    "tags": []
   },
   "source": [
    "## 결측치 채우기\n",
    "### Age\n",
    "- Age결측치는 25개이다. \n",
    "- Age결측치를 채우기 전에 Sex, Parch, Pcalss, SibSp들의 상관관계를 본다\n",
    "- factorplot은 범주형특징을 표현하기 위해 사용"
   ]
  },
  {
   "cell_type": "code",
   "execution_count": 27,
   "id": "3b36dcc8",
   "metadata": {
    "execution": {
     "iopub.execute_input": "2022-03-17T11:39:47.762592Z",
     "iopub.status.busy": "2022-03-17T11:39:47.756978Z",
     "iopub.status.idle": "2022-03-17T11:39:49.291328Z",
     "shell.execute_reply": "2022-03-17T11:39:49.290795Z",
     "shell.execute_reply.started": "2022-03-17T07:50:41.103590Z"
    },
    "papermill": {
     "duration": 1.633406,
     "end_time": "2022-03-17T11:39:49.291513",
     "exception": false,
     "start_time": "2022-03-17T11:39:47.658107",
     "status": "completed"
    },
    "tags": []
   },
   "outputs": [
    {
     "data": {
      "image/png": "[encoded data removed]",
      "text/plain": [
       "<Figure size 360x360 with 1 Axes>"
      ]
     },
     "metadata": {},
     "output_type": "display_data"
    },
    {
     "data": {
      "image/png": "[encoded data removed]",
      "text/plain": [
       "<Figure size 406.6x360 with 1 Axes>"
      ]
     },
     "metadata": {},
     "output_type": "display_data"
    },
    {
     "data": {
      "image/png": "[encoded data removed]",
      "text/plain": [
       "<Figure size 360x360 with 1 Axes>"
      ]
     },
     "metadata": {},
     "output_type": "display_data"
    },
    {
     "data": {
      "image/png": "[encoded data removed]",
      "text/plain": [
       "<Figure size 360x360 with 1 Axes>"
      ]
     },
     "metadata": {},
     "output_type": "display_data"
    }
   ],
   "source": [
    "g = sns.factorplot(y=\"Age\",x=\"Sex\",data=dataset,kind=\"box\")\n",
    "g = sns.factorplot(y=\"Age\",x=\"Sex\",hue=\"Pclass\", data=dataset,kind=\"box\")\n",
    "g = sns.factorplot(y=\"Age\",x=\"Parch\", data=dataset,kind=\"box\")\n",
    "g = sns.factorplot(y=\"Age\",x=\"SibSp\", data=dataset,kind=\"box\")"
   ]
  },
  {
   "cell_type": "code",
   "execution_count": 28,
   "id": "c555ee92",
   "metadata": {
    "execution": {
     "iopub.execute_input": "2022-03-17T11:39:49.498810Z",
     "iopub.status.busy": "2022-03-17T11:39:49.497788Z",
     "iopub.status.idle": "2022-03-17T11:39:49.501091Z",
     "shell.execute_reply": "2022-03-17T11:39:49.499923Z",
     "shell.execute_reply.started": "2022-03-17T07:50:42.978406Z"
    },
    "papermill": {
     "duration": 0.108732,
     "end_time": "2022-03-17T11:39:49.501260",
     "exception": false,
     "start_time": "2022-03-17T11:39:49.392528",
     "status": "completed"
    },
    "tags": []
   },
   "outputs": [],
   "source": [
    "dataset[\"Sex\"] = dataset[\"Sex\"].map({\"male\": 0, \"female\":1})"
   ]
  },
  {
   "cell_type": "code",
   "execution_count": 29,
   "id": "d1ba9090",
   "metadata": {
    "execution": {
     "iopub.execute_input": "2022-03-17T11:39:49.709082Z",
     "iopub.status.busy": "2022-03-17T11:39:49.708423Z",
     "iopub.status.idle": "2022-03-17T11:39:50.015644Z",
     "shell.execute_reply": "2022-03-17T11:39:50.016165Z",
     "shell.execute_reply.started": "2022-03-17T07:50:42.988215Z"
    },
    "papermill": {
     "duration": 0.415955,
     "end_time": "2022-03-17T11:39:50.016345",
     "exception": false,
     "start_time": "2022-03-17T11:39:49.600390",
     "status": "completed"
    },
    "tags": []
   },
   "outputs": [
    {
     "data": {
      "image/png": "[encoded data removed]",
      "text/plain": [
       "<Figure size 432x288 with 2 Axes>"
      ]
     },
     "metadata": {},
     "output_type": "display_data"
    }
   ],
   "source": [
    "g = sns.heatmap(dataset[['Age','Sex','SibSp','Parch','Pclass']].corr(),cmap='BrBG', annot = True)"
   ]
  },
  {
   "cell_type": "code",
   "execution_count": 30,
   "id": "94f904fc",
   "metadata": {
    "execution": {
     "iopub.execute_input": "2022-03-17T11:39:50.225351Z",
     "iopub.status.busy": "2022-03-17T11:39:50.224350Z",
     "iopub.status.idle": "2022-03-17T11:39:50.240101Z",
     "shell.execute_reply": "2022-03-17T11:39:50.240613Z",
     "shell.execute_reply.started": "2022-03-17T07:50:43.362625Z"
    },
    "papermill": {
     "duration": 0.121332,
     "end_time": "2022-03-17T11:39:50.240787",
     "exception": false,
     "start_time": "2022-03-17T11:39:50.119455",
     "status": "completed"
    },
    "tags": []
   },
   "outputs": [
    {
     "data": {
      "text/html": [
       "<div>\n",
       "<style scoped>\n",
       "    .dataframe tbody tr th:only-of-type {\n",
       "        vertical-align: middle;\n",
       "    }\n",
       "\n",
       "    .dataframe tbody tr th {\n",
       "        vertical-align: top;\n",
       "    }\n",
       "\n",
       "    .dataframe thead th {\n",
       "        text-align: right;\n",
       "    }\n",
       "</style>\n",
       "<table border=\"1\" class=\"dataframe\">\n",
       "  <thead>\n",
       "    <tr style=\"text-align: right;\">\n",
       "      <th></th>\n",
       "      <th>PassengerId</th>\n",
       "      <th>Survived</th>\n",
       "      <th>Pclass</th>\n",
       "      <th>Name</th>\n",
       "      <th>Sex</th>\n",
       "      <th>Age</th>\n",
       "      <th>SibSp</th>\n",
       "      <th>Parch</th>\n",
       "      <th>Ticket</th>\n",
       "      <th>Fare</th>\n",
       "      <th>Cabin</th>\n",
       "      <th>Embarked</th>\n",
       "    </tr>\n",
       "  </thead>\n",
       "  <tbody>\n",
       "    <tr>\n",
       "      <th>0</th>\n",
       "      <td>1</td>\n",
       "      <td>0.0</td>\n",
       "      <td>3</td>\n",
       "      <td>Braund, Mr. Owen Harris</td>\n",
       "      <td>0</td>\n",
       "      <td>22.0</td>\n",
       "      <td>1</td>\n",
       "      <td>0</td>\n",
       "      <td>A/5 21171</td>\n",
       "      <td>1.981001</td>\n",
       "      <td>NaN</td>\n",
       "      <td>S</td>\n",
       "    </tr>\n",
       "    <tr>\n",
       "      <th>1</th>\n",
       "      <td>2</td>\n",
       "      <td>1.0</td>\n",
       "      <td>1</td>\n",
       "      <td>Cumings, Mrs. John Bradley (Florence Briggs Th...</td>\n",
       "      <td>1</td>\n",
       "      <td>38.0</td>\n",
       "      <td>1</td>\n",
       "      <td>0</td>\n",
       "      <td>PC 17599</td>\n",
       "      <td>4.266662</td>\n",
       "      <td>C85</td>\n",
       "      <td>C</td>\n",
       "    </tr>\n",
       "    <tr>\n",
       "      <th>2</th>\n",
       "      <td>3</td>\n",
       "      <td>1.0</td>\n",
       "      <td>3</td>\n",
       "      <td>Heikkinen, Miss. Laina</td>\n",
       "      <td>1</td>\n",
       "      <td>26.0</td>\n",
       "      <td>0</td>\n",
       "      <td>0</td>\n",
       "      <td>STON/O2. 3101282</td>\n",
       "      <td>2.070022</td>\n",
       "      <td>NaN</td>\n",
       "      <td>S</td>\n",
       "    </tr>\n",
       "    <tr>\n",
       "      <th>3</th>\n",
       "      <td>4</td>\n",
       "      <td>1.0</td>\n",
       "      <td>1</td>\n",
       "      <td>Futrelle, Mrs. Jacques Heath (Lily May Peel)</td>\n",
       "      <td>1</td>\n",
       "      <td>35.0</td>\n",
       "      <td>1</td>\n",
       "      <td>0</td>\n",
       "      <td>113803</td>\n",
       "      <td>3.972177</td>\n",
       "      <td>C123</td>\n",
       "      <td>S</td>\n",
       "    </tr>\n",
       "    <tr>\n",
       "      <th>4</th>\n",
       "      <td>5</td>\n",
       "      <td>0.0</td>\n",
       "      <td>3</td>\n",
       "      <td>Allen, Mr. William Henry</td>\n",
       "      <td>0</td>\n",
       "      <td>35.0</td>\n",
       "      <td>0</td>\n",
       "      <td>0</td>\n",
       "      <td>373450</td>\n",
       "      <td>2.085672</td>\n",
       "      <td>NaN</td>\n",
       "      <td>S</td>\n",
       "    </tr>\n",
       "  </tbody>\n",
       "</table>\n",
       "</div>"
      ],
      "text/plain": [
       "   PassengerId  Survived  Pclass  \\\n",
       "0            1       0.0       3   \n",
       "1            2       1.0       1   \n",
       "2            3       1.0       3   \n",
       "3            4       1.0       1   \n",
       "4            5       0.0       3   \n",
       "\n",
       "                                                Name  Sex   Age  SibSp  Parch  \\\n",
       "0                            Braund, Mr. Owen Harris    0  22.0      1      0   \n",
       "1  Cumings, Mrs. John Bradley (Florence Briggs Th...    1  38.0      1      0   \n",
       "2                             Heikkinen, Miss. Laina    1  26.0      0      0   \n",
       "3       Futrelle, Mrs. Jacques Heath (Lily May Peel)    1  35.0      1      0   \n",
       "4                           Allen, Mr. William Henry    0  35.0      0      0   \n",
       "\n",
       "             Ticket      Fare Cabin Embarked  \n",
       "0         A/5 21171  1.981001   NaN        S  \n",
       "1          PC 17599  4.266662   C85        C  \n",
       "2  STON/O2. 3101282  2.070022   NaN        S  \n",
       "3            113803  3.972177  C123        S  \n",
       "4            373450  2.085672   NaN        S  "
      ]
     },
     "execution_count": 30,
     "metadata": {},
     "output_type": "execute_result"
    }
   ],
   "source": [
    "dataset.head()"
   ]
  },
  {
   "cell_type": "code",
   "execution_count": 31,
   "id": "8c482afb",
   "metadata": {
    "execution": {
     "iopub.execute_input": "2022-03-17T11:39:50.447581Z",
     "iopub.status.busy": "2022-03-17T11:39:50.446577Z",
     "iopub.status.idle": "2022-03-17T11:39:50.905396Z",
     "shell.execute_reply": "2022-03-17T11:39:50.905884Z",
     "shell.execute_reply.started": "2022-03-17T07:50:43.389705Z"
    },
    "papermill": {
     "duration": 0.564053,
     "end_time": "2022-03-17T11:39:50.906132",
     "exception": false,
     "start_time": "2022-03-17T11:39:50.342079",
     "status": "completed"
    },
    "tags": []
   },
   "outputs": [],
   "source": [
    "index_NaN_age = list(dataset['Age'][dataset['Age'].isnull()].index) # age nulldata 추출\n",
    "\n",
    "for i in index_NaN_age :\n",
    "    age_med = dataset[\"Age\"].median()\n",
    "    age_pred = dataset[\"Age\"][((dataset['SibSp'] == dataset.iloc[i][\"SibSp\"]) & (dataset['Parch'] == dataset.iloc[i][\"Parch\"]) & (dataset['Pclass'] == dataset.iloc[i][\"Pclass\"]))].median()\n",
    "    if not np.isnan(age_pred) :\n",
    "        dataset['Age'].iloc[i] = age_pred\n",
    "    else :\n",
    "        dataset['Age'].iloc[i] = age_med\n",
    "# isnan : NaN 데이터면 True를 반환\n",
    "# age의 null data행의 Sibsp, parch, pclass가 같은 age의 평균을 집어넣는다. "
   ]
  },
  {
   "cell_type": "code",
   "execution_count": 32,
   "id": "8e541894",
   "metadata": {
    "execution": {
     "iopub.execute_input": "2022-03-17T11:39:51.112202Z",
     "iopub.status.busy": "2022-03-17T11:39:51.111197Z",
     "iopub.status.idle": "2022-03-17T11:39:51.701498Z",
     "shell.execute_reply": "2022-03-17T11:39:51.702265Z",
     "shell.execute_reply.started": "2022-03-17T07:50:43.872421Z"
    },
    "papermill": {
     "duration": 0.695618,
     "end_time": "2022-03-17T11:39:51.702518",
     "exception": false,
     "start_time": "2022-03-17T11:39:51.006900",
     "status": "completed"
    },
    "tags": []
   },
   "outputs": [
    {
     "data": {
      "image/png": "[encoded data removed]",
      "text/plain": [
       "<Figure size 360x360 with 1 Axes>"
      ]
     },
     "metadata": {},
     "output_type": "display_data"
    },
    {
     "data": {
      "image/png": "[encoded data removed]",
      "text/plain": [
       "<Figure size 360x360 with 1 Axes>"
      ]
     },
     "metadata": {},
     "output_type": "display_data"
    }
   ],
   "source": [
    "g = sns.factorplot('Survived', 'Age', data = train, kind = 'box')\n",
    "g = sns.factorplot('Survived', 'Age', data = train, kind = 'violin')"
   ]
  },
  {
   "cell_type": "markdown",
   "id": "b0da122c",
   "metadata": {
    "papermill": {
     "duration": 0.106413,
     "end_time": "2022-03-17T11:39:51.925277",
     "exception": false,
     "start_time": "2022-03-17T11:39:51.818864",
     "status": "completed"
    },
    "tags": []
   },
   "source": [
    "## Feature engineering"
   ]
  },
  {
   "cell_type": "code",
   "execution_count": 33,
   "id": "2217dadb",
   "metadata": {
    "execution": {
     "iopub.execute_input": "2022-03-17T11:39:52.136444Z",
     "iopub.status.busy": "2022-03-17T11:39:52.135744Z",
     "iopub.status.idle": "2022-03-17T11:39:52.144935Z",
     "shell.execute_reply": "2022-03-17T11:39:52.144334Z",
     "shell.execute_reply.started": "2022-03-17T07:50:44.567417Z"
    },
    "papermill": {
     "duration": 0.116321,
     "end_time": "2022-03-17T11:39:52.145075",
     "exception": false,
     "start_time": "2022-03-17T11:39:52.028754",
     "status": "completed"
    },
    "tags": []
   },
   "outputs": [
    {
     "data": {
      "text/plain": [
       "0                              Braund, Mr. Owen Harris\n",
       "1    Cumings, Mrs. John Bradley (Florence Briggs Th...\n",
       "2                               Heikkinen, Miss. Laina\n",
       "3         Futrelle, Mrs. Jacques Heath (Lily May Peel)\n",
       "4                             Allen, Mr. William Henry\n",
       "Name: Name, dtype: object"
      ]
     },
     "execution_count": 33,
     "metadata": {},
     "output_type": "execute_result"
    }
   ],
   "source": [
    "dataset['Name'].head()"
   ]
  },
  {
   "cell_type": "code",
   "execution_count": 34,
   "id": "5541931b",
   "metadata": {
    "execution": {
     "iopub.execute_input": "2022-03-17T11:39:52.359395Z",
     "iopub.status.busy": "2022-03-17T11:39:52.358667Z",
     "iopub.status.idle": "2022-03-17T11:39:52.366606Z",
     "shell.execute_reply": "2022-03-17T11:39:52.366034Z",
     "shell.execute_reply.started": "2022-03-17T07:50:44.577396Z"
    },
    "papermill": {
     "duration": 0.117736,
     "end_time": "2022-03-17T11:39:52.366747",
     "exception": false,
     "start_time": "2022-03-17T11:39:52.249011",
     "status": "completed"
    },
    "tags": []
   },
   "outputs": [
    {
     "data": {
      "text/plain": [
       "0      Mr\n",
       "1     Mrs\n",
       "2    Miss\n",
       "3     Mrs\n",
       "4      Mr\n",
       "Name: Title, dtype: object"
      ]
     },
     "execution_count": 34,
     "metadata": {},
     "output_type": "execute_result"
    }
   ],
   "source": [
    "dataset_title = [i.split(',')[1].split('.')[0].strip() for i in dataset['Name']]\n",
    "dataset['Title'] = pd.Series(dataset_title)\n",
    "dataset['Title'].head()"
   ]
  },
  {
   "cell_type": "code",
   "execution_count": 35,
   "id": "c273587b",
   "metadata": {
    "execution": {
     "iopub.execute_input": "2022-03-17T11:39:52.583577Z",
     "iopub.status.busy": "2022-03-17T11:39:52.582622Z",
     "iopub.status.idle": "2022-03-17T11:39:52.974848Z",
     "shell.execute_reply": "2022-03-17T11:39:52.974232Z",
     "shell.execute_reply.started": "2022-03-17T07:50:44.596997Z"
    },
    "papermill": {
     "duration": 0.503063,
     "end_time": "2022-03-17T11:39:52.974997",
     "exception": false,
     "start_time": "2022-03-17T11:39:52.471934",
     "status": "completed"
    },
    "tags": []
   },
   "outputs": [
    {
     "data": {
      "image/png": "[encoded data removed]",
      "text/plain": [
       "<Figure size 432x288 with 1 Axes>"
      ]
     },
     "metadata": {},
     "output_type": "display_data"
    }
   ],
   "source": [
    "g = sns.countplot('Title', data = dataset)\n",
    "g = plt.setp(g.get_xticklabels(), rotation=45)"
   ]
  },
  {
   "cell_type": "code",
   "execution_count": 36,
   "id": "bdae19c8",
   "metadata": {
    "execution": {
     "iopub.execute_input": "2022-03-17T11:39:53.192015Z",
     "iopub.status.busy": "2022-03-17T11:39:53.191299Z",
     "iopub.status.idle": "2022-03-17T11:39:53.201187Z",
     "shell.execute_reply": "2022-03-17T11:39:53.201720Z",
     "shell.execute_reply.started": "2022-03-17T07:50:44.979077Z"
    },
    "papermill": {
     "duration": 0.117983,
     "end_time": "2022-03-17T11:39:53.201893",
     "exception": false,
     "start_time": "2022-03-17T11:39:53.083910",
     "status": "completed"
    },
    "tags": []
   },
   "outputs": [],
   "source": [
    "dataset[\"Title\"] = dataset[\"Title\"].replace(['Lady', 'the Countess','Countess','Capt', 'Col','Don', 'Dr', 'Major', 'Rev', 'Sir', 'Jonkheer', 'Dona'], 'Rare')\n",
    "dataset[\"Title\"] = dataset[\"Title\"].map({\"Master\":0, \"Miss\":1, \"Ms\" : 1 , \"Mme\":1, \"Mlle\":1, \"Mrs\":1, \"Mr\":2, \"Rare\":3})\n",
    "dataset[\"Title\"] = dataset[\"Title\"].astype(int)"
   ]
  },
  {
   "cell_type": "code",
   "execution_count": 37,
   "id": "74045d45",
   "metadata": {
    "execution": {
     "iopub.execute_input": "2022-03-17T11:39:53.417005Z",
     "iopub.status.busy": "2022-03-17T11:39:53.416327Z",
     "iopub.status.idle": "2022-03-17T11:39:53.799213Z",
     "shell.execute_reply": "2022-03-17T11:39:53.798547Z",
     "shell.execute_reply.started": "2022-03-17T07:50:44.993498Z"
    },
    "papermill": {
     "duration": 0.4903,
     "end_time": "2022-03-17T11:39:53.799370",
     "exception": false,
     "start_time": "2022-03-17T11:39:53.309070",
     "status": "completed"
    },
    "tags": []
   },
   "outputs": [
    {
     "data": {
      "image/png": "[encoded data removed]",
      "text/plain": [
       "<Figure size 432x288 with 1 Axes>"
      ]
     },
     "metadata": {},
     "output_type": "display_data"
    }
   ],
   "source": [
    "g = sns.countplot(dataset['Title'])\n",
    "g = g.set_xticklabels([\"Master\",\"Miss/Ms/Mme/Mlle/Mrs\",\"Mr\",\"Rare\"])"
   ]
  },
  {
   "cell_type": "code",
   "execution_count": 38,
   "id": "d97e898e",
   "metadata": {
    "execution": {
     "iopub.execute_input": "2022-03-17T11:39:54.019594Z",
     "iopub.status.busy": "2022-03-17T11:39:54.018833Z",
     "iopub.status.idle": "2022-03-17T11:39:54.494773Z",
     "shell.execute_reply": "2022-03-17T11:39:54.494257Z",
     "shell.execute_reply.started": "2022-03-17T07:50:45.214764Z"
    },
    "papermill": {
     "duration": 0.589198,
     "end_time": "2022-03-17T11:39:54.495055",
     "exception": false,
     "start_time": "2022-03-17T11:39:53.905857",
     "status": "completed"
    },
    "tags": []
   },
   "outputs": [
    {
     "data": {
      "image/png": "[encoded data removed]",
      "text/plain": [
       "<Figure size 360x360 with 1 Axes>"
      ]
     },
     "metadata": {},
     "output_type": "display_data"
    }
   ],
   "source": [
    "g = sns.factorplot(\"Title\",\"Survived\",data=dataset,kind=\"bar\")\n",
    "g = g.set_xticklabels([\"Master\",\"Miss-Mrs\",\"Mr\",\"Rare\"])\n",
    "g = g.set_ylabels(\"survival probability\")"
   ]
  },
  {
   "cell_type": "markdown",
   "id": "1dec0d37",
   "metadata": {
    "papermill": {
     "duration": 0.106677,
     "end_time": "2022-03-17T11:39:54.710674",
     "exception": false,
     "start_time": "2022-03-17T11:39:54.603997",
     "status": "completed"
    },
    "tags": []
   },
   "source": [
    "- 여성과 아이들이 우선이라는 것을 볼 수 있고,희귀한 이름들이 생존가능성이 남성보다많다"
   ]
  },
  {
   "cell_type": "code",
   "execution_count": 39,
   "id": "de5f97cb",
   "metadata": {
    "execution": {
     "iopub.execute_input": "2022-03-17T11:39:54.930641Z",
     "iopub.status.busy": "2022-03-17T11:39:54.929560Z",
     "iopub.status.idle": "2022-03-17T11:39:54.931595Z",
     "shell.execute_reply": "2022-03-17T11:39:54.932079Z",
     "shell.execute_reply.started": "2022-03-17T07:50:45.702152Z"
    },
    "papermill": {
     "duration": 0.115498,
     "end_time": "2022-03-17T11:39:54.932300",
     "exception": false,
     "start_time": "2022-03-17T11:39:54.816802",
     "status": "completed"
    },
    "tags": []
   },
   "outputs": [],
   "source": [
    "dataset.drop(labels = ['Name'], axis = 1, inplace = True)"
   ]
  },
  {
   "cell_type": "markdown",
   "id": "e384ec89",
   "metadata": {
    "papermill": {
     "duration": 0.107346,
     "end_time": "2022-03-17T11:39:55.147860",
     "exception": false,
     "start_time": "2022-03-17T11:39:55.040514",
     "status": "completed"
    },
    "tags": []
   },
   "source": [
    "- Family Size"
   ]
  },
  {
   "cell_type": "code",
   "execution_count": 40,
   "id": "771dcce7",
   "metadata": {
    "execution": {
     "iopub.execute_input": "2022-03-17T11:39:55.375702Z",
     "iopub.status.busy": "2022-03-17T11:39:55.374856Z",
     "iopub.status.idle": "2022-03-17T11:39:55.377221Z",
     "shell.execute_reply": "2022-03-17T11:39:55.376660Z",
     "shell.execute_reply.started": "2022-03-17T07:50:45.713433Z"
    },
    "papermill": {
     "duration": 0.11786,
     "end_time": "2022-03-17T11:39:55.377382",
     "exception": false,
     "start_time": "2022-03-17T11:39:55.259522",
     "status": "completed"
    },
    "tags": []
   },
   "outputs": [],
   "source": [
    "dataset[\"Fsize\"] = dataset[\"SibSp\"] + dataset[\"Parch\"] + 1"
   ]
  },
  {
   "cell_type": "code",
   "execution_count": 41,
   "id": "3fd5ead7",
   "metadata": {
    "execution": {
     "iopub.execute_input": "2022-03-17T11:39:55.597333Z",
     "iopub.status.busy": "2022-03-17T11:39:55.596662Z",
     "iopub.status.idle": "2022-03-17T11:39:56.275724Z",
     "shell.execute_reply": "2022-03-17T11:39:56.276260Z",
     "shell.execute_reply.started": "2022-03-17T07:50:45.730766Z"
    },
    "papermill": {
     "duration": 0.790934,
     "end_time": "2022-03-17T11:39:56.276455",
     "exception": false,
     "start_time": "2022-03-17T11:39:55.485521",
     "status": "completed"
    },
    "tags": []
   },
   "outputs": [
    {
     "data": {
      "image/png": "[encoded data removed]",
      "text/plain": [
       "<Figure size 360x360 with 1 Axes>"
      ]
     },
     "metadata": {},
     "output_type": "display_data"
    }
   ],
   "source": [
    "g = sns.factorplot('Fsize', 'Survived', data = dataset)"
   ]
  },
  {
   "cell_type": "code",
   "execution_count": 42,
   "id": "cfe97674",
   "metadata": {
    "execution": {
     "iopub.execute_input": "2022-03-17T11:39:56.497715Z",
     "iopub.status.busy": "2022-03-17T11:39:56.496769Z",
     "iopub.status.idle": "2022-03-17T11:39:56.508603Z",
     "shell.execute_reply": "2022-03-17T11:39:56.509102Z",
     "shell.execute_reply.started": "2022-03-17T07:50:46.438876Z"
    },
    "papermill": {
     "duration": 0.124173,
     "end_time": "2022-03-17T11:39:56.509288",
     "exception": false,
     "start_time": "2022-03-17T11:39:56.385115",
     "status": "completed"
    },
    "tags": []
   },
   "outputs": [],
   "source": [
    "dataset['Single'] = dataset['Fsize'].map(lambda s:1 if s == 1 else 0)\n",
    "dataset['SmallF'] = dataset['Fsize'].map(lambda s: 1 if  s == 2  else 0)\n",
    "dataset['MedF'] = dataset['Fsize'].map(lambda s: 1 if 3 <= s <= 4 else 0)\n",
    "dataset['LargeF'] = dataset['Fsize'].map(lambda s: 1 if s >= 5 else 0)"
   ]
  },
  {
   "cell_type": "code",
   "execution_count": 43,
   "id": "b618497d",
   "metadata": {
    "execution": {
     "iopub.execute_input": "2022-03-17T11:39:56.730774Z",
     "iopub.status.busy": "2022-03-17T11:39:56.729780Z",
     "iopub.status.idle": "2022-03-17T11:39:58.224957Z",
     "shell.execute_reply": "2022-03-17T11:39:58.224422Z",
     "shell.execute_reply.started": "2022-03-17T07:50:46.454662Z"
    },
    "papermill": {
     "duration": 1.607117,
     "end_time": "2022-03-17T11:39:58.225112",
     "exception": false,
     "start_time": "2022-03-17T11:39:56.617995",
     "status": "completed"
    },
    "tags": []
   },
   "outputs": [
    {
     "data": {
      "image/png": "[encoded data removed]",
      "text/plain": [
       "<Figure size 360x360 with 1 Axes>"
      ]
     },
     "metadata": {},
     "output_type": "display_data"
    },
    {
     "data": {
      "image/png": "[encoded data removed]",
      "text/plain": [
       "<Figure size 360x360 with 1 Axes>"
      ]
     },
     "metadata": {},
     "output_type": "display_data"
    },
    {
     "data": {
      "image/png": "[encoded data removed]",
      "text/plain": [
       "<Figure size 360x360 with 1 Axes>"
      ]
     },
     "metadata": {},
     "output_type": "display_data"
    },
    {
     "data": {
      "image/png": "[encoded data removed]",
      "text/plain": [
       "<Figure size 360x360 with 1 Axes>"
      ]
     },
     "metadata": {},
     "output_type": "display_data"
    }
   ],
   "source": [
    "g = sns.factorplot('Single', 'Survived', data = dataset, kind = 'bar')\n",
    "g = g.set_ylabels(\"Survival Probability\")\n",
    "g = sns.factorplot(x=\"SmallF\",y=\"Survived\",data=dataset,kind=\"bar\")\n",
    "g = g.set_ylabels(\"Survival Probability\")\n",
    "g = sns.factorplot(x=\"MedF\",y=\"Survived\",data=dataset,kind=\"bar\")\n",
    "g = g.set_ylabels(\"Survival Probability\")\n",
    "g = sns.factorplot(x=\"LargeF\",y=\"Survived\",data=dataset,kind=\"bar\")\n",
    "g = g.set_ylabels(\"Survival Probability\")"
   ]
  },
  {
   "cell_type": "markdown",
   "id": "e609d080",
   "metadata": {
    "papermill": {
     "duration": 0.110848,
     "end_time": "2022-03-17T11:39:58.448731",
     "exception": false,
     "start_time": "2022-03-17T11:39:58.337883",
     "status": "completed"
    },
    "tags": []
   },
   "source": [
    "- small과 medf는 생존가능성이 더 있다\n",
    "- get_dummies : 데이터들을 수치로 바꾸어주는 역할을 한다. (월,화,수 => 1,2,3)\n",
    "    - 숫자로 바뀌면 서로 관계성이 생기지만 (1+2=3) 실제로는 생기지 않기 때문에(월+화 =수 라는 공식이 생기지 않음) dummies함수를 사용해서 독립성을 지켜야 한다.\n",
    "    - https://devuna.tistory.com/67"
   ]
  },
  {
   "cell_type": "code",
   "execution_count": 44,
   "id": "54479f1d",
   "metadata": {
    "execution": {
     "iopub.execute_input": "2022-03-17T11:39:58.682488Z",
     "iopub.status.busy": "2022-03-17T11:39:58.681777Z",
     "iopub.status.idle": "2022-03-17T11:39:58.694224Z",
     "shell.execute_reply": "2022-03-17T11:39:58.694824Z",
     "shell.execute_reply.started": "2022-03-17T07:50:47.995155Z"
    },
    "papermill": {
     "duration": 0.128134,
     "end_time": "2022-03-17T11:39:58.695020",
     "exception": false,
     "start_time": "2022-03-17T11:39:58.566886",
     "status": "completed"
    },
    "tags": []
   },
   "outputs": [],
   "source": [
    "dataset = pd.get_dummies(dataset, columns = [\"Title\"])\n",
    "dataset = pd.get_dummies(dataset, columns = [\"Embarked\"], prefix=\"Em\")"
   ]
  },
  {
   "cell_type": "code",
   "execution_count": 45,
   "id": "cc2fde58",
   "metadata": {
    "execution": {
     "iopub.execute_input": "2022-03-17T11:39:58.927823Z",
     "iopub.status.busy": "2022-03-17T11:39:58.927161Z",
     "iopub.status.idle": "2022-03-17T11:39:58.946787Z",
     "shell.execute_reply": "2022-03-17T11:39:58.947421Z",
     "shell.execute_reply.started": "2022-03-17T07:50:48.015986Z"
    },
    "papermill": {
     "duration": 0.138658,
     "end_time": "2022-03-17T11:39:58.947598",
     "exception": false,
     "start_time": "2022-03-17T11:39:58.808940",
     "status": "completed"
    },
    "tags": []
   },
   "outputs": [
    {
     "data": {
      "text/html": [
       "<div>\n",
       "<style scoped>\n",
       "    .dataframe tbody tr th:only-of-type {\n",
       "        vertical-align: middle;\n",
       "    }\n",
       "\n",
       "    .dataframe tbody tr th {\n",
       "        vertical-align: top;\n",
       "    }\n",
       "\n",
       "    .dataframe thead th {\n",
       "        text-align: right;\n",
       "    }\n",
       "</style>\n",
       "<table border=\"1\" class=\"dataframe\">\n",
       "  <thead>\n",
       "    <tr style=\"text-align: right;\">\n",
       "      <th></th>\n",
       "      <th>PassengerId</th>\n",
       "      <th>Survived</th>\n",
       "      <th>Pclass</th>\n",
       "      <th>Sex</th>\n",
       "      <th>Age</th>\n",
       "      <th>SibSp</th>\n",
       "      <th>Parch</th>\n",
       "      <th>Ticket</th>\n",
       "      <th>Fare</th>\n",
       "      <th>Cabin</th>\n",
       "      <th>...</th>\n",
       "      <th>SmallF</th>\n",
       "      <th>MedF</th>\n",
       "      <th>LargeF</th>\n",
       "      <th>Title_0</th>\n",
       "      <th>Title_1</th>\n",
       "      <th>Title_2</th>\n",
       "      <th>Title_3</th>\n",
       "      <th>Em_C</th>\n",
       "      <th>Em_Q</th>\n",
       "      <th>Em_S</th>\n",
       "    </tr>\n",
       "  </thead>\n",
       "  <tbody>\n",
       "    <tr>\n",
       "      <th>0</th>\n",
       "      <td>1</td>\n",
       "      <td>0.0</td>\n",
       "      <td>3</td>\n",
       "      <td>0</td>\n",
       "      <td>22.0</td>\n",
       "      <td>1</td>\n",
       "      <td>0</td>\n",
       "      <td>A/5 21171</td>\n",
       "      <td>1.981001</td>\n",
       "      <td>NaN</td>\n",
       "      <td>...</td>\n",
       "      <td>1</td>\n",
       "      <td>0</td>\n",
       "      <td>0</td>\n",
       "      <td>0</td>\n",
       "      <td>0</td>\n",
       "      <td>1</td>\n",
       "      <td>0</td>\n",
       "      <td>0</td>\n",
       "      <td>0</td>\n",
       "      <td>1</td>\n",
       "    </tr>\n",
       "    <tr>\n",
       "      <th>1</th>\n",
       "      <td>2</td>\n",
       "      <td>1.0</td>\n",
       "      <td>1</td>\n",
       "      <td>1</td>\n",
       "      <td>38.0</td>\n",
       "      <td>1</td>\n",
       "      <td>0</td>\n",
       "      <td>PC 17599</td>\n",
       "      <td>4.266662</td>\n",
       "      <td>C85</td>\n",
       "      <td>...</td>\n",
       "      <td>1</td>\n",
       "      <td>0</td>\n",
       "      <td>0</td>\n",
       "      <td>0</td>\n",
       "      <td>1</td>\n",
       "      <td>0</td>\n",
       "      <td>0</td>\n",
       "      <td>1</td>\n",
       "      <td>0</td>\n",
       "      <td>0</td>\n",
       "    </tr>\n",
       "    <tr>\n",
       "      <th>2</th>\n",
       "      <td>3</td>\n",
       "      <td>1.0</td>\n",
       "      <td>3</td>\n",
       "      <td>1</td>\n",
       "      <td>26.0</td>\n",
       "      <td>0</td>\n",
       "      <td>0</td>\n",
       "      <td>STON/O2. 3101282</td>\n",
       "      <td>2.070022</td>\n",
       "      <td>NaN</td>\n",
       "      <td>...</td>\n",
       "      <td>0</td>\n",
       "      <td>0</td>\n",
       "      <td>0</td>\n",
       "      <td>0</td>\n",
       "      <td>1</td>\n",
       "      <td>0</td>\n",
       "      <td>0</td>\n",
       "      <td>0</td>\n",
       "      <td>0</td>\n",
       "      <td>1</td>\n",
       "    </tr>\n",
       "    <tr>\n",
       "      <th>3</th>\n",
       "      <td>4</td>\n",
       "      <td>1.0</td>\n",
       "      <td>1</td>\n",
       "      <td>1</td>\n",
       "      <td>35.0</td>\n",
       "      <td>1</td>\n",
       "      <td>0</td>\n",
       "      <td>113803</td>\n",
       "      <td>3.972177</td>\n",
       "      <td>C123</td>\n",
       "      <td>...</td>\n",
       "      <td>1</td>\n",
       "      <td>0</td>\n",
       "      <td>0</td>\n",
       "      <td>0</td>\n",
       "      <td>1</td>\n",
       "      <td>0</td>\n",
       "      <td>0</td>\n",
       "      <td>0</td>\n",
       "      <td>0</td>\n",
       "      <td>1</td>\n",
       "    </tr>\n",
       "    <tr>\n",
       "      <th>4</th>\n",
       "      <td>5</td>\n",
       "      <td>0.0</td>\n",
       "      <td>3</td>\n",
       "      <td>0</td>\n",
       "      <td>35.0</td>\n",
       "      <td>0</td>\n",
       "      <td>0</td>\n",
       "      <td>373450</td>\n",
       "      <td>2.085672</td>\n",
       "      <td>NaN</td>\n",
       "      <td>...</td>\n",
       "      <td>0</td>\n",
       "      <td>0</td>\n",
       "      <td>0</td>\n",
       "      <td>0</td>\n",
       "      <td>0</td>\n",
       "      <td>1</td>\n",
       "      <td>0</td>\n",
       "      <td>0</td>\n",
       "      <td>0</td>\n",
       "      <td>1</td>\n",
       "    </tr>\n",
       "  </tbody>\n",
       "</table>\n",
       "<p>5 rows × 22 columns</p>\n",
       "</div>"
      ],
      "text/plain": [
       "   PassengerId  Survived  Pclass  Sex   Age  SibSp  Parch            Ticket  \\\n",
       "0            1       0.0       3    0  22.0      1      0         A/5 21171   \n",
       "1            2       1.0       1    1  38.0      1      0          PC 17599   \n",
       "2            3       1.0       3    1  26.0      0      0  STON/O2. 3101282   \n",
       "3            4       1.0       1    1  35.0      1      0            113803   \n",
       "4            5       0.0       3    0  35.0      0      0            373450   \n",
       "\n",
       "       Fare Cabin  ...  SmallF  MedF  LargeF  Title_0  Title_1  Title_2  \\\n",
       "0  1.981001   NaN  ...       1     0       0        0        0        1   \n",
       "1  4.266662   C85  ...       1     0       0        0        1        0   \n",
       "2  2.070022   NaN  ...       0     0       0        0        1        0   \n",
       "3  3.972177  C123  ...       1     0       0        0        1        0   \n",
       "4  2.085672   NaN  ...       0     0       0        0        0        1   \n",
       "\n",
       "   Title_3  Em_C  Em_Q  Em_S  \n",
       "0        0     0     0     1  \n",
       "1        0     1     0     0  \n",
       "2        0     0     0     1  \n",
       "3        0     0     0     1  \n",
       "4        0     0     0     1  \n",
       "\n",
       "[5 rows x 22 columns]"
      ]
     },
     "execution_count": 45,
     "metadata": {},
     "output_type": "execute_result"
    }
   ],
   "source": [
    "dataset.head()"
   ]
  },
  {
   "cell_type": "markdown",
   "id": "8ab2421d",
   "metadata": {
    "papermill": {
     "duration": 0.111994,
     "end_time": "2022-03-17T11:39:59.172550",
     "exception": false,
     "start_time": "2022-03-17T11:39:59.060556",
     "status": "completed"
    },
    "tags": []
   },
   "source": [
    "### Cabin"
   ]
  },
  {
   "cell_type": "code",
   "execution_count": 46,
   "id": "df36ce28",
   "metadata": {
    "execution": {
     "iopub.execute_input": "2022-03-17T11:39:59.400672Z",
     "iopub.status.busy": "2022-03-17T11:39:59.399935Z",
     "iopub.status.idle": "2022-03-17T11:39:59.406050Z",
     "shell.execute_reply": "2022-03-17T11:39:59.406586Z",
     "shell.execute_reply.started": "2022-03-17T07:50:48.043474Z"
    },
    "papermill": {
     "duration": 0.120637,
     "end_time": "2022-03-17T11:39:59.406759",
     "exception": false,
     "start_time": "2022-03-17T11:39:59.286122",
     "status": "completed"
    },
    "tags": []
   },
   "outputs": [
    {
     "data": {
      "text/plain": [
       "0     NaN\n",
       "1     C85\n",
       "2     NaN\n",
       "3    C123\n",
       "4     NaN\n",
       "Name: Cabin, dtype: object"
      ]
     },
     "execution_count": 46,
     "metadata": {},
     "output_type": "execute_result"
    }
   ],
   "source": [
    "dataset['Cabin'].head()"
   ]
  },
  {
   "cell_type": "code",
   "execution_count": 47,
   "id": "a65ecb6b",
   "metadata": {
    "execution": {
     "iopub.execute_input": "2022-03-17T11:39:59.636923Z",
     "iopub.status.busy": "2022-03-17T11:39:59.636057Z",
     "iopub.status.idle": "2022-03-17T11:39:59.644929Z",
     "shell.execute_reply": "2022-03-17T11:39:59.645506Z",
     "shell.execute_reply.started": "2022-03-17T07:50:48.056908Z"
    },
    "papermill": {
     "duration": 0.126249,
     "end_time": "2022-03-17T11:39:59.645715",
     "exception": false,
     "start_time": "2022-03-17T11:39:59.519466",
     "status": "completed"
    },
    "tags": []
   },
   "outputs": [
    {
     "data": {
      "text/plain": [
       "count             295\n",
       "unique            186\n",
       "top       C23 C25 C27\n",
       "freq                6\n",
       "Name: Cabin, dtype: object"
      ]
     },
     "execution_count": 47,
     "metadata": {},
     "output_type": "execute_result"
    }
   ],
   "source": [
    "dataset['Cabin'].describe()"
   ]
  },
  {
   "cell_type": "code",
   "execution_count": 48,
   "id": "9f127126",
   "metadata": {
    "execution": {
     "iopub.execute_input": "2022-03-17T11:39:59.885530Z",
     "iopub.status.busy": "2022-03-17T11:39:59.884822Z",
     "iopub.status.idle": "2022-03-17T11:39:59.887493Z",
     "shell.execute_reply": "2022-03-17T11:39:59.887962Z",
     "shell.execute_reply.started": "2022-03-17T07:50:48.071418Z"
    },
    "papermill": {
     "duration": 0.127414,
     "end_time": "2022-03-17T11:39:59.888150",
     "exception": false,
     "start_time": "2022-03-17T11:39:59.760736",
     "status": "completed"
    },
    "tags": []
   },
   "outputs": [
    {
     "data": {
      "text/plain": [
       "1014"
      ]
     },
     "execution_count": 48,
     "metadata": {},
     "output_type": "execute_result"
    }
   ],
   "source": [
    "dataset[\"Cabin\"].isnull().sum()"
   ]
  },
  {
   "cell_type": "markdown",
   "id": "c770fa64",
   "metadata": {
    "papermill": {
     "duration": 0.11442,
     "end_time": "2022-03-17T11:40:00.115728",
     "exception": false,
     "start_time": "2022-03-17T11:40:00.001308",
     "status": "completed"
    },
    "tags": []
   },
   "source": [
    "- cabin은 292의 값과 1007의 결측치가 있다\n",
    "- cabin이 없는 승객은 결측치를 cabin숫자 대신으로 사용한다."
   ]
  },
  {
   "cell_type": "code",
   "execution_count": 49,
   "id": "d700eadd",
   "metadata": {
    "execution": {
     "iopub.execute_input": "2022-03-17T11:40:00.345581Z",
     "iopub.status.busy": "2022-03-17T11:40:00.344886Z",
     "iopub.status.idle": "2022-03-17T11:40:00.351898Z",
     "shell.execute_reply": "2022-03-17T11:40:00.352510Z",
     "shell.execute_reply.started": "2022-03-17T07:50:48.088046Z"
    },
    "papermill": {
     "duration": 0.124494,
     "end_time": "2022-03-17T11:40:00.352694",
     "exception": false,
     "start_time": "2022-03-17T11:40:00.228200",
     "status": "completed"
    },
    "tags": []
   },
   "outputs": [
    {
     "data": {
      "text/plain": [
       "1      C85\n",
       "3     C123\n",
       "6      E46\n",
       "10      G6\n",
       "11    C103\n",
       "Name: Cabin, dtype: object"
      ]
     },
     "execution_count": 49,
     "metadata": {},
     "output_type": "execute_result"
    }
   ],
   "source": [
    "dataset['Cabin'][dataset['Cabin'].notnull()].head()"
   ]
  },
  {
   "cell_type": "code",
   "execution_count": 50,
   "id": "6f48401b",
   "metadata": {
    "execution": {
     "iopub.execute_input": "2022-03-17T11:40:00.584653Z",
     "iopub.status.busy": "2022-03-17T11:40:00.583913Z",
     "iopub.status.idle": "2022-03-17T11:40:00.591373Z",
     "shell.execute_reply": "2022-03-17T11:40:00.591884Z",
     "shell.execute_reply.started": "2022-03-17T07:50:48.104006Z"
    },
    "papermill": {
     "duration": 0.126019,
     "end_time": "2022-03-17T11:40:00.592056",
     "exception": false,
     "start_time": "2022-03-17T11:40:00.466037",
     "status": "completed"
    },
    "tags": []
   },
   "outputs": [],
   "source": [
    "dataset['Cabin'] = pd.Series((i[0] if not pd.isnull(i) else 'X' for i in dataset['Cabin']))"
   ]
  },
  {
   "cell_type": "code",
   "execution_count": 51,
   "id": "7784ba56",
   "metadata": {
    "execution": {
     "iopub.execute_input": "2022-03-17T11:40:00.823260Z",
     "iopub.status.busy": "2022-03-17T11:40:00.822577Z",
     "iopub.status.idle": "2022-03-17T11:40:01.070927Z",
     "shell.execute_reply": "2022-03-17T11:40:01.070291Z",
     "shell.execute_reply.started": "2022-03-17T07:50:48.119630Z"
    },
    "papermill": {
     "duration": 0.364668,
     "end_time": "2022-03-17T11:40:01.071068",
     "exception": false,
     "start_time": "2022-03-17T11:40:00.706400",
     "status": "completed"
    },
    "tags": []
   },
   "outputs": [
    {
     "data": {
      "image/png": "[encoded data removed]",
      "text/plain": [
       "<Figure size 432x288 with 1 Axes>"
      ]
     },
     "metadata": {},
     "output_type": "display_data"
    }
   ],
   "source": [
    "g = sns.countplot(dataset['Cabin'], order =['A','B','C','D','E','F','G','T','X'])\n",
    "# order : 정렬"
   ]
  },
  {
   "cell_type": "code",
   "execution_count": 52,
   "id": "327a38fe",
   "metadata": {
    "execution": {
     "iopub.execute_input": "2022-03-17T11:40:01.311505Z",
     "iopub.status.busy": "2022-03-17T11:40:01.310260Z",
     "iopub.status.idle": "2022-03-17T11:40:01.970836Z",
     "shell.execute_reply": "2022-03-17T11:40:01.969889Z",
     "shell.execute_reply.started": "2022-03-17T07:50:48.382564Z"
    },
    "papermill": {
     "duration": 0.784723,
     "end_time": "2022-03-17T11:40:01.971069",
     "exception": false,
     "start_time": "2022-03-17T11:40:01.186346",
     "status": "completed"
    },
    "tags": []
   },
   "outputs": [
    {
     "data": {
      "image/png": "[encoded data removed]",
      "text/plain": [
       "<Figure size 360x360 with 1 Axes>"
      ]
     },
     "metadata": {},
     "output_type": "display_data"
    }
   ],
   "source": [
    "g = sns.factorplot(y=\"Survived\",x=\"Cabin\",data=dataset,kind=\"bar\",order=['A','B','C','D','E','F','G','T','X'])\n",
    "g = g.set_ylabels(\"Survival Probability\")"
   ]
  },
  {
   "cell_type": "markdown",
   "id": "d57c3637",
   "metadata": {
    "papermill": {
     "duration": 0.115949,
     "end_time": "2022-03-17T11:40:02.205443",
     "exception": false,
     "start_time": "2022-03-17T11:40:02.089494",
     "status": "completed"
    },
    "tags": []
   },
   "source": [
    "- 일반적으로 cabin을 가지고 있는 사람이 더 적어서  생존 확률은 중요한 표준 편차를 가지게 된다."
   ]
  },
  {
   "cell_type": "code",
   "execution_count": 53,
   "id": "6b3e1178",
   "metadata": {
    "execution": {
     "iopub.execute_input": "2022-03-17T11:40:02.446166Z",
     "iopub.status.busy": "2022-03-17T11:40:02.444453Z",
     "iopub.status.idle": "2022-03-17T11:40:02.449460Z",
     "shell.execute_reply": "2022-03-17T11:40:02.448893Z",
     "shell.execute_reply.started": "2022-03-17T07:50:49.069795Z"
    },
    "papermill": {
     "duration": 0.128135,
     "end_time": "2022-03-17T11:40:02.449610",
     "exception": false,
     "start_time": "2022-03-17T11:40:02.321475",
     "status": "completed"
    },
    "tags": []
   },
   "outputs": [],
   "source": [
    "dataset = pd.get_dummies(dataset, columns = ['Cabin'], prefix = 'Cabin')"
   ]
  },
  {
   "cell_type": "code",
   "execution_count": 54,
   "id": "0e7507f4",
   "metadata": {
    "execution": {
     "iopub.execute_input": "2022-03-17T11:40:02.687647Z",
     "iopub.status.busy": "2022-03-17T11:40:02.685608Z",
     "iopub.status.idle": "2022-03-17T11:40:02.706403Z",
     "shell.execute_reply": "2022-03-17T11:40:02.706882Z",
     "shell.execute_reply.started": "2022-03-17T07:50:49.083750Z"
    },
    "papermill": {
     "duration": 0.141945,
     "end_time": "2022-03-17T11:40:02.707064",
     "exception": false,
     "start_time": "2022-03-17T11:40:02.565119",
     "status": "completed"
    },
    "tags": []
   },
   "outputs": [
    {
     "data": {
      "text/html": [
       "<div>\n",
       "<style scoped>\n",
       "    .dataframe tbody tr th:only-of-type {\n",
       "        vertical-align: middle;\n",
       "    }\n",
       "\n",
       "    .dataframe tbody tr th {\n",
       "        vertical-align: top;\n",
       "    }\n",
       "\n",
       "    .dataframe thead th {\n",
       "        text-align: right;\n",
       "    }\n",
       "</style>\n",
       "<table border=\"1\" class=\"dataframe\">\n",
       "  <thead>\n",
       "    <tr style=\"text-align: right;\">\n",
       "      <th></th>\n",
       "      <th>PassengerId</th>\n",
       "      <th>Survived</th>\n",
       "      <th>Pclass</th>\n",
       "      <th>Sex</th>\n",
       "      <th>Age</th>\n",
       "      <th>SibSp</th>\n",
       "      <th>Parch</th>\n",
       "      <th>Ticket</th>\n",
       "      <th>Fare</th>\n",
       "      <th>Fsize</th>\n",
       "      <th>...</th>\n",
       "      <th>Em_S</th>\n",
       "      <th>Cabin_A</th>\n",
       "      <th>Cabin_B</th>\n",
       "      <th>Cabin_C</th>\n",
       "      <th>Cabin_D</th>\n",
       "      <th>Cabin_E</th>\n",
       "      <th>Cabin_F</th>\n",
       "      <th>Cabin_G</th>\n",
       "      <th>Cabin_T</th>\n",
       "      <th>Cabin_X</th>\n",
       "    </tr>\n",
       "  </thead>\n",
       "  <tbody>\n",
       "    <tr>\n",
       "      <th>0</th>\n",
       "      <td>1</td>\n",
       "      <td>0.0</td>\n",
       "      <td>3</td>\n",
       "      <td>0</td>\n",
       "      <td>22.0</td>\n",
       "      <td>1</td>\n",
       "      <td>0</td>\n",
       "      <td>A/5 21171</td>\n",
       "      <td>1.981001</td>\n",
       "      <td>2</td>\n",
       "      <td>...</td>\n",
       "      <td>1</td>\n",
       "      <td>0</td>\n",
       "      <td>0</td>\n",
       "      <td>0</td>\n",
       "      <td>0</td>\n",
       "      <td>0</td>\n",
       "      <td>0</td>\n",
       "      <td>0</td>\n",
       "      <td>0</td>\n",
       "      <td>1</td>\n",
       "    </tr>\n",
       "    <tr>\n",
       "      <th>1</th>\n",
       "      <td>2</td>\n",
       "      <td>1.0</td>\n",
       "      <td>1</td>\n",
       "      <td>1</td>\n",
       "      <td>38.0</td>\n",
       "      <td>1</td>\n",
       "      <td>0</td>\n",
       "      <td>PC 17599</td>\n",
       "      <td>4.266662</td>\n",
       "      <td>2</td>\n",
       "      <td>...</td>\n",
       "      <td>0</td>\n",
       "      <td>0</td>\n",
       "      <td>0</td>\n",
       "      <td>1</td>\n",
       "      <td>0</td>\n",
       "      <td>0</td>\n",
       "      <td>0</td>\n",
       "      <td>0</td>\n",
       "      <td>0</td>\n",
       "      <td>0</td>\n",
       "    </tr>\n",
       "    <tr>\n",
       "      <th>2</th>\n",
       "      <td>3</td>\n",
       "      <td>1.0</td>\n",
       "      <td>3</td>\n",
       "      <td>1</td>\n",
       "      <td>26.0</td>\n",
       "      <td>0</td>\n",
       "      <td>0</td>\n",
       "      <td>STON/O2. 3101282</td>\n",
       "      <td>2.070022</td>\n",
       "      <td>1</td>\n",
       "      <td>...</td>\n",
       "      <td>1</td>\n",
       "      <td>0</td>\n",
       "      <td>0</td>\n",
       "      <td>0</td>\n",
       "      <td>0</td>\n",
       "      <td>0</td>\n",
       "      <td>0</td>\n",
       "      <td>0</td>\n",
       "      <td>0</td>\n",
       "      <td>1</td>\n",
       "    </tr>\n",
       "    <tr>\n",
       "      <th>3</th>\n",
       "      <td>4</td>\n",
       "      <td>1.0</td>\n",
       "      <td>1</td>\n",
       "      <td>1</td>\n",
       "      <td>35.0</td>\n",
       "      <td>1</td>\n",
       "      <td>0</td>\n",
       "      <td>113803</td>\n",
       "      <td>3.972177</td>\n",
       "      <td>2</td>\n",
       "      <td>...</td>\n",
       "      <td>1</td>\n",
       "      <td>0</td>\n",
       "      <td>0</td>\n",
       "      <td>1</td>\n",
       "      <td>0</td>\n",
       "      <td>0</td>\n",
       "      <td>0</td>\n",
       "      <td>0</td>\n",
       "      <td>0</td>\n",
       "      <td>0</td>\n",
       "    </tr>\n",
       "    <tr>\n",
       "      <th>4</th>\n",
       "      <td>5</td>\n",
       "      <td>0.0</td>\n",
       "      <td>3</td>\n",
       "      <td>0</td>\n",
       "      <td>35.0</td>\n",
       "      <td>0</td>\n",
       "      <td>0</td>\n",
       "      <td>373450</td>\n",
       "      <td>2.085672</td>\n",
       "      <td>1</td>\n",
       "      <td>...</td>\n",
       "      <td>1</td>\n",
       "      <td>0</td>\n",
       "      <td>0</td>\n",
       "      <td>0</td>\n",
       "      <td>0</td>\n",
       "      <td>0</td>\n",
       "      <td>0</td>\n",
       "      <td>0</td>\n",
       "      <td>0</td>\n",
       "      <td>1</td>\n",
       "    </tr>\n",
       "  </tbody>\n",
       "</table>\n",
       "<p>5 rows × 30 columns</p>\n",
       "</div>"
      ],
      "text/plain": [
       "   PassengerId  Survived  Pclass  Sex   Age  SibSp  Parch            Ticket  \\\n",
       "0            1       0.0       3    0  22.0      1      0         A/5 21171   \n",
       "1            2       1.0       1    1  38.0      1      0          PC 17599   \n",
       "2            3       1.0       3    1  26.0      0      0  STON/O2. 3101282   \n",
       "3            4       1.0       1    1  35.0      1      0            113803   \n",
       "4            5       0.0       3    0  35.0      0      0            373450   \n",
       "\n",
       "       Fare  Fsize  ...  Em_S  Cabin_A  Cabin_B  Cabin_C  Cabin_D  Cabin_E  \\\n",
       "0  1.981001      2  ...     1        0        0        0        0        0   \n",
       "1  4.266662      2  ...     0        0        0        1        0        0   \n",
       "2  2.070022      1  ...     1        0        0        0        0        0   \n",
       "3  3.972177      2  ...     1        0        0        1        0        0   \n",
       "4  2.085672      1  ...     1        0        0        0        0        0   \n",
       "\n",
       "   Cabin_F  Cabin_G  Cabin_T  Cabin_X  \n",
       "0        0        0        0        1  \n",
       "1        0        0        0        0  \n",
       "2        0        0        0        1  \n",
       "3        0        0        0        0  \n",
       "4        0        0        0        1  \n",
       "\n",
       "[5 rows x 30 columns]"
      ]
     },
     "execution_count": 54,
     "metadata": {},
     "output_type": "execute_result"
    }
   ],
   "source": [
    "dataset.head()"
   ]
  },
  {
   "cell_type": "markdown",
   "id": "fad5d00e",
   "metadata": {
    "papermill": {
     "duration": 0.118293,
     "end_time": "2022-03-17T11:40:02.944887",
     "exception": false,
     "start_time": "2022-03-17T11:40:02.826594",
     "status": "completed"
    },
    "tags": []
   },
   "source": [
    "### Ticket - 너무 과적합되는거 같아서 일단 뺌"
   ]
  },
  {
   "cell_type": "code",
   "execution_count": 55,
   "id": "d2acb447",
   "metadata": {
    "execution": {
     "iopub.execute_input": "2022-03-17T11:40:03.181037Z",
     "iopub.status.busy": "2022-03-17T11:40:03.180282Z",
     "iopub.status.idle": "2022-03-17T11:40:03.190589Z",
     "shell.execute_reply": "2022-03-17T11:40:03.191117Z",
     "shell.execute_reply.started": "2022-03-17T07:50:49.114945Z"
    },
    "papermill": {
     "duration": 0.129804,
     "end_time": "2022-03-17T11:40:03.191318",
     "exception": false,
     "start_time": "2022-03-17T11:40:03.061514",
     "status": "completed"
    },
    "tags": []
   },
   "outputs": [
    {
     "data": {
      "text/plain": [
       "0        A5\n",
       "1        PC\n",
       "2    STONO2\n",
       "3         X\n",
       "4         X\n",
       "Name: Ticket, dtype: object"
      ]
     },
     "execution_count": 55,
     "metadata": {},
     "output_type": "execute_result"
    }
   ],
   "source": [
    "Ticket = []\n",
    "for i in list(dataset.Ticket):\n",
    "    if not i.isdigit() :\n",
    "        Ticket.append(i.replace(\".\",\"\").replace(\"/\",\"\").strip().split(' ')[0]) #Take prefix\n",
    "    else:\n",
    "        Ticket.append(\"X\")\n",
    "        \n",
    "dataset[\"Ticket\"] = Ticket\n",
    "dataset[\"Ticket\"].head()"
   ]
  },
  {
   "cell_type": "code",
   "execution_count": 56,
   "id": "2803a15b",
   "metadata": {
    "execution": {
     "iopub.execute_input": "2022-03-17T11:40:03.431905Z",
     "iopub.status.busy": "2022-03-17T11:40:03.431223Z",
     "iopub.status.idle": "2022-03-17T11:40:03.439833Z",
     "shell.execute_reply": "2022-03-17T11:40:03.440332Z",
     "shell.execute_reply.started": "2022-03-17T07:50:49.136915Z"
    },
    "papermill": {
     "duration": 0.1299,
     "end_time": "2022-03-17T11:40:03.440521",
     "exception": false,
     "start_time": "2022-03-17T11:40:03.310621",
     "status": "completed"
    },
    "tags": []
   },
   "outputs": [],
   "source": [
    "dataset = pd.get_dummies(dataset, columns = [\"Ticket\"], prefix=\"T\")"
   ]
  },
  {
   "cell_type": "code",
   "execution_count": 57,
   "id": "2ec79151",
   "metadata": {
    "execution": {
     "iopub.execute_input": "2022-03-17T11:40:03.681798Z",
     "iopub.status.busy": "2022-03-17T11:40:03.680697Z",
     "iopub.status.idle": "2022-03-17T11:40:03.687000Z",
     "shell.execute_reply": "2022-03-17T11:40:03.687534Z",
     "shell.execute_reply.started": "2022-03-17T07:50:49.154142Z"
    },
    "papermill": {
     "duration": 0.131045,
     "end_time": "2022-03-17T11:40:03.687725",
     "exception": false,
     "start_time": "2022-03-17T11:40:03.556680",
     "status": "completed"
    },
    "tags": []
   },
   "outputs": [],
   "source": [
    "dataset[\"Pclass\"] = dataset[\"Pclass\"].astype(\"category\")\n",
    "dataset = pd.get_dummies(dataset, columns = [\"Pclass\"],prefix=\"Pc\")"
   ]
  },
  {
   "cell_type": "code",
   "execution_count": 58,
   "id": "3688a048",
   "metadata": {
    "execution": {
     "iopub.execute_input": "2022-03-17T11:40:03.965557Z",
     "iopub.status.busy": "2022-03-17T11:40:03.964440Z",
     "iopub.status.idle": "2022-03-17T11:40:03.971669Z",
     "shell.execute_reply": "2022-03-17T11:40:03.972311Z",
     "shell.execute_reply.started": "2022-03-17T07:50:49.169506Z"
    },
    "papermill": {
     "duration": 0.167217,
     "end_time": "2022-03-17T11:40:03.972504",
     "exception": false,
     "start_time": "2022-03-17T11:40:03.805287",
     "status": "completed"
    },
    "tags": []
   },
   "outputs": [],
   "source": [
    "dataset.drop(labels = [\"PassengerId\"], axis = 1, inplace = True)"
   ]
  },
  {
   "cell_type": "markdown",
   "id": "8d3d63c4",
   "metadata": {
    "papermill": {
     "duration": 0.11609,
     "end_time": "2022-03-17T11:40:04.206341",
     "exception": false,
     "start_time": "2022-03-17T11:40:04.090251",
     "status": "completed"
    },
    "tags": []
   },
   "source": [
    "## model"
   ]
  },
  {
   "cell_type": "code",
   "execution_count": 59,
   "id": "8117d4da",
   "metadata": {
    "execution": {
     "iopub.execute_input": "2022-03-17T11:40:04.448042Z",
     "iopub.status.busy": "2022-03-17T11:40:04.444043Z",
     "iopub.status.idle": "2022-03-17T11:40:04.450392Z",
     "shell.execute_reply": "2022-03-17T11:40:04.450882Z",
     "shell.execute_reply.started": "2022-03-17T07:50:49.179716Z"
    },
    "papermill": {
     "duration": 0.127893,
     "end_time": "2022-03-17T11:40:04.451092",
     "exception": false,
     "start_time": "2022-03-17T11:40:04.323199",
     "status": "completed"
    },
    "tags": []
   },
   "outputs": [],
   "source": [
    "train =dataset[:train_len]\n",
    "test = dataset [train_len :]\n",
    "test.drop(labels = ['Survived'], axis = 1, inplace = True)"
   ]
  },
  {
   "cell_type": "code",
   "execution_count": 60,
   "id": "d1bc5655",
   "metadata": {
    "execution": {
     "iopub.execute_input": "2022-03-17T11:40:04.692113Z",
     "iopub.status.busy": "2022-03-17T11:40:04.691436Z",
     "iopub.status.idle": "2022-03-17T11:40:04.699010Z",
     "shell.execute_reply": "2022-03-17T11:40:04.699562Z",
     "shell.execute_reply.started": "2022-03-17T07:50:49.194847Z"
    },
    "papermill": {
     "duration": 0.13022,
     "end_time": "2022-03-17T11:40:04.699745",
     "exception": false,
     "start_time": "2022-03-17T11:40:04.569525",
     "status": "completed"
    },
    "tags": []
   },
   "outputs": [],
   "source": [
    "train[\"Survived\"] = train[\"Survived\"].astype(int)\n",
    "\n",
    "Y_train = train[\"Survived\"]\n",
    "\n",
    "X_train = train.drop(labels = [\"Survived\"],axis = 1)"
   ]
  },
  {
   "cell_type": "markdown",
   "id": "ed4a9adf",
   "metadata": {
    "papermill": {
     "duration": 0.127527,
     "end_time": "2022-03-17T11:40:04.945326",
     "exception": false,
     "start_time": "2022-03-17T11:40:04.817799",
     "status": "completed"
    },
    "tags": []
   },
   "source": [
    "- 10개의 대표적인 모델들을 사용해 교차검증을 해서 정확도 예측"
   ]
  },
  {
   "cell_type": "code",
   "execution_count": 61,
   "id": "6358e33b",
   "metadata": {
    "execution": {
     "iopub.execute_input": "2022-03-17T11:40:05.186511Z",
     "iopub.status.busy": "2022-03-17T11:40:05.185859Z",
     "iopub.status.idle": "2022-03-17T11:40:05.189552Z",
     "shell.execute_reply": "2022-03-17T11:40:05.190112Z",
     "shell.execute_reply.started": "2022-03-17T07:50:49.211699Z"
    },
    "papermill": {
     "duration": 0.124112,
     "end_time": "2022-03-17T11:40:05.190308",
     "exception": false,
     "start_time": "2022-03-17T11:40:05.066196",
     "status": "completed"
    },
    "tags": []
   },
   "outputs": [],
   "source": [
    "kfold = StratifiedKFold(n_splits = 10)"
   ]
  },
  {
   "cell_type": "code",
   "execution_count": 62,
   "id": "a0a55ee9",
   "metadata": {
    "execution": {
     "iopub.execute_input": "2022-03-17T11:40:05.430324Z",
     "iopub.status.busy": "2022-03-17T11:40:05.429630Z",
     "iopub.status.idle": "2022-03-17T11:40:14.610100Z",
     "shell.execute_reply": "2022-03-17T11:40:14.609426Z",
     "shell.execute_reply.started": "2022-03-17T07:56:45.661106Z"
    },
    "papermill": {
     "duration": 9.302759,
     "end_time": "2022-03-17T11:40:14.610268",
     "exception": false,
     "start_time": "2022-03-17T11:40:05.307509",
     "status": "completed"
    },
    "tags": []
   },
   "outputs": [
    {
     "data": {
      "image/png": "[encoded data removed]",
      "text/plain": [
       "<Figure size 432x288 with 1 Axes>"
      ]
     },
     "metadata": {},
     "output_type": "display_data"
    }
   ],
   "source": [
    "random_state = 2\n",
    "classifiers = []\n",
    "classifiers.append(SVC(random_state=random_state))\n",
    "classifiers.append(DecisionTreeClassifier(random_state=random_state))\n",
    "classifiers.append(AdaBoostClassifier(DecisionTreeClassifier(random_state=random_state),random_state=random_state,learning_rate=0.1))\n",
    "classifiers.append(RandomForestClassifier(random_state=random_state))\n",
    "classifiers.append(ExtraTreesClassifier(random_state=random_state))\n",
    "classifiers.append(GradientBoostingClassifier(random_state=random_state))\n",
    "classifiers.append(MLPClassifier(random_state=random_state))\n",
    "classifiers.append(KNeighborsClassifier())\n",
    "classifiers.append(LogisticRegression(random_state = random_state))\n",
    "classifiers.append(LinearDiscriminantAnalysis())\n",
    "\n",
    "cv_results = []\n",
    "for classifier in classifiers :\n",
    "    cv_results.append(cross_val_score(classifier, X_train, y = Y_train, scoring = \"accuracy\", cv = kfold, n_jobs=4))\n",
    "\n",
    "cv_means = []\n",
    "cv_std = []\n",
    "for cv_result in cv_results:\n",
    "    cv_means.append(cv_result.mean())\n",
    "    cv_std.append(cv_result.std())\n",
    "\n",
    "cv_res = pd.DataFrame({\"CrossValMeans\":cv_means,\"CrossValerrors\": cv_std,\"Algorithm\":[\"SVC\",\"DecisionTree\",\"AdaBoost\",\n",
    "\"RandomForest\",\"ExtraTrees\",\"GradientBoosting\",\"MultipleLayerPerceptron\",\"KNeighboors\",\"LogisticRegression\",\"LinearDiscriminantAnalysis\"]})\n",
    "\n",
    "g = sns.barplot(\"CrossValMeans\",\"Algorithm\",data = cv_res, palette=\"Set3\",orient = \"h\",**{'xerr':cv_std})\n",
    "g.set_xlabel(\"Mean Accuracy\")\n",
    "g = g.set_title(\"Cross validation scores\")"
   ]
  },
  {
   "cell_type": "code",
   "execution_count": null,
   "id": "93dcf7dd",
   "metadata": {
    "papermill": {
     "duration": 0.121385,
     "end_time": "2022-03-17T11:40:14.851866",
     "exception": false,
     "start_time": "2022-03-17T11:40:14.730481",
     "status": "completed"
    },
    "tags": []
   },
   "outputs": [],
   "source": []
  },
  {
   "cell_type": "code",
   "execution_count": null,
   "id": "b9b88d9e",
   "metadata": {
    "papermill": {
     "duration": 0.1174,
     "end_time": "2022-03-17T11:40:15.117188",
     "exception": false,
     "start_time": "2022-03-17T11:40:14.999788",
     "status": "completed"
    },
    "tags": []
   },
   "outputs": [],
   "source": []
  },
  {
   "cell_type": "code",
   "execution_count": null,
   "id": "9e4ae8bf",
   "metadata": {
    "papermill": {
     "duration": 0.118318,
     "end_time": "2022-03-17T11:40:15.352508",
     "exception": false,
     "start_time": "2022-03-17T11:40:15.234190",
     "status": "completed"
    },
    "tags": []
   },
   "outputs": [],
   "source": []
  },
  {
   "cell_type": "code",
   "execution_count": null,
   "id": "c5781993",
   "metadata": {
    "papermill": {
     "duration": 0.118513,
     "end_time": "2022-03-17T11:40:15.589765",
     "exception": false,
     "start_time": "2022-03-17T11:40:15.471252",
     "status": "completed"
    },
    "tags": []
   },
   "outputs": [],
   "source": []
  },
  {
   "cell_type": "code",
   "execution_count": null,
   "id": "7aba1238",
   "metadata": {
    "papermill": {
     "duration": 0.119185,
     "end_time": "2022-03-17T11:40:15.826857",
     "exception": false,
     "start_time": "2022-03-17T11:40:15.707672",
     "status": "completed"
    },
    "tags": []
   },
   "outputs": [],
   "source": []
  }
 ],
 "metadata": {
  "kernelspec": {
   "display_name": "Python 3",
   "language": "python",
   "name": "python3"
  },
  "language_info": {
   "codemirror_mode": {
    "name": "ipython",
    "version": 3
   },
   "file_extension": ".py",
   "mimetype": "text/x-python",
   "name": "python",
   "nbconvert_exporter": "python",
   "pygments_lexer": "ipython3",
   "version": "3.7.12"
  },
  "papermill": {
   "default_parameters": {},
   "duration": 54.489273,
   "end_time": "2022-03-17T11:40:16.857482",
   "environment_variables": {},
   "exception": null,
   "input_path": "__notebook__.ipynb",
   "output_path": "__notebook__.ipynb",
   "parameters": {},
   "start_time": "2022-03-17T11:39:22.368209",
   "version": "2.3.3"
  }
 },
 "nbformat": 4,
 "nbformat_minor": 5
}
