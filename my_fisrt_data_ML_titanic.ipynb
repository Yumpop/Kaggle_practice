{
 "cells": [
  {
   "cell_type": "code",
   "execution_count": 1,
   "id": "b838dab5",
   "metadata": {
    "_cell_guid": "b1076dfc-b9ad-4769-8c92-a6c4dae69d19",
    "_uuid": "8f2839f25d086af736a60e9eeb907d3b93b6e0e5",
    "execution": {
     "iopub.execute_input": "2022-02-20T14:54:20.104389Z",
     "iopub.status.busy": "2022-02-20T14:54:20.098169Z",
     "iopub.status.idle": "2022-02-20T14:54:21.754434Z",
     "shell.execute_reply": "2022-02-20T14:54:21.753597Z",
     "shell.execute_reply.started": "2022-02-20T14:48:10.405744Z"
    },
    "papermill": {
     "duration": 1.6841,
     "end_time": "2022-02-20T14:54:21.754622",
     "exception": false,
     "start_time": "2022-02-20T14:54:20.070522",
     "status": "completed"
    },
    "tags": []
   },
   "outputs": [],
   "source": [
    "import numpy as np\n",
    "import pandas as pd\n",
    "from pandas import Series\n",
    "import matplotlib.pyplot as plt\n",
    "import seaborn as sns\n",
    "\n",
    "plt.style.use('seaborn')\n",
    "sns.set(font_scale = 2.5)\n",
    "\n",
    "import plotly.offline as py\n",
    "import plotly.graph_objs as go\n",
    "import plotly.tools as tls\n",
    "\n",
    "import warnings\n",
    "warnings.filterwarnings('ignore')\n",
    "\n",
    "%matplotlib inline\n",
    "\n",
    "df_train = pd.read_csv('../input/titanic/train.csv')\n",
    "df_test = pd.read_csv('../input/titanic/test.csv')\n",
    "df_train['FamilySize'] = df_train['SibSp'] + df_train['Parch'] + 1\n",
    "df_test['FamilySize'] = df_test['SibSp'] + df_train['Parch'] + 1\n",
    "\n",
    "df_test.loc[df_test.Fare.isnull(), 'Fare'] = df_test['Fare'].mean()\n",
    "\n",
    "df_train['Fare'] = df_train['Fare'].map(lambda i : np.log(i) if i >0 else 0)\n",
    "df_test['Fare'] = df_test['Fare'].map(lambda i : np.log(i) if i > 0 else 0)"
   ]
  },
  {
   "cell_type": "markdown",
   "id": "5a46b5fb",
   "metadata": {
    "papermill": {
     "duration": 0.012334,
     "end_time": "2022-02-20T14:54:21.783011",
     "exception": false,
     "start_time": "2022-02-20T14:54:21.770677",
     "status": "completed"
    },
    "tags": []
   },
   "source": [
    "- loc : 행, 열 조회하는 메서드\n",
    "# NUll data 채우기\n",
    "- Age의 null데이터를 이름을 가지고 채워주기\n",
    "- pandas는 data를 str로 바꿔주는 str메서드, 정규표현식을 사용해서 추출해주는 extract함수가 있다."
   ]
  },
  {
   "cell_type": "code",
   "execution_count": 2,
   "id": "af1d2506",
   "metadata": {
    "execution": {
     "iopub.execute_input": "2022-02-20T14:54:21.819473Z",
     "iopub.status.busy": "2022-02-20T14:54:21.818791Z",
     "iopub.status.idle": "2022-02-20T14:54:21.822461Z",
     "shell.execute_reply": "2022-02-20T14:54:21.822985Z",
     "shell.execute_reply.started": "2022-02-20T14:43:16.230332Z"
    },
    "papermill": {
     "duration": 0.02716,
     "end_time": "2022-02-20T14:54:21.823180",
     "exception": false,
     "start_time": "2022-02-20T14:54:21.796020",
     "status": "completed"
    },
    "tags": []
   },
   "outputs": [
    {
     "data": {
      "text/plain": [
       "177"
      ]
     },
     "execution_count": 2,
     "metadata": {},
     "output_type": "execute_result"
    }
   ],
   "source": [
    "df_train['Age'].isnull().sum()"
   ]
  },
  {
   "cell_type": "code",
   "execution_count": 3,
   "id": "9704c055",
   "metadata": {
    "execution": {
     "iopub.execute_input": "2022-02-20T14:54:21.860740Z",
     "iopub.status.busy": "2022-02-20T14:54:21.859918Z",
     "iopub.status.idle": "2022-02-20T14:54:21.865477Z",
     "shell.execute_reply": "2022-02-20T14:54:21.866032Z",
     "shell.execute_reply.started": "2022-02-20T14:43:41.679068Z"
    },
    "papermill": {
     "duration": 0.027153,
     "end_time": "2022-02-20T14:54:21.866236",
     "exception": false,
     "start_time": "2022-02-20T14:54:21.839083",
     "status": "completed"
    },
    "tags": []
   },
   "outputs": [
    {
     "data": {
      "text/plain": [
       "29.69911764705882"
      ]
     },
     "execution_count": 3,
     "metadata": {},
     "output_type": "execute_result"
    }
   ],
   "source": [
    "df_train['Age'].mean()"
   ]
  },
  {
   "cell_type": "code",
   "execution_count": 4,
   "id": "feea405a",
   "metadata": {
    "execution": {
     "iopub.execute_input": "2022-02-20T14:54:21.902400Z",
     "iopub.status.busy": "2022-02-20T14:54:21.901625Z",
     "iopub.status.idle": "2022-02-20T14:54:21.910851Z",
     "shell.execute_reply": "2022-02-20T14:54:21.911354Z",
     "shell.execute_reply.started": "2022-02-20T14:48:32.307641Z"
    },
    "papermill": {
     "duration": 0.028846,
     "end_time": "2022-02-20T14:54:21.911542",
     "exception": false,
     "start_time": "2022-02-20T14:54:21.882696",
     "status": "completed"
    },
    "tags": []
   },
   "outputs": [
    {
     "data": {
      "text/plain": [
       "0                                Braund, Mr. Owen Harris\n",
       "1      Cumings, Mrs. John Bradley (Florence Briggs Th...\n",
       "2                                 Heikkinen, Miss. Laina\n",
       "3           Futrelle, Mrs. Jacques Heath (Lily May Peel)\n",
       "4                               Allen, Mr. William Henry\n",
       "                             ...                        \n",
       "886                                Montvila, Rev. Juozas\n",
       "887                         Graham, Miss. Margaret Edith\n",
       "888             Johnston, Miss. Catherine Helen \"Carrie\"\n",
       "889                                Behr, Mr. Karl Howell\n",
       "890                                  Dooley, Mr. Patrick\n",
       "Name: Name, Length: 891, dtype: object"
      ]
     },
     "execution_count": 4,
     "metadata": {},
     "output_type": "execute_result"
    }
   ],
   "source": [
    "df_train['Name']"
   ]
  },
  {
   "cell_type": "code",
   "execution_count": null,
   "id": "364c96f2",
   "metadata": {
    "papermill": {
     "duration": 0.013715,
     "end_time": "2022-02-20T14:54:21.939275",
     "exception": false,
     "start_time": "2022-02-20T14:54:21.925560",
     "status": "completed"
    },
    "tags": []
   },
   "outputs": [],
   "source": []
  },
  {
   "cell_type": "code",
   "execution_count": null,
   "id": "969c732c",
   "metadata": {
    "papermill": {
     "duration": 0.014203,
     "end_time": "2022-02-20T14:54:21.967748",
     "exception": false,
     "start_time": "2022-02-20T14:54:21.953545",
     "status": "completed"
    },
    "tags": []
   },
   "outputs": [],
   "source": []
  },
  {
   "cell_type": "code",
   "execution_count": null,
   "id": "8f9fbda6",
   "metadata": {
    "papermill": {
     "duration": 0.015881,
     "end_time": "2022-02-20T14:54:21.999770",
     "exception": false,
     "start_time": "2022-02-20T14:54:21.983889",
     "status": "completed"
    },
    "tags": []
   },
   "outputs": [],
   "source": []
  },
  {
   "cell_type": "code",
   "execution_count": null,
   "id": "d655f7f1",
   "metadata": {
    "papermill": {
     "duration": 0.014718,
     "end_time": "2022-02-20T14:54:22.028409",
     "exception": false,
     "start_time": "2022-02-20T14:54:22.013691",
     "status": "completed"
    },
    "tags": []
   },
   "outputs": [],
   "source": []
  },
  {
   "cell_type": "code",
   "execution_count": null,
   "id": "f0626a2e",
   "metadata": {
    "papermill": {
     "duration": 0.018259,
     "end_time": "2022-02-20T14:54:22.064193",
     "exception": false,
     "start_time": "2022-02-20T14:54:22.045934",
     "status": "completed"
    },
    "tags": []
   },
   "outputs": [],
   "source": []
  },
  {
   "cell_type": "code",
   "execution_count": null,
   "id": "e40dd942",
   "metadata": {
    "papermill": {
     "duration": 0.020147,
     "end_time": "2022-02-20T14:54:22.098319",
     "exception": false,
     "start_time": "2022-02-20T14:54:22.078172",
     "status": "completed"
    },
    "tags": []
   },
   "outputs": [],
   "source": []
  },
  {
   "cell_type": "code",
   "execution_count": null,
   "id": "76561f64",
   "metadata": {
    "papermill": {
     "duration": 0.015774,
     "end_time": "2022-02-20T14:54:22.130992",
     "exception": false,
     "start_time": "2022-02-20T14:54:22.115218",
     "status": "completed"
    },
    "tags": []
   },
   "outputs": [],
   "source": []
  },
  {
   "cell_type": "code",
   "execution_count": null,
   "id": "ee733689",
   "metadata": {
    "papermill": {
     "duration": 0.016487,
     "end_time": "2022-02-20T14:54:22.168103",
     "exception": false,
     "start_time": "2022-02-20T14:54:22.151616",
     "status": "completed"
    },
    "tags": []
   },
   "outputs": [],
   "source": []
  }
 ],
 "metadata": {
  "kernelspec": {
   "display_name": "Python 3",
   "language": "python",
   "name": "python3"
  },
  "language_info": {
   "codemirror_mode": {
    "name": "ipython",
    "version": 3
   },
   "file_extension": ".py",
   "mimetype": "text/x-python",
   "name": "python",
   "nbconvert_exporter": "python",
   "pygments_lexer": "ipython3",
   "version": "3.7.12"
  },
  "papermill": {
   "default_parameters": {},
   "duration": 20.399851,
   "end_time": "2022-02-20T14:54:23.004702",
   "environment_variables": {},
   "exception": null,
   "input_path": "__notebook__.ipynb",
   "output_path": "__notebook__.ipynb",
   "parameters": {},
   "start_time": "2022-02-20T14:54:02.604851",
   "version": "2.3.3"
  }
 },
 "nbformat": 4,
 "nbformat_minor": 5
}
